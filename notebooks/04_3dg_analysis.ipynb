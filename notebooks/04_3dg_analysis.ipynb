{
 "cells": [
  {
   "attachments": {},
   "cell_type": "markdown",
   "id": "b065f827-b8e4-4dca-b556-f79bca0baf35",
   "metadata": {},
   "source": [
    "## Analysis of 3dG vs standard 10x TSO\n",
    "\n",
    "This experiment is part of figure 3, as a solution to the high rate of TSO artifacts in 10x 3' data. We have two experiments: a standard 10x 3' library run on PBMCs (not the same batch as other experiments), and a modified 10x 3' run with a custom 3dG TSO to prevent artifact formation.\n",
    "\n",
    "__Long-read monomer PBMC__ - run on two SMRTcell lanes, `m84174_240308_153036_s3` (control TSO) and `m84174_240308_173005_s4` (3dg TSO)\n",
    "   * Raw data: [`gs://mdl-sc-isoform-2025-ms/sequencing_data/3dg_monomer`](https://console.cloud.google.com/storage/browser/mdl-sc-isoform-2025-ms/sequencing_data/3dg_monomer)\n",
    "   \n",
    "To download: `gcloud storage rsync -r gs://mdl-sc-isoform-2025-ms/sequencing_data/3dg_monomer path/for/data`\n",
    "\n",
    "Total size is 2.7G.\n",
    "\n",
    "__Short-read data__ - The short-read libraries were sequenced on a NovaSeq S4, demultiplexed and process in the same manner as the earlier short-read data. \n",
    "  * `fastq.gz` files: [`gs://mdl-sc-isoform-2025-ms/sequencing_data/3dg_illumina`](https://console.cloud.google.com/storage/browser/mdl-sc-isoform-2025-ms/sequencing_data/3dg_illumina)\n",
    "  * Output from CellRanger: [`gs://mdl-sc-isoform-2025-ms/control-tso_10x_3p`](https://console.cloud.google.com/storage/browser/mdl-sc-isoform-2025-ms/control-tso_10x_3p) and [`gs://mdl-sc-isoform-2025-ms/3dg-tso_10x_3p`](https://console.cloud.google.com/storage/browser/mdl-sc-isoform-2025-ms/3dg-tso_10x_3p)\n",
    "\n",
    "### Short-read processing\n",
    "\n",
    "To process the short-read data we ran CellRanger as before. The 3dG TSO does not affect the structure of the sequences, so the standard software works without modification. We consolidate the summary data from the CellRanger output for Supplementary Table 3.\n",
    "\n",
    "### Long-read processing\n",
    "\n",
    "The analysis of the long-read data is relatively simple. There are no indexing sequences being used, and we just need to run `marti` to classify artifacts.\n",
    "\n",
    "The `structure_counts.tsv` files from running `marti` are at [`gs://mdl-sc-isoform-2025-ms/notebook_checkpoints/3dg_marti_output.tgz`](https://console.cloud.google.com/storage/browser/mdl-sc-isoform-2025-ms/notebook_checkpoints/3dg_marti_output.tgz).\n",
    "\n",
    "For the MAS-seq (Kinnex) data, we run `skera` to show the effect of TSO cleaning on the standard 10x 3' data."
   ]
  },
  {
   "cell_type": "code",
   "execution_count": null,
   "id": "5503fdbb-dc31-4972-8b7b-d1810fc22695",
   "metadata": {},
   "outputs": [],
   "source": [
    "import pickle\n",
    "from pathlib import Path\n",
    "\n",
    "import numpy as np\n",
    "import yaml\n",
    "\n",
    "import matplotlib.pyplot as plt\n",
    "import matplotlib.ticker as mtick\n",
    "\n",
    "from mdl.sc_isoform_paper import today\n",
    "from mdl.sc_isoform_paper.marti import CONFIG_DICT, SAMPLE_CONFIG, read_sample_reports\n",
    "from mdl.sc_isoform_paper.skera import read_length_csv, read_ligation_csv\n",
    "from mdl.sc_isoform_paper.plots import plot_concat_and_ligations, plot_stacked_concat"
   ]
  },
  {
   "cell_type": "markdown",
   "id": "7aa1ae74-5e17-4e32-ba2e-646690bfe064",
   "metadata": {},
   "source": [
    "### Setup"
   ]
  },
  {
   "cell_type": "code",
   "execution_count": null,
   "id": "22890b05-506d-4bf1-8335-72f5e386c2af",
   "metadata": {},
   "outputs": [],
   "source": [
    "root_dir = Path.home()\n",
    "sh_dir = root_dir / \"sh_scripts\"\n",
    "\n",
    "data_path = root_dir / \"data\"\n",
    "figure_path = root_dir / \"202501_figures\"\n",
    "\n",
    "# path to the short-read data (output from cellranger + pipseeker)\n",
    "sr_data_paths = [\n",
    "    data_path / \"3dg_shortread\" / \"MDL_DevTSO\",\n",
    "    data_path / \"3dg_shortread\" / \"MDL_ControlTSO\"\n",
    "]\n",
    "\n",
    "lr_data_path = data_path / \"3dg_monomer\"\n",
    "mas_data_path = data_path / \"3dg_masseq\""
   ]
  },
  {
   "cell_type": "code",
   "execution_count": null,
   "id": "97a4963f-9c3f-4aad-854c-8d94e557d318",
   "metadata": {},
   "outputs": [],
   "source": [
    "# path for output of skera\n",
    "skera_path = mas_data_path / f\"{today}_skera\"\n",
    "skera_path.mkdir(exist_ok=True)\n",
    "\n",
    "# path to the marti binary\n",
    "marti_bin = root_dir / \"marti/build/bin/marti\"\n",
    "\n",
    "# path for marti output\n",
    "marti_path = lr_data_path / f\"{today}_marti\"\n",
    "marti_path.mkdir(exist_ok=True)\n",
    "\n",
    "# uncomment to download and extract into the data path\n",
    "! # gcloud storage cp gs://mdl-sc-isoform-2025-ms/notebook_checkpoints/3dg_marti_outputs.tgz - | tar -C {marti_path} -xzv"
   ]
  },
  {
   "cell_type": "markdown",
   "id": "cfea1102-4326-4e06-b963-88a91abf64fc",
   "metadata": {},
   "source": [
    "### Running marti\n",
    "\n",
    "These are 10x 3' libraries, so we can use the same `marti` config for the adapters. Based on the results from notebook 03, we will use the default polya len of 20, as otherwise some TSO-TSO artifacts are misclassified.\n",
    "\n",
    "If you have downloaded the outputs, you can skip to **Reading marti results**"
   ]
  },
  {
   "cell_type": "code",
   "execution_count": null,
   "id": "77dccb7b-4f4f-4baf-babb-171ef62ed4f8",
   "metadata": {},
   "outputs": [],
   "source": [
    "lr_bams = sorted((lr_data_path / \"raw\").glob(\"*hifi_reads.bam\"))\n",
    "lr_bams"
   ]
  },
  {
   "cell_type": "code",
   "execution_count": null,
   "id": "a154574f-43d5-41a0-907f-df6a58ddd787",
   "metadata": {},
   "outputs": [],
   "source": [
    "lr_sample_names = {\n",
    "    \"m84174_240308_153036_s3.hifi_reads\": \"ControlTSO\",\n",
    "    \"m84174_240308_173005_s4.hifi_reads\": \"DevTSO\",\n",
    "}"
   ]
  },
  {
   "cell_type": "code",
   "execution_count": null,
   "id": "e44d331b-5dfb-499f-a82c-55fe51307b0b",
   "metadata": {},
   "outputs": [],
   "source": [
    "default_polya_len = { \"min_polyA_match\": 20 }\n",
    "\n",
    "with open(sh_dir / f\"{today}_3dg_marti.sh\", \"w\") as out:\n",
    "    for bam_file in lr_bams:\n",
    "        mp = marti_path / bam_file.stem\n",
    "\n",
    "        # make a run directory for each file\n",
    "        mp.mkdir(exist_ok=True)\n",
    "        config_file = mp / \"config.yaml\"\n",
    "\n",
    "        # write config file with appropriate parameters\n",
    "        with open(config_file, \"w\") as out2:\n",
    "            print(\n",
    "                 yaml.dump(\n",
    "                    {\"input_bam\": str(bam_file)}\n",
    "                     | SAMPLE_CONFIG[\"10x 3'\"]\n",
    "                     | CONFIG_DICT\n",
    "                     | default_polya_len,\n",
    "                    sort_keys=False\n",
    "                ),\n",
    "                file=out2\n",
    "            )\n",
    "\n",
    "        print(f\"{marti_bin} {config_file}\", file=out)\n"
   ]
  },
  {
   "cell_type": "markdown",
   "id": "c15669d9-2ace-4077-a260-ca1d40336a1d",
   "metadata": {},
   "source": [
    "### Reading marti results\n",
    "\n",
    "We show that the TSO-TSO artifact is essentially gone."
   ]
  },
  {
   "cell_type": "code",
   "execution_count": null,
   "id": "ea0e61a3-5d23-46f2-9fc4-a4377461ccaa",
   "metadata": {},
   "outputs": [],
   "source": [
    "sample_totals = {\n",
    "    lr_sample_names[k]: v for k,v in read_sample_reports(marti_path).items()\n",
    "}"
   ]
  },
  {
   "cell_type": "code",
   "execution_count": null,
   "id": "3374b02d-3ada-42a3-92e9-c45ec02a969c",
   "metadata": {},
   "outputs": [],
   "source": [
    "fig, ax = plt.subplots(1, 1, figsize=(3, 5))\n",
    "\n",
    "name_list = [\"ControlTSO\", \"DevTSO\"]\n",
    "\n",
    "x = np.arange(len(name_list))\n",
    "vs = np.array([sample_totals[n]['TsoTso'] for n in name_list])\n",
    "tots = np.array([sample_totals[n].total() for n in name_list])\n",
    "\n",
    "ax.bar(x, vs / tots, width=0.6)\n",
    "ax.set_xticks(x, name_list, fontsize=\"medium\", rotation=90)\n",
    "for j, (v, tot) in enumerate(zip(vs, tots)):\n",
    "    ax.annotate(\n",
    "        f\"{v:,d}\\n({(v / tot):.2%})\",\n",
    "        (j, v / tot),\n",
    "        xytext=(0, 5),\n",
    "        textcoords=\"offset points\",\n",
    "        ha=\"center\",\n",
    "        fontsize=\"small\",\n",
    "    )\n",
    "ax.margins(x=0.3, y=0.2)\n",
    "ax.yaxis.set_major_formatter(mtick.PercentFormatter(xmax=1, decimals=0))\n",
    "plt.savefig(figure_path / \"fig1f_3dg_tso.svg\")\n",
    "plt.show()"
   ]
  },
  {
   "cell_type": "markdown",
   "id": "99f3dd1b-95b4-40b1-ace7-6eccb85fea88",
   "metadata": {},
   "source": [
    "## 3dG MAS-seq processing\n",
    "\n",
    "This experiment is fairly simple: we had three MAS-seq libraries made from 10x 3' kits.\n",
    "\n",
    " * `3dGNoKBClean` - The 10x capture used a 3dG TSO to prevent artifact formation. No purification was done.\n",
    " * `ControlNoKBClean` - Standard 10x 3' kit, arrays were made without any purification.\n",
    " * `ControlWithKBClean` - Standard 10x 3' kit with a purification step to remove TSO artifacts.\n",
    "\n",
    "Here we are showing that the purification step is critically necessary for array formation when using the standard TSO, but the 3dG TSO prevents artifacts from forming and arrays can be created without issue.\n",
    "\n",
    "#### Raw data\n",
    "\n",
    "Raw data is in `gs://mdl-sc-isoform-2025-ms/sequencing_data/3dg_masseq`\n",
    "\n",
    "To download:\n",
    "```\n",
    "mkdir -p data/3dg_masseq/raw/{3dGNoKBClean,ControlNoKBClean,ControlWithKBClean}\n",
    "gsutil cp \\\n",
    "    gs://mdl-sc-isoform-2025-ms/sequencing_data/3dg_masseq/m84252_240709_213425_s4.hifi_reads.bcM0004.bam \\\n",
    "    data/3dg_masseq/raw/3dGNoKBClean/\n",
    "gsutil cp \\\n",
    "    gs://mdl-sc-isoform-2025-ms/sequencing_data/3dg_masseq/m84252_240709_213425_s4.hifi_reads.bcM0002.bam \\\n",
    "    data/3dg_masseq/raw/ControlNoKBClean/\n",
    "gsutil cp \\\n",
    "    gs://mdl-sc-isoform-2025-ms/sequencing_data/3dg_masseq/m84252_240709_213425_s4.hifi_reads.bcM0003.bam \\\n",
    "    data/3dg_masseq/raw/ControlWithKBClean/\n",
    "```\n",
    "\n",
    "#### Processed data\n",
    "\n",
    "The stats from the skera output are in [`gs://mdl-sc-isoform-2025-ms/notebook_checkpoints/3dg_skera_stats.pickle`](https://console.cloud.google.com/storage/browser/mdl-sc-isoform-2025-ms/notebook_checkpoints/3dg_skera_stats.pickle). If they are available you can run the next cell and skip to **QC Plots**."
   ]
  },
  {
   "cell_type": "code",
   "execution_count": null,
   "id": "c99d5243-e910-4bcd-bd59-bf2d92ada15e",
   "metadata": {},
   "outputs": [],
   "source": [
    "raw_bams = list((mas_data_path / \"raw\").glob(\"*/*bam\"))\n",
    "\n",
    "sample_names = [\"ControlNoKBClean\", \"ControlWithKBClean\", \"3dGNoKBClean\"]\n",
    "samples = {rb.stem: rb.parent.name for rb in raw_bams}\n",
    "\n",
    "skera_stats_file = data_path / \"3dg_skera_stats.pickle\"\n",
    "\n",
    "# uncomment to download\n",
    "# ! gcloud storage cp gs://mdl-sc-isoform-2025-ms/notebook_checkpoints/3dg_skera_stats.pickle  {data_path}/\n",
    "\n",
    "samples"
   ]
  },
  {
   "cell_type": "markdown",
   "id": "58a6f03d-33bf-457d-8ad0-34e95d9288a9",
   "metadata": {},
   "source": [
    "### Running skera"
   ]
  },
  {
   "cell_type": "code",
   "execution_count": null,
   "id": "771b823b-7332-462c-9d99-db5b4cb98a74",
   "metadata": {},
   "outputs": [],
   "source": [
    "with open(sh_dir / f\"{today}_skera.sh\", \"w\") as out:\n",
    "    for rb in raw_bams:\n",
    "        # echo the command so we see progress\n",
    "        print(\n",
    "            f\"echo skera split -j 16 {rb}\",\n",
    "            \"metadata/mas16_primers.fasta\",\n",
    "            mas_data_path / \"skera\" / f\"{samples[rb.stem]}.skera.bam\",\n",
    "            file=out\n",
    "        )\n",
    "        print(\n",
    "            f\"skera split -j 16 {rb}\",\n",
    "            \"metadata/mas16_primers.fasta\",\n",
    "            mas_data_path / \"skera\" / f\"{samples[rb.stem]}.skera.bam\",\n",
    "            file=out\n",
    "        )"
   ]
  },
  {
   "cell_type": "markdown",
   "id": "90b150d5-9612-466a-bf41-fe562168309c",
   "metadata": {},
   "source": [
    "## QC Plots\n",
    "After running skera, we use some QC code to visualize the results. The results can be loaded from `3dg_skera_stats.pickle`."
   ]
  },
  {
   "cell_type": "code",
   "execution_count": null,
   "id": "456bbb24-7202-4cae-b65c-b5094f006672",
   "metadata": {},
   "outputs": [],
   "source": [
    "if skera_stats_file.exists():\n",
    "    with open(skera_stats_file, \"rb\") as fh:\n",
    "        counts, read_lengths = pickle.load(fh)\n",
    "else:\n",
    "    skera_ligations = sorted(skera_path.glob(\"*ligations.csv\"))\n",
    "    skera_read_len = sorted(skera_path.glob(\"*read_lengths.csv\"))\n",
    "\n",
    "    # ligation counts (pairs of adapters)\n",
    "    counts = {\n",
    "        skl.name.split(\".\")[0]: read_ligation_csv(skl, 16) \n",
    "        for skl in skera_ligations\n",
    "    }\n",
    "\n",
    "    # getting read lengths--we don't need s-read lengths here\n",
    "    read_lengths = {\n",
    "        srl.name.split(\".\")[0]: read_length_csv(srl)[0]\n",
    "        for srl in skera_read_len\n",
    "    }\n",
    "\n",
    "    read_lengths = {k: np.array(read_lengths[k]) for k in sample_names}\n",
    "\n",
    "    with skera_stats_file.open(\"wb\") as out:\n",
    "        pickle.dump((counts, read_lengths), out)"
   ]
  },
  {
   "cell_type": "code",
   "execution_count": null,
   "id": "75a025b0-1c5b-4e8b-b140-c2eba4faade0",
   "metadata": {},
   "outputs": [],
   "source": [
    "pct_full = {k: (read_lengths[k][:,1] == 16).mean() for k in read_lengths}\n",
    "for k in sample_names:\n",
    "    print(f\"{k:18}\\t{pct_full[k]:.2%}\")"
   ]
  },
  {
   "cell_type": "code",
   "execution_count": null,
   "id": "0171d99f-c50a-4503-a582-4ff21bb03fff",
   "metadata": {},
   "outputs": [],
   "source": [
    "for k in sample_names:\n",
    "    fig = plot_concat_and_ligations(read_lengths[k], counts[k], True)\n",
    "    fig.suptitle(k)\n",
    "    plt.savefig(figure_path / f\"supp_fig9_{k}.svg\")\n",
    "    plt.show()"
   ]
  },
  {
   "cell_type": "code",
   "execution_count": null,
   "id": "ecf2a3d0-affc-4b90-8b43-2de92637ece1",
   "metadata": {},
   "outputs": [],
   "source": [
    "# this is an alternate view on the concatentation/length histogram, collapsing the length\n",
    "# distribution to better show the proportion of array sizes\n",
    "fig = plot_stacked_concat(\n",
    "    read_lengths,\n",
    "    normalize=True,\n",
    "    labels=[\"Control\\nNo clean\", \"Control\\nw/ clean\", \"3dG\\nNo clean\"]\n",
    ")\n",
    "plt.savefig(figure_path / \"fig1g_3dg_stacked.svg\")\n",
    "plt.show()"
   ]
  }
 ],
 "metadata": {
  "kernelspec": {
   "display_name": "fa",
   "language": "python",
   "name": "fa"
  },
  "language_info": {
   "codemirror_mode": {
    "name": "ipython",
    "version": 3
   },
   "file_extension": ".py",
   "mimetype": "text/x-python",
   "name": "python",
   "nbconvert_exporter": "python",
   "pygments_lexer": "ipython3",
   "version": "3.10.14"
  }
 },
 "nbformat": 4,
 "nbformat_minor": 5
}
