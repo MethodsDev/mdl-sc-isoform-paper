{
 "cells": [
  {
   "cell_type": "code",
   "execution_count": null,
   "id": "dc0a4ec0-7514-4434-a1e3-5f69546c2c86",
   "metadata": {},
   "outputs": [],
   "source": [
    "import anndata\n",
    "import scanpy as sc\n",
    "import scanpy.external as sce\n",
    "import pandas as pd\n",
    "\n",
    "import matplotlib.pyplot as plt\n",
    "\n",
    "from pathlib import Path"
   ]
  },
  {
   "cell_type": "markdown",
   "id": "d16a9710-9e5f-429c-915b-5af1fe2d593c",
   "metadata": {},
   "source": [
    "We are going to run the standard Scanpy embedding/clustering and then integrate our different libraries to see how well they match."
   ]
  },
  {
   "cell_type": "code",
   "execution_count": null,
   "id": "b291da7b-4f16-4bf0-8f1a-f5098293b048",
   "metadata": {},
   "outputs": [],
   "source": [
    "root_dir = Path.home()\n",
    "data_path = root_dir / \"data\"\n",
    "figure_path = root_dir / \"202501_figures\""
   ]
  },
  {
   "cell_type": "code",
   "execution_count": null,
   "id": "116975aa-5277-465a-8400-b1c431d71ca2",
   "metadata": {},
   "outputs": [],
   "source": [
    "input_3p = root_path / \"10x_3p_pbmc/outs/raw_feature_bc_matrix/\"\n",
    "input_5p = root_path / \"10x_5p_pbmc/outs/raw_feature_bc_matrix/\"\n",
    "input_PIPseq = root_path / \"pipseq_pbmc/raw_matrix/\""
   ]
  },
  {
   "cell_type": "code",
   "execution_count": null,
   "id": "583beb8a-11b9-4f21-b8d7-680359953a4b",
   "metadata": {},
   "outputs": [],
   "source": [
    "data_3p = sc.read_10x_mtx(input_3p)"
   ]
  },
  {
   "cell_type": "code",
   "execution_count": null,
   "id": "dbaecb5f-fabb-4b3c-850e-646403dbe58c",
   "metadata": {},
   "outputs": [],
   "source": [
    "data_5p = sc.read_10x_mtx(input_5p)"
   ]
  },
  {
   "cell_type": "code",
   "execution_count": null,
   "id": "7cd72139-0c64-4eec-b730-2cf9fb34c91d",
   "metadata": {},
   "outputs": [],
   "source": [
    "data_pip = sc.read_10x_mtx(input_PIPseq)"
   ]
  },
  {
   "cell_type": "code",
   "execution_count": null,
   "id": "47e5f58a-9363-41db-8eeb-04420b6638a4",
   "metadata": {},
   "outputs": [],
   "source": [
    "data_3p"
   ]
  },
  {
   "cell_type": "code",
   "execution_count": null,
   "id": "1b8e4a56-c4c6-4d56-a97a-f3f2fb9a0ed8",
   "metadata": {},
   "outputs": [],
   "source": [
    "data_5p"
   ]
  },
  {
   "cell_type": "code",
   "execution_count": null,
   "id": "b0ad1e28-ea08-4d53-9ab7-c2b1a42c8a29",
   "metadata": {},
   "outputs": [],
   "source": [
    "data_pip"
   ]
  },
  {
   "cell_type": "code",
   "execution_count": null,
   "id": "5da18372-62a4-4e70-9512-87f97c8de92c",
   "metadata": {},
   "outputs": [],
   "source": [
    "data_3p.var_names_make_unique()\n",
    "data_5p.var_names_make_unique()\n",
    "data_pip.var_names_make_unique()"
   ]
  },
  {
   "cell_type": "code",
   "execution_count": null,
   "id": "cb81f5a7-a481-4ec3-b954-f662f5a742b0",
   "metadata": {},
   "outputs": [],
   "source": [
    "# mitochondrial genes, \"MT-\" for human, \"Mt-\" for mouse\n",
    "data_3p.var[\"mt\"] = data_3p.var_names.str.startswith(\"MT-\")\n",
    "# ribosomal genes\n",
    "data_3p.var[\"ribo\"] = data_3p.var_names.str.startswith((\"RPS\", \"RPL\"))\n",
    "# hemoglobin genes\n",
    "data_3p.var[\"hb\"] = data_3p.var_names.str.contains(\"^HB[^(P)]\")\n",
    "\n",
    "data_5p.var[\"mt\"] = data_5p.var_names.str.startswith(\"MT-\")\n",
    "data_5p.var[\"ribo\"] = data_5p.var_names.str.startswith((\"RPS\", \"RPL\"))\n",
    "data_5p.var[\"hb\"] = data_5p.var_names.str.contains(\"^HB[^(P)]\")\n",
    "\n",
    "data_pip.var[\"mt\"] = data_pip.var_names.str.startswith(\"MT-\")\n",
    "data_pip.var[\"ribo\"] = data_pip.var_names.str.startswith((\"RPS\", \"RPL\"))\n",
    "data_pip.var[\"hb\"] = data_pip.var_names.str.contains(\"^HB[^(P)]\")"
   ]
  },
  {
   "cell_type": "code",
   "execution_count": null,
   "id": "bede1fec-0b09-49a1-93cc-c0f529daefeb",
   "metadata": {},
   "outputs": [],
   "source": [
    "sc.pp.calculate_qc_metrics(\n",
    "    data_3p, qc_vars=[\"mt\", \"ribo\", \"hb\"], inplace=True, log1p=True\n",
    ")\n",
    "\n",
    "sc.pp.calculate_qc_metrics(\n",
    "    data_5p, qc_vars=[\"mt\", \"ribo\", \"hb\"], inplace=True, log1p=True\n",
    ")\n",
    "\n",
    "sc.pp.calculate_qc_metrics(\n",
    "    data_pip, qc_vars=[\"mt\", \"ribo\", \"hb\"], inplace=True, log1p=True\n",
    ")"
   ]
  },
  {
   "cell_type": "code",
   "execution_count": null,
   "id": "8c72b562-23f7-4ab3-9ab6-d1d55d5c6e34",
   "metadata": {},
   "outputs": [],
   "source": [
    "sc.pl.violin(\n",
    "    data_3p,\n",
    "    [\"n_genes_by_counts\", \"total_counts\", \"pct_counts_mt\"],\n",
    "    jitter=0.4,\n",
    "    multi_panel=True,\n",
    ")"
   ]
  },
  {
   "cell_type": "code",
   "execution_count": null,
   "id": "dc8627ca-0acb-4a10-bd65-764b13d0a142",
   "metadata": {},
   "outputs": [],
   "source": [
    "sc.pl.violin(\n",
    "    data_5p,\n",
    "    [\"n_genes_by_counts\", \"total_counts\", \"pct_counts_mt\"],\n",
    "    jitter=0.4,\n",
    "    multi_panel=True,\n",
    ")"
   ]
  },
  {
   "cell_type": "code",
   "execution_count": null,
   "id": "ef992cfd-e4a2-4b34-ab22-35367e07f422",
   "metadata": {},
   "outputs": [],
   "source": [
    "sc.pl.violin(\n",
    "    data_pip,\n",
    "    [\"n_genes_by_counts\", \"total_counts\", \"pct_counts_mt\"],\n",
    "    jitter=0.4,\n",
    "    multi_panel=True,\n",
    ")"
   ]
  },
  {
   "cell_type": "code",
   "execution_count": null,
   "id": "83533d4d-2260-4e8c-8da3-aa06293f7a34",
   "metadata": {},
   "outputs": [],
   "source": [
    "sc.pl.scatter(data_3p, \"total_counts\", \"n_genes_by_counts\", color=\"pct_counts_mt\")"
   ]
  },
  {
   "cell_type": "code",
   "execution_count": null,
   "id": "edfb9e64-e025-4c02-948c-c974f4e110a5",
   "metadata": {},
   "outputs": [],
   "source": [
    "sc.pl.scatter(data_5p, \"total_counts\", \"n_genes_by_counts\", color=\"pct_counts_mt\")"
   ]
  },
  {
   "cell_type": "code",
   "execution_count": null,
   "id": "a962ea4f-fa42-4ba6-93ca-8e2e7ddf58db",
   "metadata": {},
   "outputs": [],
   "source": [
    "sc.pl.scatter(data_pip, \"total_counts\", \"n_genes_by_counts\", color=\"pct_counts_mt\")"
   ]
  },
  {
   "cell_type": "code",
   "execution_count": null,
   "id": "a77dcc90-df4c-4a81-9f12-2c03597b041a",
   "metadata": {},
   "outputs": [],
   "source": [
    "sc.pp.filter_cells(data_3p, min_counts=1000)\n",
    "sc.pp.filter_cells(data_3p, min_genes=100)\n",
    "sc.pp.filter_genes(data_3p, min_cells=3)"
   ]
  },
  {
   "cell_type": "code",
   "execution_count": null,
   "id": "ea9d50ee-d812-4c7d-b83c-1e90b9626432",
   "metadata": {},
   "outputs": [],
   "source": [
    "sc.pp.filter_cells(data_5p, min_counts=1000)\n",
    "sc.pp.filter_cells(data_5p, min_genes=100)\n",
    "sc.pp.filter_genes(data_5p, min_cells=3)"
   ]
  },
  {
   "cell_type": "code",
   "execution_count": null,
   "id": "17e834e6-d6d3-443a-a04c-c22a55c59881",
   "metadata": {},
   "outputs": [],
   "source": [
    "sc.pp.filter_cells(data_pip, min_counts=1000)\n",
    "sc.pp.filter_cells(data_pip, min_genes=100)\n",
    "sc.pp.filter_genes(data_pip, min_cells=3)"
   ]
  },
  {
   "cell_type": "code",
   "execution_count": null,
   "id": "46279e06-0425-4401-b850-339badbe7840",
   "metadata": {},
   "outputs": [],
   "source": [
    "sc.pl.violin(\n",
    "    data_3p,\n",
    "    [\"n_genes_by_counts\", \"total_counts\", \"pct_counts_mt\"],\n",
    "    jitter=0.4,\n",
    "    multi_panel=True,\n",
    ")"
   ]
  },
  {
   "cell_type": "code",
   "execution_count": null,
   "id": "49f6a46a-b096-4749-9fc2-6c2654d35fe6",
   "metadata": {},
   "outputs": [],
   "source": [
    "sc.pl.violin(\n",
    "    data_5p,\n",
    "    [\"n_genes_by_counts\", \"total_counts\", \"pct_counts_mt\"],\n",
    "    jitter=0.4,\n",
    "    multi_panel=True,\n",
    ")"
   ]
  },
  {
   "cell_type": "code",
   "execution_count": null,
   "id": "8095cc37-cb86-49e5-a4e0-d11f6f072b30",
   "metadata": {},
   "outputs": [],
   "source": [
    "sc.pl.violin(\n",
    "    data_pip,\n",
    "    [\"n_genes_by_counts\", \"total_counts\", \"pct_counts_mt\"],\n",
    "    jitter=0.4,\n",
    "    multi_panel=True,\n",
    ")"
   ]
  },
  {
   "cell_type": "code",
   "execution_count": null,
   "id": "86f0adb7-8097-4ea2-aa75-c046dcdaa90c",
   "metadata": {},
   "outputs": [],
   "source": [
    "data_3p.X.sum()"
   ]
  },
  {
   "cell_type": "code",
   "execution_count": null,
   "id": "355c595f-0be2-4b3d-b734-865ec599e0fe",
   "metadata": {},
   "outputs": [],
   "source": [
    "data_5p.X.sum()"
   ]
  },
  {
   "cell_type": "code",
   "execution_count": null,
   "id": "6f8e1270-8ed9-418d-a468-8c44e06cb5c6",
   "metadata": {},
   "outputs": [],
   "source": [
    "data_pip.X.sum()"
   ]
  },
  {
   "cell_type": "code",
   "execution_count": null,
   "id": "c21b9cd3-fb5f-4269-8186-7d42f02d5dd6",
   "metadata": {},
   "outputs": [],
   "source": [
    "data_3p"
   ]
  },
  {
   "cell_type": "code",
   "execution_count": null,
   "id": "0a39c48e-172b-47cc-af2f-8da09c9eecd5",
   "metadata": {},
   "outputs": [],
   "source": [
    "data_5p"
   ]
  },
  {
   "cell_type": "code",
   "execution_count": null,
   "id": "94f44bf1-f03e-4a92-9bc6-ac1e582c3b52",
   "metadata": {},
   "outputs": [],
   "source": [
    "data_pip"
   ]
  },
  {
   "cell_type": "code",
   "execution_count": null,
   "id": "6396f0c6-2f18-44f5-9a75-436016458694",
   "metadata": {},
   "outputs": [],
   "source": [
    "adata_combined = data_3p.concatenate(data_5p, data_pip, batch_key=\"batch\")"
   ]
  },
  {
   "cell_type": "code",
   "execution_count": null,
   "id": "1ce84592-8cb0-41e3-958b-7182a4cf437f",
   "metadata": {},
   "outputs": [],
   "source": [
    "adata_combined"
   ]
  },
  {
   "cell_type": "code",
   "execution_count": null,
   "id": "c1f7ae24-a1c1-414d-8c68-1f85514ce1c0",
   "metadata": {},
   "outputs": [],
   "source": [
    "sc.pp.normalize_total(adata_combined, target_sum=1e4)\n",
    "sc.pp.log1p(adata_combined)"
   ]
  },
  {
   "cell_type": "code",
   "execution_count": null,
   "id": "23dde81c-9fc8-4296-8e18-b5ca3376ae81",
   "metadata": {},
   "outputs": [],
   "source": [
    "sc.pp.highly_variable_genes(adata_combined, n_top_genes=2000)"
   ]
  },
  {
   "cell_type": "code",
   "execution_count": null,
   "id": "fe25c5ad-3629-4893-8dab-37aa8b002577",
   "metadata": {},
   "outputs": [],
   "source": [
    "sc.pp.pca(adata_combined)"
   ]
  },
  {
   "cell_type": "code",
   "execution_count": null,
   "id": "c9d4cd31-1cd2-4804-b2d6-683730c7be51",
   "metadata": {},
   "outputs": [],
   "source": [
    "sc.pp.neighbors(adata_combined, use_rep=\"X_pca\")\n",
    "sc.tl.umap(adata_combined)\n",
    "sc.tl.leiden(adata_combined, flavor=\"igraph\", n_iterations=2)"
   ]
  },
  {
   "cell_type": "markdown",
   "id": "c03a86a3-6888-4439-ab6a-3984e7c06415",
   "metadata": {},
   "source": [
    "We can check the UMAP before integration."
   ]
  },
  {
   "cell_type": "code",
   "execution_count": null,
   "id": "f6cab6c9-6389-4bfc-a792-ce691cb6a204",
   "metadata": {},
   "outputs": [],
   "source": [
    "sc.pl.umap(adata_combined, color=[\"leiden\"])"
   ]
  },
  {
   "cell_type": "code",
   "execution_count": null,
   "id": "1f678b6b-9e4c-4d6b-b9d9-ac8d18978dac",
   "metadata": {},
   "outputs": [],
   "source": [
    "sc.pl.umap(adata_combined, color=[\"batch\"])"
   ]
  },
  {
   "cell_type": "markdown",
   "id": "7772e0c2-12bc-4cde-80f6-9df71bfbb794",
   "metadata": {},
   "source": [
    "The different libraries do not overlap almost at all.\n",
    "\n",
    "We will run Harmony integration now."
   ]
  },
  {
   "cell_type": "code",
   "execution_count": null,
   "id": "4c5540ea-1149-4710-a0ea-502980584314",
   "metadata": {},
   "outputs": [],
   "source": [
    "sce.pp.harmony_integrate(adata_combined, \"batch\")"
   ]
  },
  {
   "cell_type": "code",
   "execution_count": null,
   "id": "eba77138-3ca2-4a21-a87f-4e3b412ebee4",
   "metadata": {},
   "outputs": [],
   "source": [
    "sc.pp.neighbors(adata_combined, use_rep=\"X_pca_harmony\")"
   ]
  },
  {
   "cell_type": "code",
   "execution_count": null,
   "id": "3eca4b4d-e35a-475c-86cc-bd2d482873d2",
   "metadata": {},
   "outputs": [],
   "source": [
    "sc.tl.umap(adata_combined)"
   ]
  },
  {
   "cell_type": "code",
   "execution_count": null,
   "id": "7e4572af-34e3-412c-9084-26efebe827c1",
   "metadata": {},
   "outputs": [],
   "source": [
    "adata_combined.obs['leiden'] = (\n",
    "    adata_combined.obs['leiden']\n",
    "      .cat.remove_unused_categories()\n",
    ")\n",
    "\n",
    "null = adata_combined.uns.pop('leiden_colors', None)"
   ]
  },
  {
   "cell_type": "code",
   "execution_count": null,
   "id": "52c33e03-78d3-4914-80c3-cc3d61183ee1",
   "metadata": {},
   "outputs": [],
   "source": [
    "sc.tl.leiden(adata_combined, flavor=\"igraph\", n_iterations=2)"
   ]
  },
  {
   "cell_type": "code",
   "execution_count": null,
   "id": "c14cd944-b96c-4cc1-acda-6cbe652bb642",
   "metadata": {},
   "outputs": [],
   "source": [
    "sc.pl.umap(adata_combined, color=[\"leiden\"])"
   ]
  },
  {
   "cell_type": "code",
   "execution_count": null,
   "id": "8ccf6515-6055-4999-a124-f60231cf5735",
   "metadata": {},
   "outputs": [],
   "source": [
    "sc.pl.umap(adata_combined, color=[\"batch\"])"
   ]
  },
  {
   "cell_type": "code",
   "execution_count": null,
   "id": "f79acd10-8b48-495b-85eb-8588b25d0af1",
   "metadata": {},
   "outputs": [],
   "source": [
    "# adding library labels\n",
    "adata_combined.obs[\"batch\"] = adata_combined.obs[\"batch\"].cat.rename_categories([\"10x 3'\", \"10x 5'\", \"PIPseq\"])"
   ]
  },
  {
   "cell_type": "code",
   "execution_count": null,
   "id": "3b683898-25e3-4833-8c7e-e28d66f4bfc9",
   "metadata": {},
   "outputs": [],
   "source": [
    "sc.pl.umap(adata_combined, color=[\"batch\"], show=False, legend_loc=\"right margin\")\n",
    "plt.savefig(figure_path / \"integrated_UMAP_colored_by_batch.svg\", bbox_inches=\"tight\")"
   ]
  }
 ],
 "metadata": {
  "kernelspec": {
   "display_name": "mdl-sc-isoform-2025-ms",
   "language": "python",
   "name": "mdl-sc-isoform-2025-ms"
  },
  "language_info": {
   "codemirror_mode": {
    "name": "ipython",
    "version": 3
   },
   "file_extension": ".py",
   "mimetype": "text/x-python",
   "name": "python",
   "nbconvert_exporter": "python",
   "pygments_lexer": "ipython3",
   "version": "3.10.16"
  }
 },
 "nbformat": 4,
 "nbformat_minor": 5
}
