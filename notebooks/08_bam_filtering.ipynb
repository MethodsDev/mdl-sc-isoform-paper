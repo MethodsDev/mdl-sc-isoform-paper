{
 "cells": [
  {
   "cell_type": "markdown",
   "id": "19c7a26f-f3aa-4c47-a458-496bd0efe1f3",
   "metadata": {},
   "source": [
    "# Mapping and filtering BAMs for IsoQuant\n",
    "\n",
    "This notebook writes a script to run minimap2 on our tagged BAMs. Next we filter aligned BAMs for high-scoring alignments. Finally we run IsoQuant on the filtered BAMs."
   ]
  },
  {
   "cell_type": "markdown",
   "id": "d436157b-0da5-427a-bd7b-2fc48b13c571",
   "metadata": {},
   "source": [
    "### imports"
   ]
  },
  {
   "cell_type": "code",
   "execution_count": null,
   "id": "282bfd19-9a05-4903-9b06-b1b1d4dfe511",
   "metadata": {},
   "outputs": [],
   "source": [
    "from collections import defaultdict\n",
    "from pathlib import Path\n",
    "from concurrent.futures import ProcessPoolExecutor\n",
    "\n",
    "from mdl.sc_isoform_paper import today\n",
    "from mdl.sc_isoform_paper.constants import MASSEQ_FILENAMES\n",
    "from mdl.sc_isoform_paper.util import filter_reads\n",
    "\n",
    "import pysam"
   ]
  },
  {
   "cell_type": "markdown",
   "id": "d35608f7-de54-4aab-b5a5-2d7fab95f260",
   "metadata": {},
   "source": [
    "### setup"
   ]
  },
  {
   "cell_type": "code",
   "execution_count": null,
   "id": "18a9ac13-1246-4865-9df3-99278da6f9da",
   "metadata": {},
   "outputs": [],
   "source": [
    "pysam.set_verbosity(0)\n",
    "\n",
    "root_dir = Path.home()\n",
    "sh_dir = root_dir / \"sh_scripts\"\n",
    "reference_path = root_dir / \"reference\"\n",
    "\n",
    "grch38_fasta = reference_path / \"GRCh38\" / \"GRCh38.fasta\"\n",
    "\n",
    "gencode_basic_gtf = reference_path / \"GRCh38.gencode.v39.annotation.basic.gtf\"\n",
    "gencode_bed = reference_path /  \"GRCh38.gencode.v39.annotation.bed\"\n",
    "\n",
    "data_path = root_dir / \"data\" / \"masseq\"\n",
    "cdna_path = data_path / \"20240708_cdna\""
   ]
  },
  {
   "cell_type": "code",
   "execution_count": null,
   "id": "d4212815-9605-400e-bdaf-50a40ffdbc14",
   "metadata": {},
   "outputs": [],
   "source": [
    "tagged_bams = sorted(cdna_path.glob(\"*tagged.bam\"))\n",
    "\n",
    "mapped_path = data_path / f\"{today}_minimap/\"\n",
    "mapped_path.mkdir(exist_ok=True)"
   ]
  },
  {
   "cell_type": "markdown",
   "id": "0fb44ea1-3bcc-4e67-b4fd-e02357e36d52",
   "metadata": {},
   "source": [
    "### minimap2\n",
    "\n",
    "With some extra options, we can include the barcode and UMI tags in the minimap2 output, so that we end up with a single-cell alignment file.\n",
    "\n",
    "`minimap2` optionally takes a BED file for junction information. We can generate that with their `paftools.js` script:\n",
    "\n",
    "```\n",
    "paftools.js gff2bed GRCh38.gencode.v39.annotation.gtf > GRCh38.gencode.v39.annotation.bed\n",
    "```\n",
    "\n",
    "Note that we provide the full Gencode v39 annotation to `minimap2` here. We are using the \"basic\" annotation for other analysis because it contains a more reliable set of annotations."
   ]
  },
  {
   "cell_type": "code",
   "execution_count": null,
   "id": "ab78e716-b3e7-4072-a68f-e6e756e43846",
   "metadata": {},
   "outputs": [],
   "source": [
    "with open(sh_dir / f\"{today}_minimap_cmds.sh\", \"w\") as out:\n",
    "    for in_file in tagged_bams:\n",
    "        fq_file = mapped_path / (in_file.with_suffix(\".fastq\")).name\n",
    "        out_sam = fq_file.with_suffix(\".mapped.sam\")\n",
    "        out_bam = fq_file.with_suffix(\".mapped.sorted.bam\")\n",
    "\n",
    "        if out_bam.exists():\n",
    "            continue\n",
    "        print(f\"samtools fastq -TCB,UB {in_file} > {fq_file}\", file=out)\n",
    "        print(\n",
    "            \"minimap2 -t 16 -ayx splice:hq -uf -G1250k -Y --MD\",\n",
    "            f\"--junc-bed {gencode_bed}\", grch38_fasta,\n",
    "            f\"{fq_file} > {out_sam}\",\n",
    "            file=out\n",
    "        )\n",
    "        print(f\"samtools sort {out_sam} > {out_bam}\", file=out)\n",
    "        print(f\"rm {out_sam} {fq_file}\", file=out)\n"
   ]
  },
  {
   "cell_type": "markdown",
   "id": "2be750d8-1e0f-4319-85d8-64c9ee3c1610",
   "metadata": {},
   "source": [
    "### Alignment filtering\n",
    "\n",
    "We filter the aligned BAMs for high-scoring primary alignments.\n",
    "\n",
    "High-scoring is defined as: `MAPQ == 60` or `[alignment score] / [query len] > 0.9`\n",
    "\n",
    "We are also filtering out secondary and supplementary alignments here. In our tests, including high-scoring secondary alignments did not meaningfully improve the isoform identification in this dataset, and their presence complicates the internal priming analysis.\n"
   ]
  },
  {
   "cell_type": "code",
   "execution_count": null,
   "id": "a6c9d9dc-50df-4cc1-aa07-a0b12aaea6f1",
   "metadata": {},
   "outputs": [],
   "source": [
    "def filter_bam(mapped_bam):\n",
    "    if (new_bam := mapped_bam.with_suffix(\".primary.bam\")).exists():\n",
    "        print(f\"{new_bam} already exists\")\n",
    "        return\n",
    "\n",
    "    with (\n",
    "        pysam.AlignmentFile(mapped_bam, \"rb\", threads=8) as fh,\n",
    "        pysam.AlignmentFile(new_bam, \"wb\", template=fh, threads=8) as out,\n",
    "    ):\n",
    "        for i, a in enumerate(filter_reads(fh)):\n",
    "            out.write(a)\n",
    "\n",
    "    return new_bam, i + 1  # the number of reads written to output"
   ]
  },
  {
   "cell_type": "code",
   "execution_count": null,
   "id": "30de7746-fe1b-434a-8bf7-87fc8c509c42",
   "metadata": {},
   "outputs": [],
   "source": [
    "mapped_bams = sorted(mapped_path.glob(\"*.mapped.sorted.bam\"))\n",
    "\n",
    "with ProcessPoolExecutor(8) as exc:\n",
    "    filtered_counts = dict(filter(None, exc.map(filter_bam, mapped_bams)))\n",
    "\n",
    "key_to_samples = defaultdict(list)\n",
    "for in_file in sorted(filtered_counts):\n",
    "    key_to_samples[int(in_file.name.rsplit(\".\")[2])].append(in_file)\n"
   ]
  },
  {
   "cell_type": "markdown",
   "id": "ac872eaa-9d3b-469f-a9c4-f47972efd2ba",
   "metadata": {},
   "source": [
    "### IsoQuant commands\n",
    "\n",
    "Now that we've filtered out low-quality alignments, we run IsoQuant. We make sure to include the barcode and UMI values in the output for later analysis."
   ]
  },
  {
   "cell_type": "code",
   "execution_count": null,
   "id": "548d6426-f937-42dd-99ed-2c58e499df89",
   "metadata": {},
   "outputs": [],
   "source": [
    "output_path = data_path / f\"{today}_isoquant\"\n",
    "output_path.mkdir(exist_ok=True)"
   ]
  },
  {
   "cell_type": "code",
   "execution_count": null,
   "id": "d907c16b-72ba-41ec-b5cf-07d3a9603419",
   "metadata": {},
   "outputs": [],
   "source": [
    "with open(sh_dir / f\"{today}_isoquant_cmds.sh\", \"w\") as out:\n",
    "    for i, input_bams in key_to_samples.items():\n",
    "        s = MASSEQ_FILENAMES[i]\n",
    "\n",
    "        out_dir = output_path / s\n",
    "        out_dir.mkdir(exist_ok=True)\n",
    "\n",
    "        # need to index our BAM files before \n",
    "        print(\"samtools index --threads 12 -M\", *key_to_samples[i], file=out)\n",
    "        print(\n",
    "            \"isoquant.py\",\n",
    "            \"--data_type pacbio_ccs\",\n",
    "            \"--count_exons\",\n",
    "            \"--threads 16\",\n",
    "            \"--force\",\n",
    "            f\"--reference {grch38_fasta}\",\n",
    "            f\"--genedb {gencode_basic_gtf}\",\n",
    "            \"--complete_genedb\",\n",
    "            \"--stranded forward\",\n",
    "            \"--polya_requirement never\",\n",
    "            \"--bam_tags CB,UB\",\n",
    "            \"--bam\", *input_bams,\n",
    "            f\"-o {out_dir}\",\n",
    "            file=out\n",
    "        )\n"
   ]
  }
 ],
 "metadata": {
  "kernelspec": {
   "display_name": "fa",
   "language": "python",
   "name": "fa"
  },
  "language_info": {
   "codemirror_mode": {
    "name": "ipython",
    "version": 3
   },
   "file_extension": ".py",
   "mimetype": "text/x-python",
   "name": "python",
   "nbconvert_exporter": "python",
   "pygments_lexer": "ipython3",
   "version": "3.10.14"
  }
 },
 "nbformat": 4,
 "nbformat_minor": 5
}
