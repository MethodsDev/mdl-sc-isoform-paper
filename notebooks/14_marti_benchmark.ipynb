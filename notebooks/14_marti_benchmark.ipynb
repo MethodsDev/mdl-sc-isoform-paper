{
 "cells": [
  {
   "cell_type": "markdown",
   "id": "6b32785e-8598-475a-a5a7-8f2cc46f2677",
   "metadata": {},
   "source": [
    "# marti benchmarking"
   ]
  },
  {
   "cell_type": "markdown",
   "id": "1d4dd16a-42b4-4e41-ac66-b4fa9803b2ef",
   "metadata": {},
   "source": [
    "This notebook will use the Callao outputs generated in notebook 03 (monomer analysis) to compare and benchmark `marti` against a few other tools. We are using the monomer data because we will be running both `marti` and `restrander` twice on all the data, and 3 out of 4 runs will be on a single thread for benchmarking purposes. Running it on the smaller dataset will make this faster, but the same comparison could be performed on the MAS-seq data just the same."
   ]
  },
  {
   "cell_type": "markdown",
   "id": "46552daf-0d42-420e-9766-9fb51ae11396",
   "metadata": {},
   "source": [
    "`restrander` can be installed by following the instructions in their github: https://github.com/mritchielab/restrander?tab=readme-ov-file#installation"
   ]
  },
  {
   "cell_type": "code",
   "execution_count": null,
   "id": "4debd7bd-d043-4a77-8ced-db8a8bb56c22",
   "metadata": {},
   "outputs": [],
   "source": [
    "import re\n",
    "import pandas as pd\n",
    "from pathlib import Path\n",
    "import matplotlib.pyplot as plt\n",
    "\n",
    "import yaml\n",
    "\n",
    "from mdl.sc_isoform_paper import today\n",
    "from mdl.sc_isoform_paper.constants import MONOMER_KEYS\n",
    "from mdl.sc_isoform_paper.marti import CONFIG_DICT, SAMPLE_CONFIG\n",
    "from mdl.sc_isoform_paper.marti_benchmark import summarize_input, summarize_many, collapse_marti_ct, plot_absolute, plot_heatmap, plot_upset_from_ct, plot_upset_from_per_input_df\n",
    "import warnings"
   ]
  },
  {
   "cell_type": "code",
   "execution_count": null,
   "id": "06e1cc16-b2a6-4544-8422-6eb16df1bbba",
   "metadata": {},
   "outputs": [],
   "source": [
    "root_dir = Path.home()\n",
    "sh_dir = root_dir / \"sh_scripts\"\n",
    "\n",
    "data_path = root_dir / \"data\" / \"monomer\"\n",
    "figure_path = root_dir / \"202501_figures\"\n",
    "\n",
    "# path to the marti binary\n",
    "marti_bin = root_dir / \"marti/build/bin/marti\"\n",
    "\n",
    "# path to restrander binary\n",
    "restrander_dir = root_dir / \"restrander\"\n",
    "restrander_bin = restrander_dir / \"restrander\"\n",
    "restrander_config = restrander_dir / \"config\"\n",
    "restrander_path = data_path / f\"{today}_restrander_benchmarks\"\n",
    "\n",
    "# path for marti output\n",
    "marti_path = data_path / f\"{today}_marti_benchmarks\"\n",
    "marti_path.mkdir(exist_ok=True)\n",
    "\n",
    "# path for GNU Time output\n",
    "logs_dir = root_dir / \"benchmark_logs\"\n",
    "logs_dir.mkdir(exist_ok=True)\n",
    "\n",
    "# paths for input files, the output from callao\n",
    "callao_bams = sorted((data_path / \"callao\").glob(\"*bam\"))\n",
    "callao_bams\n"
   ]
  },
  {
   "cell_type": "code",
   "execution_count": null,
   "id": "453bdc6d-a819-4986-9ee5-329970716c0e",
   "metadata": {},
   "outputs": [],
   "source": [
    "default_polya_len = { \"min_polyA_match\": 20 }\n",
    "single_core = {\"n_threads\": 1}\n",
    "\n",
    "RESTRANDER_CONFIG = {\n",
    "    \"PIPseq\": restrander_config / \"PIPseq.json\",  # does not exist, we will create it\n",
    "    \"10x 3'\": restrander_config / \"10X-5prime.json\",\n",
    "    \"10x 5'\": restrander_config / \"10X-3prime.json\",\n",
    "}\n",
    "\n",
    "# Since restrander is initially intended for ONT data, the error rate in their configs are rather high,\n",
    "# so we will create an alternate version of the provided 10X configs where we reduce the error rate to 0.05, \n",
    "# raise the polyA length to 20, and set the search size to 150 to match settings with marti\n",
    "RESTRANDER_PB_CONFIG = {\n",
    "    \"PIPseq\": restrander_config / \"PIPseq_PB.json\",\n",
    "    \"10x 3'\": restrander_config / \"10X-5prime_PB.json\",\n",
    "    \"10x 5'\": restrander_config / \"10X-3prime_PB.json\",\n",
    "}"
   ]
  },
  {
   "cell_type": "code",
   "execution_count": null,
   "id": "63adb87f-633c-4108-8398-14a5660cfd38",
   "metadata": {},
   "outputs": [],
   "source": [
    "with open(RESTRANDER_CONFIG[\"PIPseq\"], \"w\") as out:\n",
    "    out.write(\"\"\"{\n",
    "    \"name\": \"PIPseq\",\n",
    "    \"description\": \"Uses PIPseq primers.\",\n",
    "    \"pipeline\": [\n",
    "        {\n",
    "            \"type\": \"poly\",\n",
    "            \"tail-length\": 12,\n",
    "            \"search-size\": 200\n",
    "        },\n",
    "        {\n",
    "            \"type\": \"primer\",\n",
    "            \"tso\": \"AAGCAGTGGTATCAACGCAGAG\",\n",
    "            \"rtp\": \"CTACACGACGCTCTTCCGATCT\",\n",
    "            \"report-artefacts\": true\n",
    "        }\n",
    "    ],\n",
    "    \"silent\": false,\n",
    "    \"exclude-unknowns\": true,\n",
    "    \"error-rate\": 0.25\n",
    "}\n",
    "\"\"\")\n",
    "\n",
    "with open(RESTRANDER_PB_CONFIG[\"PIPseq\"], \"w\") as out:\n",
    "    out.write(\"\"\"{\n",
    "    \"name\": \"PIPseq PB\",\n",
    "    \"description\": \"Uses PIPseq primers.\",\n",
    "    \"pipeline\": [\n",
    "        {\n",
    "            \"type\": \"poly\",\n",
    "            \"tail-length\": 20,\n",
    "            \"search-size\": 150\n",
    "        },\n",
    "        {\n",
    "            \"type\": \"primer\",\n",
    "            \"tso\": \"AAGCAGTGGTATCAACGCAGAG\",\n",
    "            \"rtp\": \"CTACACGACGCTCTTCCGATCT\",\n",
    "            \"report-artefacts\": true\n",
    "        }\n",
    "    ],\n",
    "    \"silent\": false,\n",
    "    \"exclude-unknowns\": true,\n",
    "    \"error-rate\": 0.05\n",
    "}\n",
    "\"\"\")\n",
    "\n",
    "with open(RESTRANDER_PB_CONFIG[\"10x 3'\"], \"w\") as out:\n",
    "    out.write(\"\"\"{\n",
    "    \"name\": \"10X 3' PB\",\n",
    "    \"description\": \"Uses 10X 3' primers.\",\n",
    "    \"pipeline\": [\n",
    "        {\n",
    "            \"type\": \"poly\",\n",
    "            \"tail-length\": 20,\n",
    "            \"search-size\": 150\n",
    "        },\n",
    "        {\n",
    "            \"type\": \"primer\",\n",
    "            \"tso\": \"AAGCAGTGGTATCAACGCAGAGTAC\",\n",
    "            \"rtp\": \"CTACACGACGCTCTTCCGATCT\",\n",
    "            \"report-artefacts\": true\n",
    "        }\n",
    "    ],\n",
    "    \"silent\": false,\n",
    "    \"exclude-unknowns\": true,\n",
    "    \"error-rate\": 0.05\n",
    "}\n",
    "\"\"\")\n",
    "\n",
    "with open(RESTRANDER_PB_CONFIG[\"10x 5'\"], \"w\") as out:\n",
    "    out.write(\"\"\"{\n",
    "    \"name\": \"10X 5' PB\",\n",
    "    \"description\": \"Uses 10X 5' primers.\",\n",
    "    \"pipeline\": [\n",
    "        {\n",
    "            \"type\": \"poly\",\n",
    "            \"tail-length\": 20,\n",
    "            \"search-size\": 150\n",
    "        },\n",
    "        {\n",
    "            \"type\": \"primer\",\n",
    "            \"tso\": \"CTACACGACGCTCTTCCGATCT\",\n",
    "            \"rtp\": \"AAGCAGTGGTATCAACGCAGAGTAC\",\n",
    "            \"report-artefacts\": true\n",
    "        }\n",
    "    ],\n",
    "    \"silent\": false,\n",
    "    \"exclude-unknowns\": true,\n",
    "    \"error-rate\": 0.05\n",
    "}\n",
    "\"\"\")"
   ]
  },
  {
   "cell_type": "markdown",
   "id": "54f3ec24-e6c9-4fd3-8f60-f6e670b70bab",
   "metadata": {},
   "source": [
    "Prepare the Marti run configs and commands. This is basically the same runs as intially done in notebook 03, but we measure resources and time with `GNU Time`.\n",
    "Besides that, to run `restrander` we need FASTQs, so we will extract them from the BAMs using samtools."
   ]
  },
  {
   "cell_type": "code",
   "execution_count": null,
   "id": "f24077f3-f1bc-4a63-8c27-58758830683a",
   "metadata": {},
   "outputs": [],
   "source": [
    "with open(sh_dir / f\"{today}_monomer_marti_benchmark.sh\", \"w\") as out, \\\n",
    "     open(sh_dir / f\"{today}_monomer_marti_8t_benchmark.sh\", \"w\") as out_8t, \\\n",
    "     open(sh_dir / f\"{today}_monomer_fastq_restrander.sh\", \"w\") as out2, \\\n",
    "     open(sh_dir / f\"{today}_monomer_restrander_benchmark.sh\", \"w\") as out3, \\\n",
    "     open(sh_dir / f\"{today}_monomer_restrander_PB_benchmark.sh\", \"w\") as out4:\n",
    "\n",
    "    for cb in callao_bams:\n",
    "        i = int(cb.name.split(\".\")[2])\n",
    "        mp = marti_path / cb.stem\n",
    "    \n",
    "        # make a run directory for each file\n",
    "        mp.mkdir(exist_ok=True, parents=True)\n",
    "        config_file = mp / \"config.yaml\"\n",
    "\n",
    "        # write config file with appropriate parameters\n",
    "        with open(config_file, \"w\") as out_yaml:\n",
    "            print(\n",
    "                yaml.dump(\n",
    "                    {\"input_bam\": str(cb)}\n",
    "                    | SAMPLE_CONFIG[MONOMER_KEYS[i][0]]\n",
    "                    | CONFIG_DICT\n",
    "                    | default_polya_len \n",
    "                    | single_core,\n",
    "                    sort_keys=False\n",
    "                ),\n",
    "                file=out_yaml\n",
    "            )\n",
    "\n",
    "        print(f\"/usr/bin/time -v {marti_bin} {config_file} 2> {logs_dir}/time_marti_{cb.stem}.log\",\n",
    "              file=out)\n",
    "\n",
    "        mp = marti_path / (cb.stem + \"_8t\")\n",
    "        mp.mkdir(exist_ok=True, parents=True)\n",
    "        config_file = mp / \"config.yaml\"\n",
    "        with open(config_file, \"w\") as out_yaml:\n",
    "            print(\n",
    "                yaml.dump(\n",
    "                    {\"input_bam\": str(cb)}\n",
    "                    | SAMPLE_CONFIG[MONOMER_KEYS[i][0]]\n",
    "                    | CONFIG_DICT\n",
    "                    | default_polya_len,\n",
    "                    sort_keys=False\n",
    "                ),\n",
    "                file=out_yaml\n",
    "            )\n",
    "\n",
    "        print(f\"/usr/bin/time -v {marti_bin} {config_file} 2> {logs_dir}/time_marti_8t_{cb.stem}.log\",\n",
    "              file=out_8t)\n",
    "\n",
    "        print(f\"samtools fastq -@ 2 {mp}/{cb.stem}.classified.bam -0 {fastq_path}/{cb.stem}.marti_tags.fastq\",\n",
    "              file=out2)\n",
    "\n",
    "        print(f\"/usr/bin/time -v {restrander_bin} {fastq_path}/{cb.stem}.marti_tags.fastq {restrander_path}/{cb.stem}.restrander.fastq.gz {RESTRANDER_CONFIG[MONOMER_KEYS[i][0]]} > {restrander_path}/{cb.stem}.restrander-stats.json 2> {logs_dir}/time_restrander_{cb.stem}.log\",\n",
    "              file=out3)\n",
    "\n",
    "        print(f\"/usr/bin/time -v {restrander_bin} {fastq_path}/{cb.stem}.marti_tags.fastq {restrander_path}/{cb.stem}.restrander_PB.fastq.gz {RESTRANDER_PB_CONFIG[MONOMER_KEYS[i][0]]} > {restrander_path}/{cb.stem}.restrander_PB-stats.json 2> {logs_dir}/time_restrander_PB_{cb.stem}.log\",\n",
    "              file=out4)\n"
   ]
  },
  {
   "cell_type": "markdown",
   "id": "957c5dfc-8b95-4890-ba1a-f8666c2377a5",
   "metadata": {},
   "source": [
    "We now need to run the scripts generated externally."
   ]
  },
  {
   "cell_type": "markdown",
   "id": "5a4060f9-775e-4327-86d1-6eb501169f45",
   "metadata": {},
   "source": [
    "After that, we can parse the timing logs."
   ]
  },
  {
   "cell_type": "code",
   "execution_count": null,
   "id": "55b0b923-1b51-4919-8817-475940bff4a4",
   "metadata": {},
   "outputs": [],
   "source": [
    "TIME_AT_END = re.compile(r'(\\d+(?::\\d{2}){1,2}(?:\\.\\d+)?)\\s*$')\n",
    "FNAME_RE = re.compile(r'^time_(?P<tool>marti(?:_\\d+t)?|restrander(?:_PB)?)_(?P<input>.+)\\.log$')\n",
    "\n",
    "def parse_fname(p: Path):\n",
    "    m = FNAME_RE.match(p.name)\n",
    "    if not m:\n",
    "        raise ValueError(f\"Unexpected filename: {p.name}\")\n",
    "    return m.group('tool'), m.group('input')\n",
    "\n",
    "def parse_elapsed_line(line: str) -> float:\n",
    "    m = TIME_AT_END.search(line)\n",
    "    token = m.group(1)\n",
    "    parts = token.split(\":\")\n",
    "    s = float(parts[-1])\n",
    "    m_ = int(parts[-2]) if len(parts) >= 2 else 0\n",
    "    h = int(parts[-3]) if len(parts) == 3 else 0\n",
    "    return h*3600 + m_*60 + s\n",
    "\n",
    "def parse_time_log(path: Path) -> dict:\n",
    "    data = {}\n",
    "    with open(path) as fh:\n",
    "        for raw in fh:\n",
    "            line = raw.strip()\n",
    "            if line.startswith(\"User time\"):\n",
    "                data[\"user_time\"] = float(line.rsplit(\":\", 1)[1].strip())\n",
    "            elif line.startswith(\"System time\"):\n",
    "                data[\"sys_time\"] = float(line.rsplit(\":\", 1)[1].strip())\n",
    "            elif line.startswith(\"Elapsed (wall clock) time\"):\n",
    "                data[\"real_time\"] = parse_elapsed_line(line)\n",
    "    return data\n",
    "\n",
    "\n",
    "rows = []\n",
    "for log in logs_dir.glob(\"time_*.log\"):\n",
    "    tool, input_name = parse_fname(log)\n",
    "    stats = parse_time_log(log)\n",
    "    if stats:\n",
    "        rows.append({\"tool\": tool, \"input\": input_name, **stats})\n",
    "\n",
    "df = pd.DataFrame(rows)\n",
    "df[\"cpu_time\"] = df[\"user_time\"] + df[\"sys_time\"]\n",
    "\n",
    "# wide table\n",
    "pivot = df.pivot(index=\"input\", columns=\"tool\", values=[\"cpu_time\", \"real_time\"])\n",
    "pivot.columns = [f\"{metric}_{tool}\" for metric, tool in pivot.columns]\n",
    "pivot = pivot.reset_index()\n",
    "\n",
    "print(pivot)"
   ]
  },
  {
   "cell_type": "code",
   "execution_count": null,
   "id": "1269636d-ffab-45c6-84d9-f1b855847fd3",
   "metadata": {},
   "outputs": [],
   "source": [
    "# Absolute times\n",
    "pivot.plot.bar(x=\"input\", y=[\"cpu_time_marti\", \"cpu_time_marti_8t\", \"cpu_time_restrander\", \"cpu_time_restrander_PB\"])\n",
    "plt.ylabel(\"CPU time (s)\")\n",
    "plt.title(\"CPU time comparison\")\n",
    "plt.show()\n",
    "\n",
    "pivot.plot.bar(x=\"input\", y=[\"real_time_marti\", \"real_time_marti_8t\", \"real_time_restrander\", \"real_time_restrander_PB\"])\n",
    "plt.ylabel(\"Real time (s)\")\n",
    "plt.title(\"Wall clock comparison\")\n",
    "plt.show()\n"
   ]
  },
  {
   "cell_type": "code",
   "execution_count": null,
   "id": "eb687fdd-670b-4277-bc44-75c402a044f6",
   "metadata": {},
   "outputs": [],
   "source": [
    "tidy = (\n",
    "    df[[\"input\", \"tool\", \"cpu_time\", \"real_time\"]]\n",
    "    .melt(id_vars=[\"input\", \"tool\"], var_name=\"metric\", value_name=\"seconds\")\n",
    ")"
   ]
  },
  {
   "cell_type": "code",
   "execution_count": null,
   "id": "a07a111a-4a68-46d6-b9bf-554a826416e4",
   "metadata": {},
   "outputs": [],
   "source": [
    "plot_absolute(tidy, metric=\"cpu_time\",  title=\"CPU time comparison\") #,  savepath=\"abs_cpu.svg\")\n",
    "plot_absolute(tidy, metric=\"real_time\", title=\"Wall clock comparison\") # savepath=\"abs_real.svg\")"
   ]
  },
  {
   "cell_type": "markdown",
   "id": "2c7c6f53-cde6-463c-8bfe-0b95b436a274",
   "metadata": {},
   "source": [
    "We will now compare the artefact classifications of both tools. For `marti` we read the \"lb\" tag. Because `marti` reports more categories than restrander, we will collapse those extra categories into \"Other\" to simplify the comparison.\n",
    "\n",
    "For `restrander`, there are 2 outputs. One with all the \"proper\" reads restranded, and one with artefacts and unknowns. We will use the lower error rate version because the default error rate leads to incorrect TSO/RT matches."
   ]
  },
  {
   "cell_type": "markdown",
   "id": "b0bb1b3d-324c-421e-bf99-17d08f1af06f",
   "metadata": {},
   "source": [
    "We can first look at the comparison for one sample."
   ]
  },
  {
   "cell_type": "code",
   "execution_count": null,
   "id": "704529a9-8e21-4238-a91f-24d9ca1f3d42",
   "metadata": {},
   "outputs": [],
   "source": [
    "df_reads, ct = summarize_input(callao_bams[0].stem, marti_root=marti_path, restrander_root=restrander_path)\n",
    "print(ct)  # counts per category pair"
   ]
  },
  {
   "cell_type": "markdown",
   "id": "9c30ff2f-0fcf-49d0-8059-bc35d07b31ac",
   "metadata": {},
   "source": [
    "We can now visualize the category matches as a heatmap or an upset plot."
   ]
  },
  {
   "cell_type": "code",
   "execution_count": null,
   "id": "d8ac17d8-96cb-4a8f-b924-ddaa9a6ad1e7",
   "metadata": {},
   "outputs": [],
   "source": [
    "plot_heatmap(ct, normalize=None,  title=\"Counts\") #,            savepath=\"heat_counts.svg\")"
   ]
  },
  {
   "cell_type": "code",
   "execution_count": null,
   "id": "8142e6e8-0bfd-4a7d-bd73-cd24ccb9503e",
   "metadata": {},
   "outputs": [],
   "source": [
    "warnings.filterwarnings(\"ignore\") # pandas outputs some warning about future compatibility changes"
   ]
  },
  {
   "cell_type": "code",
   "execution_count": null,
   "id": "13fbcff5-cd4f-4cc0-80c6-c71301d4d2a4",
   "metadata": {},
   "outputs": [],
   "source": [
    "plot_upset_from_ct(ct, title=\"UpSet: one sample\")"
   ]
  },
  {
   "cell_type": "markdown",
   "id": "2a84ec10-7b81-4e5b-88a2-9c043d34bfd3",
   "metadata": {},
   "source": [
    "This is however a bit messy to look at because `marti` has a number of categories that `restrander` does not, so for simplicity we can also collapse all the `marti` extra categories into an \"Other\" group."
   ]
  },
  {
   "cell_type": "code",
   "execution_count": null,
   "id": "1f09477c-7476-4fe8-8e91-d490571bba48",
   "metadata": {},
   "outputs": [],
   "source": [
    "ct_collapsed = collapse_marti_ct(ct)"
   ]
  },
  {
   "cell_type": "code",
   "execution_count": null,
   "id": "41de116d-a1b1-470a-9b7f-03c6ef3e547a",
   "metadata": {},
   "outputs": [],
   "source": [
    "plot_heatmap(ct_collapsed, normalize=None,  title=\"Counts\") #,            savepath=\"heat_counts.svg\")\n",
    "plot_heatmap(ct_collapsed, normalize='row', title=\"Row-normalized %\") #,  savepath=\"heat_row.svg\")\n",
    "plot_heatmap(ct_collapsed, normalize='col', title=\"Col-normalized %\") #,  savepath=\"heat_col.svg\")\n",
    "plot_heatmap(ct_collapsed, normalize='all', title=\"Global %\") #,          savepath=\"heat_all.svg\")"
   ]
  },
  {
   "cell_type": "code",
   "execution_count": null,
   "id": "fa84a091-07f3-46e3-8f8f-0a707ba3c008",
   "metadata": {},
   "outputs": [],
   "source": [
    "plot_upset_from_ct(ct_collapsed, title=\"UpSet: one sample\")"
   ]
  },
  {
   "cell_type": "markdown",
   "id": "988d5553-92a1-4df5-b2bd-6a67ddb772e1",
   "metadata": {},
   "source": [
    "We can now get overall stats across all libraries and flowcells."
   ]
  },
  {
   "cell_type": "code",
   "execution_count": null,
   "id": "7a6a69bf-8131-4f01-919f-3b38107048dc",
   "metadata": {},
   "outputs": [],
   "source": [
    "per_input_df, agg_ct = summarize_many(base_names=[cb.stem for cb in callao_bams], marti_root=marti_path, restrander_root=restrander_path)"
   ]
  },
  {
   "cell_type": "markdown",
   "id": "5300ca63-9007-4a9b-aa62-4de241b740b3",
   "metadata": {},
   "source": [
    "Again we will collapse the extra categories here to simplify the visualization, but you can run the plotting methods with just `agg_ct` instead of `agg_ct_collapsed` just fine."
   ]
  },
  {
   "cell_type": "code",
   "execution_count": null,
   "id": "0f55b562-3b70-4c64-b554-edef5bcf60db",
   "metadata": {},
   "outputs": [],
   "source": [
    "agg_ct_collapsed = collapse_marti_ct(agg_ct)"
   ]
  },
  {
   "cell_type": "code",
   "execution_count": null,
   "id": "aae6d6c3-2823-4ff6-9b3c-a6d12ec11e7f",
   "metadata": {},
   "outputs": [],
   "source": [
    "plot_heatmap(agg_ct_collapsed, normalize=None, title=\"All samples combined\")\n",
    "plot_heatmap(agg_ct_collapsed, normalize='row', title=\"Row-normalized %\")#,  savepath=\"heat_row.svg\")\n",
    "plot_heatmap(agg_ct_collapsed, normalize='col', title=\"Col-normalized %\")#,  savepath=\"heat_col.svg\")\n",
    "plot_heatmap(agg_ct_collapsed, normalize='all', title=\"Global %\")#,          savepath=\"heat_all.svg\")\n"
   ]
  },
  {
   "cell_type": "code",
   "execution_count": null,
   "id": "45e65db1-a1ed-43b4-bb5a-8293f5ab2751",
   "metadata": {},
   "outputs": [],
   "source": [
    "plot_upset_from_ct(agg_ct_collapsed, title=\"UpSet: Marti vs Restrander all samples\")"
   ]
  },
  {
   "cell_type": "markdown",
   "id": "f0f66f76-c7ec-4e57-b851-df86a3ec2c53",
   "metadata": {},
   "source": [
    "Because most of the matches are Proper-Proper, they overshadow the other pairs, so we will also generate a version of the upset plot where with exclude that pair."
   ]
  },
  {
   "cell_type": "code",
   "execution_count": null,
   "id": "7fce59d9-3def-4fa3-a0f7-30baf3bc59cf",
   "metadata": {},
   "outputs": [],
   "source": [
    "plot_upset_from_ct(agg_ct_collapsed, title=\"All samples (excl. Proper-Proper)\",\n",
    "                   exclude_pair=(\"Proper\",\"Proper\"))"
   ]
  },
  {
   "cell_type": "markdown",
   "id": "a5681cb5-8e87-4a72-85b1-3419464db3d3",
   "metadata": {},
   "source": [
    "We can also just view the data as a table. Before or after collapsing categories."
   ]
  },
  {
   "cell_type": "code",
   "execution_count": null,
   "id": "2673ce16-c43f-4f48-8c16-3eaaadaf1ed5",
   "metadata": {},
   "outputs": [],
   "source": [
    "agg_ct"
   ]
  },
  {
   "cell_type": "code",
   "execution_count": null,
   "id": "22e9776e-6604-4bcb-bc6f-f2a0e2e6a645",
   "metadata": {},
   "outputs": [],
   "source": [
    "agg_ct_collapsed"
   ]
  },
  {
   "cell_type": "markdown",
   "id": "22c01051-2cce-4aa9-9b23-b3eee1819b62",
   "metadata": {},
   "source": [
    "For a more detailled look at how the categories `marti` can identify but `restrander` does not, we can also color the upset plot bars for counts by category."
   ]
  },
  {
   "cell_type": "code",
   "execution_count": null,
   "id": "58400377-54ff-40c4-b48c-9a6b284e1cac",
   "metadata": {},
   "outputs": [],
   "source": [
    "plot_upset_from_per_input_df(per_input_df)"
   ]
  },
  {
   "cell_type": "markdown",
   "id": "8c936277-76fe-449c-922d-d937d58a6d1c",
   "metadata": {},
   "source": [
    "# Marti unknowns investigation"
   ]
  },
  {
   "cell_type": "markdown",
   "id": "ee20f1e3-a2df-46c5-b0e9-56f4b361e2c8",
   "metadata": {},
   "source": [
    "While developing `marti`, besides the known and hypothetized artifacts categories, we defined new artifact categories to identify as we uncovered new recurrent structures that were previoulsy \"unknown\" to it. Any read not matching a defined artifact category gets assigned to the `Unk`(nown) category, but all constituting elements identified are still reported for each read. This allows us to inspect that there are no recurring artifacts left. For that we will take a look at the frequency of the different structures that are found in the `Unk` reads."
   ]
  },
  {
   "cell_type": "code",
   "execution_count": null,
   "id": "21a08a47-5aed-40a9-9f3e-d909ecf5083c",
   "metadata": {},
   "outputs": [],
   "source": [
    "from mdl.sc_isoform_paper.constants import MASSEQ_KEYS"
   ]
  },
  {
   "cell_type": "code",
   "execution_count": null,
   "id": "261b6b35-a0fc-40bc-839c-4107441bdbdc",
   "metadata": {},
   "outputs": [],
   "source": [
    "root_dir = Path.home()\n",
    "\n",
    "data_path = root_dir / \"data\" / \"masseq\"\n",
    "\n",
    "marti_path = data_path / f\"{today}_marti\""
   ]
  },
  {
   "cell_type": "markdown",
   "id": "ab8e97c5-14ef-4be5-aa7d-f40147fc5ac9",
   "metadata": {},
   "source": [
    "This time to have more data, and because we do not need to rerun Marti as we already have the outputs, we can take a look at the larger MAS-seq runs."
   ]
  },
  {
   "cell_type": "code",
   "execution_count": null,
   "id": "a890c782-8229-4f74-8cfc-86cb96d0bef6",
   "metadata": {},
   "outputs": [],
   "source": [
    "MASSEQ_REGEX = re.compile(r\"m8[^/]*\\.skera\\.(\\d+)$\")"
   ]
  },
  {
   "cell_type": "code",
   "execution_count": null,
   "id": "88adc808-a1a9-49c4-88ed-2389f2edef07",
   "metadata": {},
   "outputs": [],
   "source": [
    "def scan_runs_masseq(base_path):\n",
    "    results = defaultdict(lambda: {\"label\": None, \"files\": [], \"class_totals\": defaultdict(int)})\n",
    "\n",
    "    for run_path in Path(base_path).rglob(\"reports/class_counts.tsv\"):\n",
    "        run_dir = run_path.parent.parent\n",
    "        folder_name = run_dir.name\n",
    "\n",
    "        match = MASSEQ_REGEX.match(folder_name)\n",
    "        if not match:\n",
    "            print(f\"Skipping unrecognized MASSEQ folder: {folder_name}\")\n",
    "            continue\n",
    "\n",
    "        dataset_index = int(match.group(1))\n",
    "        if dataset_index not in MASSEQ_KEYS:\n",
    "            print(f\"Unmapped MASSEQ index: {folder_name}\")\n",
    "            continue\n",
    "\n",
    "        label = MASSEQ_KEYS[dataset_index]\n",
    "        results[dataset_index][\"label\"] = label\n",
    "\n",
    "        structure_path = run_dir / \"reports\" / \"structure_counts.tsv\"\n",
    "        if not structure_path.exists():\n",
    "            print(f\"Missing structure_counts.tsv in {folder_name}\")\n",
    "            continue\n",
    "\n",
    "        class_counts = parse_class_counts(run_path)\n",
    "        structure_counts = parse_structure_counts(structure_path)\n",
    "\n",
    "        results[dataset_index][\"files\"].append({\n",
    "            \"run_id\": folder_name,\n",
    "            \"class_counts\": class_counts,\n",
    "            \"structure_counts\": structure_counts,\n",
    "        })\n",
    "\n",
    "        for cls, count in class_counts.items():\n",
    "            results[dataset_index][\"class_totals\"][cls] += count\n",
    "\n",
    "    return results\n"
   ]
  },
  {
   "cell_type": "code",
   "execution_count": null,
   "id": "f1cf85f6-c115-47a1-88cc-d5b246ef5aa7",
   "metadata": {},
   "outputs": [],
   "source": [
    "def plot_unk_subclasses(unk_structs, total_reads, title=None, save_path=None):\n",
    "    if not unk_structs:\n",
    "        print(\"No 'Unk' subclass entries found.\")\n",
    "        return\n",
    "\n",
    "    subclasses, counts = zip(*sorted(unk_structs.items(), key=lambda x: -x[1]))\n",
    "    proportions = [count / total_reads for count in counts]\n",
    "\n",
    "    fig, ax = plt.subplots(figsize=(14, 6))\n",
    "    ax.bar(range(len(subclasses)), proportions, color=\"#a05d56\")\n",
    "\n",
    "    ax.set_xticks(range(len(subclasses)))\n",
    "    ax.set_xticklabels(subclasses, rotation=90, fontsize=8)\n",
    "    ax.set_ylabel(\"Proportion of total reads\")\n",
    "    ax.set_title(title or \"Unknown Structure Subclass Proportions\")\n",
    "\n",
    "    fig.tight_layout()\n",
    "\n",
    "    if save_path:\n",
    "        plt.savefig(save_path, dpi=300)\n",
    "    else:\n",
    "        plt.show()"
   ]
  },
  {
   "cell_type": "code",
   "execution_count": null,
   "id": "d4253802-210d-4f01-a02e-1948c776371e",
   "metadata": {},
   "outputs": [],
   "source": [
    "def plot_all_masseq_unk(results, output_dir, file_format=\"png\"):\n",
    "    os.makedirs(output_dir, exist_ok=True)\n",
    "\n",
    "    for idx, entry in results.items():\n",
    "        label = entry[\"label\"]\n",
    "        label_str = \"_\".join(part.replace(\" \", \"\").replace(\"'\", \"\") for part in label)\n",
    "        filename = f\"{label_str}_UnkSubclasses.{file_format}\"\n",
    "        save_path = os.path.join(output_dir, filename)\n",
    "\n",
    "        total = sum(entry[\"class_totals\"].values())\n",
    "        unk_subclass_counts = defaultdict(int)\n",
    "\n",
    "        for file in entry[\"files\"]:\n",
    "            for subclass, count in file[\"structure_counts\"].get(\"Unk\", {}).items():\n",
    "                unk_subclass_counts[subclass] += count\n",
    "\n",
    "        print(f\"Saving {file_format.upper()}: {save_path}\")\n",
    "        plot_unk_subclasses(\n",
    "            unk_structs=unk_subclass_counts,\n",
    "            total_reads=total,\n",
    "            title=f\"MASSEQ {label_str} – Unk Subclasses\",\n",
    "            save_path=save_path\n",
    "        )\n"
   ]
  },
  {
   "cell_type": "markdown",
   "id": "b8351add-1d80-4c30-900b-2279f7b089f2",
   "metadata": {},
   "source": [
    "We first parse the `marti` outputs."
   ]
  },
  {
   "cell_type": "code",
   "execution_count": null,
   "id": "06bfe7f2-9d2c-45c0-acd9-35398e21185d",
   "metadata": {},
   "outputs": [],
   "source": [
    "masseq_results = scan_runs_masseq(marti_path)"
   ]
  },
  {
   "cell_type": "markdown",
   "id": "84d599c4-7cc5-4394-bc01-c2f13689ef18",
   "metadata": {},
   "source": [
    "And then plot the distribution of the different structures found."
   ]
  },
  {
   "cell_type": "code",
   "execution_count": null,
   "id": "03549a04-0fd8-4f9f-978a-04431415d2ff",
   "metadata": {},
   "outputs": [],
   "source": [
    "masseq_unk_figures = figure_path / \"masseq_unk_subclass_plots\"\n",
    "masseq_unk_figures.mkdir(exist_ok=True)"
   ]
  },
  {
   "cell_type": "code",
   "execution_count": null,
   "id": "b3bb03d3-0973-478e-aae0-63e638d89ba7",
   "metadata": {},
   "outputs": [],
   "source": [
    "plot_all_masseq_unk(masseq_results, masseq_unk_figures, file_format=\"svg\")"
   ]
  },
  {
   "cell_type": "markdown",
   "id": "cbf62792-f68e-45b7-af04-2da7e3977cba",
   "metadata": {},
   "source": [
    "None of the structures makes it to 0.001 of the data at the most, or 0.002 if considering both orientations, so there is no good reason to define more artifact categories from this data. This could however change with if newer library construction methods produce new types of artifacts in the future."
   ]
  }
 ],
 "metadata": {
  "kernelspec": {
   "display_name": "mdl-sc-isoform-2025-ms",
   "language": "python",
   "name": "mdl-sc-isoform-2025-ms"
  },
  "language_info": {
   "codemirror_mode": {
    "name": "ipython",
    "version": 3
   },
   "file_extension": ".py",
   "mimetype": "text/x-python",
   "name": "python",
   "nbconvert_exporter": "python",
   "pygments_lexer": "ipython3",
   "version": "3.10.16"
  }
 },
 "nbformat": 4,
 "nbformat_minor": 5
}
