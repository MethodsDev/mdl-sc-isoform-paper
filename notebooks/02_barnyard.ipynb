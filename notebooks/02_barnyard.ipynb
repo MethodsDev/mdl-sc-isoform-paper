{
 "cells": [
  {
   "cell_type": "markdown",
   "id": "9f63e9ff-4cb4-4c85-a3b9-87440ffbd8a8",
   "metadata": {},
   "source": [
    "## Barnyard Analysis\n",
    "\n",
    "Stats and figures for the barnyard analyses. We performed a human+mouse (K562 + 3T3) Fluent experiment in-house and are comparing the results to public data from 10x Genomics (HEK293T + 3T3).\n",
    "\n",
    "The Fluent data was saved as an `npz` file in the previous notebook.\n",
    "\n",
    "The 10x data files `10k_hgmm_3p_nextgem_Chromium_Controller_raw_feature_bc_matrix.h5` can be downloaded from their site: [10x 3' data](https://www.10xgenomics.com/resources/datasets/10-k-1-1-mixture-of-human-hek-293-t-and-mouse-nih-3-t-3-cells-3-v-3-1-chromium-controller-3-1-standard-6-1-0), [10x 5' data](https://www.10xgenomics.com/datasets/10-k-1-1-mixture-of-human-hek-293-t-and-mouse-nih-3-t-3-cells-5-v-2-0-chromium-controller-2-standard-6-1-0)\n",
    "\n",
    "We are using the file labeled `Feature / cell matrix HDF5 (raw)` which contains all the assigned barcodes.\n",
    "\n",
    "#### Figure data\n",
    "\n",
    "To re-generate the figures without processing these files at all, download and load `barnyard_stats.pickle` file from `gs://mdl-sc-isoform-2025-ms/notebook_checkpoints/barnyard_stats.pickle` (size is 100M). It contains the arrays necessary to make the ambient contamination and barnyard plots at the bottom of this notebook.\n"
   ]
  },
  {
   "cell_type": "code",
   "execution_count": null,
   "id": "5fdc3af8-b8e4-4a5d-9e31-2c32b00c2091",
   "metadata": {},
   "outputs": [],
   "source": [
    "import csv\n",
    "import gzip\n",
    "import pickle\n",
    "from collections import Counter\n",
    "from pathlib import Path\n",
    "\n",
    "import sparse\n",
    "\n",
    "import matplotlib.pyplot as plt\n",
    "\n",
    "# installed from www.github.com/methodsdev/isoscelles\n",
    "from mdl.isoscelles.io import read_10x_h5\n",
    "\n",
    "from mdl.sc_isoform_paper.constants import SAMPLE_COLORS\n",
    "from mdl.sc_isoform_paper.plots import plot_ambient_distributions, plot_barn"
   ]
  },
  {
   "cell_type": "markdown",
   "id": "3940ae96-25fa-4fa9-ba6c-e31061f28826",
   "metadata": {},
   "source": [
    "### Loading data\n",
    "\n",
    "We load the raw data as before, caching the 10x as an `npz` file as we do so. We don't actually care about the cell barcodes here--we just need to know which features are human and which are mouse.\n",
    "\n",
    "We have a consistent feature list because we used the same combined reference for analysis. The features are in the same order, but the Fluent file has columns `gene_id,gene_name,feature_type` while the 10x file has column `gene_name,gene_id` (the reverse order)."
   ]
  },
  {
   "cell_type": "code",
   "execution_count": null,
   "id": "d0c52bf3-7a1b-45d2-a4aa-e7fbe3b4b591",
   "metadata": {},
   "outputs": [],
   "source": [
    "root_dir = Path.home()\n",
    "data_path = root_dir / \"data\"\n",
    "data_path_pipseq = data_path / \"pipseq_barnyard\"\n",
    "data_path_10x = data_path / \"10x_barnyard\"\n",
    "\n",
    "figure_path = root_dir / \"202501_figures\""
   ]
  },
  {
   "cell_type": "code",
   "execution_count": null,
   "id": "acc4f251-156f-411f-b070-1dc9c795cb43",
   "metadata": {},
   "outputs": [],
   "source": [
    "# remove `echo` to create a directory for the 10x data, and download it\n",
    "! echo mkdir {data_path_10x}\n",
    "! echo wget -P {data_path_10x} \\\n",
    "    https://cf.10xgenomics.com/samples/cell-exp/6.1.0/10k_hgmm_3p_nextgem_Chromium_Controller/10k_hgmm_3p_nextgem_Chromium_Controller_raw_feature_bc_matrix.h5 \n",
    "! echo wget -P {data_path_10x} \\\n",
    "    https://cf.10xgenomics.com/samples/cell-vdj/6.1.0/10k_hgmm_5pv2_nextgem_Chromium_Controller/10k_hgmm_5pv2_nextgem_Chromium_Controller_raw_feature_bc_matrix.h5"
   ]
  },
  {
   "cell_type": "code",
   "execution_count": null,
   "id": "acc4f251-156f-411f-b070-1dc9c795cb43",
   "metadata": {},
   "outputs": [],
   "source": [
    "# remove `echo` to download\n",
    "! echo gcloud storage cp gs://mdl-sc-isoform-2025-ms/notebook_checkpoints/barnyard_stats.pickle {data_path}/"
   ]
  },
  {
   "cell_type": "code",
   "execution_count": null,
   "id": "76a42070",
   "metadata": {},
   "outputs": [],
   "source": [
    "barnyard_stats = data_path / \"barnyard_stats.pickle\"\n",
    "if barnyard_stats.exists():\n",
    "    with barnyard_stats.open(\"rb\") as fh:\n",
    "        barn_h_10x_3p, barn_m_10x_3p, barn_h_10x_5p, barn_m_10x_5p, barn_h_pipseq, barn_m_pipseq = pickle.load(fh)"
   ]
  },
  {
   "cell_type": "markdown",
   "id": "d2a611de-2936-43c9-af5a-51321048bf80",
   "metadata": {},
   "source": [
    "### Reading and processing data\n",
    "\n",
    "If data was loaded from the pickle, these cells can be skipped and you can jump to the **Ambient Contamination** section."
   ]
  },
  {
   "cell_type": "code",
   "execution_count": null,
   "id": "06ffbf02-a79b-4736-ac21-2f6460e4cc3e",
   "metadata": {},
   "outputs": [],
   "source": [
    "# generated in notebook 01\n",
    "barn_pipseq = sparse.load_npz(data_path_pipseq / \"raw_matrix\" / \"pipseq_barnyard.npz\")\n",
    "\n",
    "with gzip.open(data_path_pipseq / \"raw_matrix\" / \"features.tsv.gz\", \"rt\") as fh:\n",
    "    barn_g = [tuple(r[:2]) for r in csv.reader(fh, delimiter=\"\\t\")]"
   ]
  },
  {
   "cell_type": "code",
   "execution_count": null,
   "id": "20de04a6-5336-4cc9-9e34-d7a5612c7c0f",
   "metadata": {},
   "outputs": [],
   "source": [
    "npz_10x_3p_file = data_path_10x / \"10k_hgmm_3p_nextgem_Chromium_Controller_raw_feature_bc_matrix.npz\"\n",
    "if not npz_10x_3p_file.exists():\n",
    "    barn_10x_3p, barn_10x_3p_bc, barn_10x_3p_g = read_10x_h5(npz_10x_3p_file.with_suffix(\".h5\"))\n",
    "\n",
    "    sparse.save_npz(npz_10x_3p_file, barn_10x_3p)\n",
    "    \n",
    "    with gzip.open(data_path_10x / \"3p_features.tsv.gz\", \"wt\") as out:\n",
    "        print(\"\\n\".join(\"\\t\".join(g) for g in barn_10x_3p_g), file=out)\n",
    "else:\n",
    "    barn_10x_3p = sparse.load_npz(npz_10x_3p_file)\n",
    "\n",
    "    with gzip.open(data_path_10x / \"3p_features.tsv.gz\", \"rt\") as fh:\n",
    "        barn_10x_3p_g = [tuple(r[:2]) for r in csv.reader(fh, delimiter=\"\\t\")]\n",
    "\n",
    "print(\"feature list is equal but elements are reversed:\", barn_g == [t[::-1] for t in barn_10x_3p_g])"
   ]
  },
  {
   "cell_type": "code",
   "execution_count": null,
   "id": "c2f9c63d-1696-4129-9abe-bc694dceb452",
   "metadata": {},
   "outputs": [],
   "source": [
    "npz_10x_5p_file = data_path_10x / \"10k_hgmm_5pv2_nextgem_Chromium_Controller_raw_feature_bc_matrix.npz\"\n",
    "if not npz_10x_5p_file.exists():\n",
    "    barn_10x_5p, barn_10x_5p_bc, barn_10x_5p_g = read_10x_h5(npz_10x_5p_file.with_suffix(\".h5\"))\n",
    "\n",
    "    sparse.save_npz(npz_10x_5p_file, barn_10x_5p)\n",
    "    \n",
    "    with gzip.open(data_path_10x / \"5p_features.tsv.gz\", \"wt\") as out:\n",
    "        print(\"\\n\".join(\"\\t\".join(g) for g in barn_10x_5p_g), file=out)\n",
    "else:\n",
    "    barn_10x_5p = sparse.load_npz(npz_10x_5p_file)\n",
    "\n",
    "    with gzip.open(data_path_10x / \"5p_features.tsv.gz\", \"rt\") as fh:\n",
    "        barn_10x_5p_g = [tuple(r[:2]) for r in csv.reader(fh, delimiter=\"\\t\")]\n",
    "\n",
    "print(\"feature list is equal but elements are reversed:\", barn_g == [t[::-1] for t in barn_10x_5p_g])"
   ]
  },
  {
   "cell_type": "markdown",
   "id": "38037794-4f6e-49ce-bd0a-914e8f27815c",
   "metadata": {},
   "source": [
    "#### Splitting human and mouse genes\n",
    "\n",
    "We need to separate out the UMIs for each species. The human genes are listed first in the matrix, then the mouse."
   ]
  },
  {
   "cell_type": "code",
   "execution_count": null,
   "id": "20ea2fcb-6db6-47ad-b7e3-ef4e84513dcd",
   "metadata": {},
   "outputs": [],
   "source": [
    "print(Counter(g[0].split(\"_\")[0] for g in barn_g))\n",
    "\n",
    "print(\n",
    "    \"Index of last human feature: \",\n",
    "    max(i for i,g in enumerate(barn_g) if g[0].startswith(\"GRCh38\")),\n",
    "    \"\\n\"\n",
    "    \"Index of first mouse feature: \",\n",
    "    min(i for i,g in enumerate(barn_g) if g[0].startswith(\"mm10\"))\n",
    ")"
   ]
  },
  {
   "cell_type": "code",
   "execution_count": null,
   "id": "1581d304-b531-4995-b652-07c842f3ca1f",
   "metadata": {},
   "outputs": [],
   "source": [
    "barn_numis_pipseq = barn_pipseq.sum(1).todense()\n",
    "barn_numis_10x_3p = barn_10x_3p.sum(1).todense()\n",
    "barn_numis_10x_5p = barn_10x_5p.sum(1).todense()"
   ]
  },
  {
   "cell_type": "code",
   "execution_count": null,
   "id": "500d4b28-2f2e-44a3-b95e-b9d3da5d86f4",
   "metadata": {},
   "outputs": [],
   "source": [
    "# kneeplot of nUMIs for each barnyard experiment\n",
    "plt.plot(sorted(barn_numis_10x_3p, reverse=True), label=\"10x 3'\", color=SAMPLE_COLORS[\"10x 3'\"])\n",
    "plt.plot(sorted(barn_numis_10x_5p, reverse=True), label=\"10x 5'\", color=SAMPLE_COLORS[\"10x 5'\"])\n",
    "plt.plot(sorted(barn_numis_pipseq, reverse=True), label=\"PIPseq\", color=SAMPLE_COLORS['PIPseq'])\n",
    "plt.xscale(\"log\")\n",
    "plt.yscale(\"log\")\n",
    "\n",
    "plt.xlabel(\"Barcodes\")\n",
    "plt.ylabel(\"# UMIs\")\n",
    "plt.legend()\n",
    "plt.show()"
   ]
  },
  {
   "cell_type": "markdown",
   "id": "e94c7d7b-1d18-4f97-95c7-4260438eabe6",
   "metadata": {},
   "source": [
    "Here we're just looking at the kneeplots (barcodes vs # UMIs) for each barnyard experiment. The PIPseq data has ~3.6x more sequencing, but there are also clear differences in the number of cells sequenced (the first knee) and the number of barcodes with ambient reads (the second knee)"
   ]
  },
  {
   "cell_type": "code",
   "execution_count": null,
   "id": "a6d10ec6-d14e-47b1-b310-338b7536f0b8",
   "metadata": {},
   "outputs": [],
   "source": [
    "# calculate nUMIs per-species for each experiment\n",
    "\n",
    "barn_h_pipseq = barn_pipseq[:,:36601].sum(1).todense()\n",
    "barn_m_pipseq = barn_pipseq[:,36601:].sum(1).todense()\n",
    "\n",
    "barn_h_10x_3p = barn_10x_3p[:,:36601].sum(1).todense()\n",
    "barn_m_10x_3p = barn_10x_3p[:,36601:].sum(1).todense()\n",
    "\n",
    "barn_h_10x_5p = barn_10x_5p[:,:36601].sum(1).todense()\n",
    "barn_m_10x_5p = barn_10x_5p[:,36601:].sum(1).todense()"
   ]
  },
  {
   "cell_type": "code",
   "execution_count": null,
   "id": "c628a0dc-fc1f-498f-9cb3-c73f00b99dcd",
   "metadata": {},
   "outputs": [],
   "source": [
    "fig, ax = plt.subplots(1, 3, figsize=(18, 5))\n",
    "\n",
    "titles = [\"10x 3'\", \"10x 5'\", \"PIPseq\"]\n",
    "labels = [\"Total\", \"Human\", \"Mouse\"]\n",
    "\n",
    "for i, ns in enumerate(\n",
    "    (\n",
    "        (barn_numis_10x_3p, barn_h_10x_3p, barn_m_10x_3p), \n",
    "        (barn_numis_10x_5p, barn_h_10x_5p, barn_m_10x_5p),\n",
    "        (barn_numis_pipseq, barn_h_pipseq, barn_m_pipseq)\n",
    "    )\n",
    "):\n",
    "    for n,lbl in zip(ns, labels):\n",
    "        ax[i].plot(sorted(n, reverse=True), label=lbl)\n",
    "\n",
    "    ax[i].axhline(1000, linestyle=\":\", color='grey')\n",
    "    ax[i].axhline(10000, linestyle=\":\", color='grey')\n",
    "    ax[i].set_xscale(\"log\")\n",
    "    ax[i].set_yscale(\"log\")\n",
    "    ax[i].set_xlabel(\"Barcodes\")\n",
    "    ax[i].set_ylabel(\"# UMIs\")\n",
    "    ax[i].set_title(titles[i])\n",
    "    ax[i].legend()\n",
    "\n",
    "plt.show()"
   ]
  },
  {
   "cell_type": "markdown",
   "id": "c7089da7-3342-4276-8887-e11331a12cbd",
   "metadata": {
    "user_expressions": []
   },
   "source": [
    "Here we break up the experiments by species, to visualize the number of human and mouse cells seen in each experiment. This just confirms that all the experiments contain a roughly equal mix of the two species. The two dotted lines show possible high and low cutoffs for confidently calling real cells and empty droplets respectively."
   ]
  },
  {
   "cell_type": "code",
   "execution_count": null,
   "id": "45ba2f0a-bc38-4b33-b886-bff0a1f506d9",
   "metadata": {},
   "outputs": [],
   "source": [
    "# doublet rates for a variety of cutoffs\n",
    "\n",
    "for (i, hm_data, h_data, m_data) in (\n",
    "    (\"10x 3'\", barn_numis_10x_3p, barn_h_10x_3p, barn_m_10x_3p),\n",
    "    (\"10x 5'\", barn_numis_10x_5p, barn_h_10x_5p, barn_m_10x_5p),  \n",
    "    (\"fluent\", barn_numis_pipseq, barn_h_pipseq, barn_m_pipseq)\n",
    "):\n",
    "    for cutoff in (2750, 3000, 10000):\n",
    "        c_ix = hm_data > cutoff\n",
    "        h_ix = h_data > cutoff\n",
    "        m_ix = m_data > cutoff\n",
    "        ix = h_ix | m_ix\n",
    "        ix2 = h_ix & m_ix\n",
    "        \n",
    "        print(\n",
    "            i,\n",
    "            *(f\"{v:,d}\" for v in (cutoff, h_ix.sum(), m_ix.sum(), ix2.sum(), ix.sum())),\n",
    "            f\"{ix2.sum() / c_ix.sum():.2%}\",\n",
    "            f\"{ix2.sum() / ix.sum():.2%}\",\n",
    "            sep=\"\\t\",\n",
    "        )\n"
   ]
  },
  {
   "cell_type": "markdown",
   "id": "e95cc9b2-430a-4839-b2f1-c415005b7110",
   "metadata": {},
   "source": [
    "### Ambient contamination"
   ]
  },
  {
   "cell_type": "code",
   "execution_count": null,
   "id": "ad90ca35-4c6f-400a-8ad8-153d6381fe5d",
   "metadata": {},
   "outputs": [],
   "source": [
    "plot_ambient_distributions(\n",
    "    [\"PIPseq\", \"10x 3'\", \"10x 5'\"],\n",
    "    [barn_h_pipseq, barn_h_10x_3p, barn_h_10x_5p],\n",
    "    [barn_m_pipseq, barn_m_10x_3p, barn_m_10x_5p],\n",
    "    output_file=figure_path / \"supp_fig5.svg\"\n",
    ")"
   ]
  },
  {
   "cell_type": "markdown",
   "id": "29da4c86-a86e-44e4-bf27-3f667ace5207",
   "metadata": {},
   "source": [
    "This plot shows the percent of other-species reads in what we consider single-cell barcodes (i.e. they contain many UMIs and aren't doublets). For each such barcode we consider how many UMIs for the other species are seen--this gives us an estimate of the contamination from ambient mRNA. In both comparisons, PIPseq and 10x appear roughly similar in terms of contamination percentage."
   ]
  },
  {
   "cell_type": "markdown",
   "id": "236fa617-a6dc-4d65-bb98-3b490608751c",
   "metadata": {
    "user_expressions": []
   },
   "source": [
    "### Barnyard plots\n",
    "\n",
    "The following is the standard barnyard plot for the three datasets: a scatter plot of human UMIs vs mouse UMIs for each barcode. We show this on a log scale to illustrate that all of the called barcodes contain a notable number of UMIs from the other species in the experiment; this is difficult to observe with linear scaling.\n",
    "\n"
   ]
  },
  {
   "cell_type": "code",
   "execution_count": null,
   "id": "5404e230-ebb1-4d28-b0e7-2c980a5c6c40",
   "metadata": {},
   "outputs": [],
   "source": [
    "fig, ax = plt.subplots(1, 3, figsize=(18, 5))\n",
    "\n",
    "plot_barn(fig, ax[0], \"10x 3'\", barn_h_10x_3p, barn_m_10x_3p, 2750)\n",
    "plot_barn(fig, ax[1], \"10x 5'\", barn_h_10x_5p, barn_m_10x_5p, 3000)\n",
    "plot_barn(fig, ax[2], \"PIPseq\", barn_h_pipseq, barn_m_pipseq, 10000)\n",
    "\n",
    "fig.suptitle(\"Supplementary figure: barnyard experiments\")\n",
    "\n",
    "plt.savefig(figure_path / \"supp_fig4.svg\")\n",
    "plt.show()"
   ]
  },
  {
   "cell_type": "markdown",
   "id": "c021fc9b-ea9b-4d64-ba79-21e16bfb7941",
   "metadata": {},
   "source": [
    "### Saving data for figure 1\n",
    "\n",
    "We just save the data for the contamination and barnyard plots shown above, so we can reproduce them without re-running all of this."
   ]
  },
  {
   "cell_type": "code",
   "execution_count": null,
   "id": "d5ce15ce-eb03-42cb-b578-ecf420659ade",
   "metadata": {},
   "outputs": [],
   "source": [
    "if not barnyard_stats.exists():\n",
    "    with open(barnyard_stats, \"wb\") as out:\n",
    "        pickle.dump(\n",
    "            (barn_h_10x_3p, barn_m_10x_3p, barn_h_10x_5p, barn_m_10x_5p, barn_h_pipseq, barn_m_pipseq),\n",
    "            out\n",
    "        )"
   ]
  },
  {
   "cell_type": "code",
   "execution_count": null,
   "id": "ddc8ecce-ebb0-4a50-a1e0-1f65da2b3395",
   "metadata": {},
   "outputs": [],
   "source": []
  }
 ],
 "metadata": {
  "kernelspec": {
   "display_name": "fa",
   "language": "python",
   "name": "fa"
  },
  "language_info": {
   "codemirror_mode": {
    "name": "ipython",
    "version": 3
   },
   "file_extension": ".py",
   "mimetype": "text/x-python",
   "name": "python",
   "nbconvert_exporter": "python",
   "pygments_lexer": "ipython3",
   "version": "3.10.14"
  }
 },
 "nbformat": 4,
 "nbformat_minor": 5
}
