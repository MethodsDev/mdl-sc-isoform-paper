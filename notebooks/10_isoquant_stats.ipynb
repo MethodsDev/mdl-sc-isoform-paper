{
 "cells": [
  {
   "cell_type": "markdown",
   "id": "0337c24e-87cf-43a5-9f8b-a058cf78fa4f",
   "metadata": {
    "tags": [],
    "user_expressions": []
   },
   "source": [
    "### Collecting stats from isoquant outputs\n",
    "\n",
    "Collecting the SQANTI-style classification calls from the IsoQuant outputs."
   ]
  },
  {
   "cell_type": "markdown",
   "id": "d436157b-0da5-427a-bd7b-2fc48b13c571",
   "metadata": {},
   "source": [
    "### imports"
   ]
  },
  {
   "cell_type": "code",
   "execution_count": null,
   "id": "a1beda80-b3d8-4faa-a115-f3d8089ae34f",
   "metadata": {},
   "outputs": [],
   "source": [
    "import gzip\n",
    "import pickle\n",
    "from collections import defaultdict, Counter\n",
    "from concurrent.futures import ProcessPoolExecutor\n",
    "from pathlib import Path\n",
    "\n",
    "import os\n",
    "import numpy as np\n",
    "import pysam\n",
    "import yaml\n",
    "\n",
    "import matplotlib.pyplot as plt\n",
    "import matplotlib.ticker as mtick\n",
    "\n",
    "import mdl.sc_isoform_paper.plots  # noqa\n",
    "from mdl.sc_isoform_paper.constants import MASSEQ_KEYS, SAMPLE_COLORS, SHORTREAD_KEYS\n",
    "from mdl.sc_isoform_paper.pipseq_barcodes import barcode_to_sequence\n",
    "\n",
    "from mdl.isoscelles.leiden import cluster_leaf_nodes, cluster_labels"
   ]
  },
  {
   "cell_type": "markdown",
   "id": "439a6a38-9c45-4647-879f-f9c2c39d5ee5",
   "metadata": {},
   "source": [
    "### Setup"
   ]
  },
  {
   "cell_type": "code",
   "execution_count": null,
   "id": "dbbcc5e6-7607-492d-93ad-a1441752584e",
   "metadata": {},
   "outputs": [],
   "source": [
    "root_dir = Path.home()\n",
    "data_path = root_dir / \"data\"\n",
    "\n",
    "masseq_data_path = data_path / \"masseq\"\n",
    "annotated_path = masseq_data_path / \"20250124_annotated\"\n",
    "\n",
    "sqanti_stats_file = data_path / \"isoquant_sqanti3_classes.pickle\"\n",
    "\n",
    "figure_path = root_dir / \"202501_figures\""
   ]
  },
  {
   "cell_type": "code",
   "execution_count": null,
   "id": "3e573a90-fe47-4f4d-95f8-2c1bd43e1538",
   "metadata": {},
   "outputs": [],
   "source": [
    "sample_order = [MASSEQ_KEYS[i] for i in (1, 3, 4)]\n",
    "sample_order"
   ]
  },
  {
   "cell_type": "code",
   "execution_count": null,
   "id": "1a12ff78-dbb0-4260-96c3-b175ae272c5f",
   "metadata": {},
   "outputs": [],
   "source": [
    "if sqanti_stats_file.exists():\n",
    "    with sqanti_stats_file.open(\"rb\") as fh:\n",
    "        c_counters = pickle.load(fh)"
   ]
  },
  {
   "cell_type": "markdown",
   "id": "548081aa-0906-4d18-b54b-79266f00a03b",
   "metadata": {},
   "source": [
    "## Read SQANTI classifications\n",
    "\n",
    "If you have the pickle file, you can skip to **Plotting and tables**.\n",
    "\n",
    "Otherwise we need to read the clustering from notebook 01 and then count the SQANTI3 classifications (from the IsoQuant output) broken down by cluster assignment."
   ]
  },
  {
   "cell_type": "code",
   "execution_count": null,
   "id": "7751883c-9eef-4b3d-90c5-fd1eab45d99a",
   "metadata": {},
   "outputs": [],
   "source": [
    "annotated_bams = sorted(annotated_path.glob(\"*.[134].*annotated.bam\"))\n",
    "len(annotated_bams)"
   ]
  },
  {
   "cell_type": "code",
   "execution_count": null,
   "id": "5c481d03-5e4e-4124-8a98-240a014e2371",
   "metadata": {},
   "outputs": [],
   "source": [
    "with open(data_path / \"shortread_clustering_100k.pickle\", \"rb\") as fh:\n",
    "    sr_clustering = pickle.load(fh)\n",
    "\n",
    "with open(data_path / \"shortread_stats_100k.pickle\", \"rb\") as fh:\n",
    "    ix_dict = pickle.load(fh)[\"ix_dict\"]\n",
    "\n",
    "with open(data_path / \"shortread_stats_100k.pickle\", \"rb\") as fh:\n",
    "    sr_numis = pickle.load(fh)[\"numis\"]"
   ]
  },
  {
   "cell_type": "code",
   "execution_count": null,
   "id": "5a726e16-a7b4-48d7-82ff-abfba3cd412a",
   "metadata": {},
   "outputs": [],
   "source": [
    "c_arrays = dict()\n",
    "for key in SHORTREAD_KEYS:\n",
    "    _leaf_nodes = cluster_leaf_nodes(sr_clustering[key][0])\n",
    "    _label_array = cluster_labels(sr_clustering[key][0], _leaf_nodes)\n",
    "    _k2i = {k: i for i, k in enumerate(sorted(_leaf_nodes))}    \n",
    "    c_arrays[key] = np.array([_k2i.get(k, -1) for k in _label_array])"
   ]
  },
  {
   "cell_type": "code",
   "execution_count": null,
   "id": "1e9f0378-87ad-4c68-aae3-15e8d06d7bce",
   "metadata": {},
   "outputs": [],
   "source": [
    "bc_dict = dict()\n",
    "\n",
    "for fp in data_path.glob(\"10x*/outs/raw_feature_bc_matrix/barcodes.tsv.gz\"):\n",
    "    fp = fp.parent\n",
    "    print(fp)\n",
    "    with gzip.open(fp / \"barcodes.tsv.gz\", \"rt\") as fh:\n",
    "        # strip off the -1 suffix from barcodes\n",
    "        bc_dict[fp.parent.parent.name] = [line.strip()[:-2] for line in fh]\n",
    "\n",
    "fp = data_path / \"pipseq_pbmc\"\n",
    "print(fp)\n",
    "with gzip.open(fp / \"raw_matrix\" / \"barcodes.tsv.gz\", \"rt\") as fh:\n",
    "    # convert from encoded barcode to the real sequence\n",
    "    bc_dict[fp.name] = [barcode_to_sequence(line.strip()) for line in fh]\n"
   ]
  },
  {
   "cell_type": "code",
   "execution_count": null,
   "id": "6734aee1-5001-43b6-a892-e348001f2e9f",
   "metadata": {},
   "outputs": [],
   "source": [
    "def read_class_counts_w_bc(key, bam_file, bc_dict):\n",
    "    sq_class_counts = defaultdict(Counter)\n",
    "\n",
    "    with pysam.AlignmentFile(bam_file, \"rb\", threads=2) as fh:\n",
    "        for a in fh:\n",
    "            bc = a.get_tag(\"CB\")\n",
    "            yc = a.get_tag(\"XS\")\n",
    "            if bc in bc_dict:\n",
    "                sq_class_counts[bc_dict[bc]][yc] += 1\n",
    "\n",
    "    return key, dict(sq_class_counts)"
   ]
  },
  {
   "cell_type": "code",
   "execution_count": null,
   "id": "fc8e7f9a-d0e6-4312-a5b2-a59c3f8fb462",
   "metadata": {},
   "outputs": [],
   "source": [
    "bc_to_cluster = {\n",
    "    k: dict(\n",
    "        zip(\n",
    "            (bc for bc,i in zip(bc_dict[k2], ix_dict[k2]) if i),\n",
    "            c_arrays[k2]\n",
    "        )\n",
    "    ) for k, k2 in zip(sample_order, [\"pipseq_pbmc\", \"10x_3p_pbmc\", \"10x_5p_pbmc\"])\n",
    "}"
   ]
  },
  {
   "cell_type": "code",
   "execution_count": null,
   "id": "aaac7dd8-c126-4927-863d-940e155ab6f1",
   "metadata": {},
   "outputs": [],
   "source": [
    "key_list = [MASSEQ_KEYS[int(ab.name.split(\".\")[2])] for ab in annotated_bams]\n",
    "\n",
    "with ProcessPoolExecutor(8) as exc:\n",
    "    c_counters = defaultdict(lambda: defaultdict(Counter))\n",
    "    for key, cc in exc.map(\n",
    "        read_class_counts_w_bc, \n",
    "        key_list,\n",
    "        annotated_bams,\n",
    "        (bc_to_cluster[key] for key in key_list)\n",
    "    ):\n",
    "        for i in cc:\n",
    "            c_counters[key][i] += cc[i]"
   ]
  },
  {
   "cell_type": "code",
   "execution_count": null,
   "id": "827e461d-9677-4a71-9938-ce41cd9adec0",
   "metadata": {},
   "outputs": [],
   "source": [
    "c_counters = {k: {j: v for j,v in c_counters[k].items()} for k in c_counters}\n",
    "\n",
    "if not sqanti_stats_file.exists():\n",
    "    with sqanti_stats_file.open(\"wb\") as out:\n",
    "        pickle.dump(c_counters, out)"
   ]
  },
  {
   "cell_type": "markdown",
   "id": "d777c3e7-69d6-4f70-aa65-cbf6d63fe6b5",
   "metadata": {},
   "source": [
    "## Plotting and tables"
   ]
  },
  {
   "cell_type": "code",
   "execution_count": null,
   "id": "06d6f470-27de-4469-b889-1dc97f9f0fce",
   "metadata": {},
   "outputs": [],
   "source": [
    "# order categories by overall counts\n",
    "c_order = [\n",
    "    c for c,_ in sum((sum(c_counters[k].values(), start=Counter()) for k in c_counters), start=Counter()).most_common()\n",
    "    if c != \"-\"\n",
    "] + [\"-\"]"
   ]
  },
  {
   "cell_type": "code",
   "execution_count": null,
   "id": "9db3869b-4665-46ca-ad62-6b410c391d9f",
   "metadata": {},
   "outputs": [],
   "source": [
    "# same as the labels from notebook 01\n",
    "cluster_names = {\n",
    "    (\"PIPseq\", \"0.8x\"): {\n",
    "        0: 'CD4 T cells 1',\n",
    "        1: 'CD4 T cells 2',\n",
    "        2: 'Naïve CD4',\n",
    "        3: 'Cytotoxic T cells',\n",
    "        4: 'Innate Lymphoid',\n",
    "        5: 'CD16 Monocytes',\n",
    "        6: 'CD14 Monocytes',\n",
    "        7: 'B cells',\n",
    "    },\n",
    "    (\"10x 3'\",): {\n",
    "        0: 'CD4 T cells 1',\n",
    "        1: 'CD4 T cells 2',\n",
    "        2: 'Naïve CD4',\n",
    "        3: 'Cytotoxic T cells',\n",
    "        4: 'B cells',\n",
    "        5: 'CD14 Monocytes',\n",
    "        6: 'CD16 Monocytes',\n",
    "        7: 'DC',\n",
    "    },\n",
    "    (\"10x 5'\",): {\n",
    "        0: 'CD4 T cells 1',\n",
    "        1: 'CD4 T cells 2',\n",
    "        2: 'Naïve CD4',\n",
    "        3: 'Cytotoxic T cells',\n",
    "        4: 'Innate Lymphoid',\n",
    "        5: 'B cells',\n",
    "        6: 'CD14 Monocytes',\n",
    "        7: 'CD16 Monocytes',\n",
    "    }\n",
    "}\n",
    "\n",
    "cluster_reverse_labels = {\n",
    "    k: {v: i for i,v in cluster_names[k].items()}\n",
    "    for k in cluster_names\n",
    "}\n"
   ]
  },
  {
   "cell_type": "code",
   "execution_count": null,
   "id": "c3935efb-917a-4742-86a3-fe592af807c1",
   "metadata": {},
   "outputs": [],
   "source": [
    "all_cell_labels = sorted(set.union(*(set(v.values()) for v in cluster_names.values())))\n",
    "\n",
    "x = np.arange(len(c_order))\n",
    "fig, axs = plt.subplots(3, 3, figsize=(18, 9), sharex=True)\n",
    "\n",
    "for lbl, ax in zip(all_cell_labels, axs.flatten()):\n",
    "    for i, k in enumerate(c_counters):\n",
    "        if lbl not in cluster_reverse_labels[k]:\n",
    "            continue\n",
    "            \n",
    "        j = cluster_reverse_labels[k][lbl]\n",
    "        y = [c_counters[k][j][c] / c_counters[k][j].total() for c in c_order]\n",
    "        ax.bar(x + 0.05 + i * 0.3, width=0.3, height=y, color=SAMPLE_COLORS[k[0]], align=\"edge\")\n",
    "    ax.set_title(lbl)\n",
    "    ax.set_xticks(x + 0.5, c_order, rotation=75, ha=\"right\")\n",
    "    ax.yaxis.set_major_formatter(mtick.PercentFormatter(xmax=1, decimals=0))\n",
    "\n",
    "plt.savefig(figure_path / \"supp_fig7.svg\")\n",
    "plt.show()\n"
   ]
  },
  {
   "cell_type": "code",
   "execution_count": null,
   "id": "552c57e7-059a-4b2e-a036-d0dd19b1888c",
   "metadata": {},
   "outputs": [],
   "source": [
    "combined_c_counters = {k: sum(c_counters[k].values(), start=Counter()) for k in c_counters}\n",
    "\n",
    "# supplemental table 4\n",
    "print(f\"{'class':23}\", *(f\"{' '.join(k):>16}\" for k in c_counters), sep=\"\\t\")\n",
    "for c in c_order:\n",
    "    print(f\"{c:23}\", *(f\"{combined_c_counters[k][c] / combined_c_counters[k].total():16.2%}\" for k in combined_c_counters), sep=\"\\t\")\n"
   ]
  },
  {
   "cell_type": "code",
   "execution_count": null,
   "id": "fccf3cb4-894f-439f-b3fb-34f0e3e94962",
   "metadata": {},
   "outputs": [],
   "source": [
    "# note: the cluster orders are not the same. We reordered the columns for supplementary table 5\n",
    "for k in c_counters:\n",
    "    print(f\"{' '.join(k):23}\", *(f\"{cluster_names[k][i].replace(' ', '_'):>16}\" for i in range(8)), sep=\"\\t\")\n",
    "    for c in c_order:\n",
    "        print(f\"{c:23}\", *(f\"{c_counters[k][i][c] / c_counters[k][i].total():16.2%}\" for i in range(8)), sep=\"\\t\")\n",
    "    print()"
   ]
  },
  {
   "cell_type": "markdown",
   "id": "1d3fca57-da96-4c6a-8fb1-53189322688c",
   "metadata": {},
   "source": [
    "# Analysis of downstream impact on DE"
   ]
  },
  {
   "cell_type": "markdown",
   "id": "e3a346e6-5f06-4ca8-81ac-61757b672f31",
   "metadata": {},
   "source": [
    "We will now take a look at how filtering for only good priming reads or not affects Differential Expression analysis when comparing cell type clusters. "
   ]
  },
  {
   "cell_type": "code",
   "execution_count": null,
   "id": "70865347-5a80-4a0d-bf6f-d21ef06d3ff1",
   "metadata": {},
   "outputs": [],
   "source": [
    "from mdl.sc_isoform_paper.isoform_counts import (\n",
    "    build_cell_by_isoform_matrix,\n",
    "    cell_isoform_set_to_df,\n",
    "    make_anndata_from_counts,\n",
    "    library_prefix,\n",
    "    write_h5ad,\n",
    "    export_10x_from_h5ad,\n",
    ")\n"
   ]
  },
  {
   "cell_type": "code",
   "execution_count": null,
   "id": "2d3a3395-1ccd-4856-b8cf-ec28f8c2e7e9",
   "metadata": {},
   "outputs": [],
   "source": [
    "merged_annotated_path = annotated_path / \"merged\"\n",
    "de_path = data_path / \"DE_analysis\""
   ]
  },
  {
   "cell_type": "code",
   "execution_count": null,
   "id": "670de37a-0a83-45b2-a2cf-af7c2ed8d98f",
   "metadata": {},
   "outputs": [],
   "source": [
    "annotated_bams = {\n",
    "    (\"10x 3'\",): bams_path / \"10x_3p.primary.annotated.dedup.sorted.bam\",\n",
    "    (\"10x 5'\",): bams_path / \"10x_5p.primary.annotated.dedup.sorted.bam\",\n",
    "    # (\"PIPseq 0.6x\"): bams_path / \"pipseq_6x.primary.annotated.dedup.sorted.bam\",\n",
    "    ('PIPseq', '0.8x'): bams_path / \"pipseq_8x.primary.annotated..dedup.sorted.bam\",\n",
    "}"
   ]
  },
  {
   "cell_type": "code",
   "execution_count": null,
   "id": "0288315f-dd61-4d16-a1f1-38b4e3bbe782",
   "metadata": {},
   "outputs": [],
   "source": [
    "good_priming_categories = set([\"ANNO_GPA\", \"GOOD\", \"TX_PAS\", \"TX_MOTIF\"])"
   ]
  },
  {
   "cell_type": "markdown",
   "id": "4e9fd86b-f010-4920-bdd6-1554f23580d6",
   "metadata": {},
   "source": [
    "We will read the assigned isoform ID from the XI tag of our annotated, deduplicated BAMs, and create an AnnData object for both all of our reads, and only the good priming reads."
   ]
  },
  {
   "cell_type": "code",
   "execution_count": null,
   "id": "9ae03f2f-02e5-4173-bb8d-acda657a8a87",
   "metadata": {},
   "outputs": [],
   "source": [
    "# XI (annotated)\n",
    "for library, bam_file in annotated_bams.items():\n",
    "    cell_isoform_umis, cell_goodprim_isoform_umis = build_cell_by_isoform_matrix(\n",
    "        bam_file, bc_to_cluster[library], good_priming_categories, isoform_tag=\"XI\", threads=12\n",
    "    )\n",
    "    df_all  = cell_isoform_set_to_df(cell_isoform_umis)\n",
    "    df_good = cell_isoform_set_to_df(cell_goodprim_isoform_umis)\n",
    "\n",
    "    ad_all  = make_anndata_from_counts(df_all,  bc_to_cluster[library])\n",
    "    ad_good = make_anndata_from_counts(df_good, bc_to_cluster[library])\n",
    "\n",
    "    lp = library_prefix(library)\n",
    "    write_h5ad(ad_all,  de_path / f\"{lp}allisoform_dedup_counts.h5ad\")\n",
    "    write_h5ad(ad_good, de_path / f\"{lp}goodpriming_dedup_counts.h5ad\")\n"
   ]
  },
  {
   "cell_type": "markdown",
   "id": "80a1d7f9-57c5-4f07-88b6-42d8f1e770a1",
   "metadata": {},
   "source": [
    "We then do the same but using the isoform IDs when also running reconstruction."
   ]
  },
  {
   "cell_type": "code",
   "execution_count": null,
   "id": "51e6ad47-5c73-477d-a05f-f2a793279e0a",
   "metadata": {},
   "outputs": [],
   "source": [
    "# YT (reconstructed)\n",
    "for library, bam_file in annotated_bams.items():\n",
    "    cell_isoform_umis, cell_goodprim_isoform_umis = build_cell_by_isoform_matrix(\n",
    "        bam_file, bc_to_cluster[library], good_priming_categories, isoform_tag=\"YT\", threads=12\n",
    "    )\n",
    "    df_all  = cell_isoform_set_to_df(cell_isoform_umis)\n",
    "    df_good = cell_isoform_set_to_df(cell_goodprim_isoform_umis)\n",
    "\n",
    "    ad_all  = make_anndata_from_counts(df_all,  bc_to_cluster[library])\n",
    "    ad_good = make_anndata_from_counts(df_good, bc_to_cluster[library])\n",
    "\n",
    "    lp = library_prefix(library)\n",
    "    write_h5ad(ad_all,  de_path / f\"{lp}allisoform_reconstructed_dedup_counts.h5ad\")\n",
    "    write_h5ad(ad_good, de_path / f\"{lp}goodpriming_reconstructed_dedup_counts.h5ad\")\n"
   ]
  },
  {
   "cell_type": "markdown",
   "id": "00112e7a-1825-4dcd-9149-0518e3aaf1b2",
   "metadata": {},
   "source": [
    "We will also export these count matrices in the 10X format to easily read in Seurat where we will run the Different Expression analysis."
   ]
  },
  {
   "cell_type": "code",
   "execution_count": null,
   "id": "af22bc14-788e-48f1-862c-46a44d3f1246",
   "metadata": {},
   "outputs": [],
   "source": [
    "# 10X export\n",
    "for library in annotated_bams.keys():\n",
    "    lp = library_prefix(library)\n",
    "    for filtering_type in (\n",
    "        \"allisoform_dedup\",\n",
    "        \"goodpriming_dedup\",\n",
    "        \"allisoform_reconstructed_dedup\",\n",
    "        \"goodpriming_reconstructed_dedup\",\n",
    "    ):\n",
    "        in_h5ad = de_path / f\"{lp}{filtering_type}_counts.h5ad\"\n",
    "        out_dir = de_path / f\"{lp}{filtering_type}\"\n",
    "        export_10x_from_h5ad(in_h5ad, out_dir)"
   ]
  },
  {
   "cell_type": "markdown",
   "id": "d8ff24a7-2f0d-44aa-ab1d-3bd21237ae04",
   "metadata": {},
   "source": [
    "Now we create the R scripts that will be used to run the DE analysis"
   ]
  },
  {
   "cell_type": "code",
   "execution_count": null,
   "id": "9d8eb12e-7eb7-4742-a0b7-4872a6796b00",
   "metadata": {},
   "outputs": [],
   "source": [
    "# Cluster label maps per library\n",
    "labels_3p = {\n",
    "    \"0\": \"CD4 T cells 1\",\n",
    "    \"1\": \"CD4 T cells 2\",\n",
    "    \"2\": \"Naive CD4\",\n",
    "    \"3\": \"Cytotoxic T cells\",\n",
    "    \"4\": \"B cells\",\n",
    "    \"5\": \"CD14 Monocytes\",\n",
    "    \"6\": \"CD16 Monocytes\",\n",
    "    \"7\": \"DC\",\n",
    "}\n",
    "labels_5p = {\n",
    "    \"0\": \"CD4 T cells 1\",\n",
    "    \"1\": \"CD4 T cells 2\",\n",
    "    \"2\": \"Naive CD4\",\n",
    "    \"3\": \"Cytotoxic T cells\",\n",
    "    \"4\": \"Innate Lymphoid\",\n",
    "    \"5\": \"B cells\",\n",
    "    \"6\": \"CD14 Monocytes\",\n",
    "    \"7\": \"CD16 Monocytes\",\n",
    "}\n",
    "labels_pip = {\n",
    "    \"0\": \"CD4 T cells 1\",\n",
    "    \"1\": \"CD4 T cells 2\",\n",
    "    \"2\": \"Naive CD4\",\n",
    "    \"3\": \"Cytotoxic T cells\",\n",
    "    \"4\": \"Innate Lymphoid\",\n",
    "    \"5\": \"CD16 Monocytes\",\n",
    "    \"6\": \"CD14 Monocytes\",\n",
    "    \"7\": \"B cells\",\n",
    "}\n",
    "\n",
    "# Library prefixes (dir tag, sample prefix, labels)\n",
    "techs = [\n",
    "    (\"10x_3'\",  \"10X_3p\",         labels_3p),\n",
    "    (\"10x_5'\",  \"10X_5p\",         labels_5p),\n",
    "    (\"PIPseq_0.8x\", \"PIPseq_0.8x\", labels_pip),\n",
    "]\n",
    "\n",
    "# Two reconstructed variants to include\n",
    "filters = [\n",
    "    (\"goodpriming_reconstructed_dedup\", \"reconstructed_goodpriming_dedup\"),\n",
    "    (\"allisoform_reconstructed_dedup\",  \"reconstructed_allisoform_dedup\"),\n",
    "]\n",
    "\n",
    "datasets = []\n",
    "for dir_tag, sample_prefix, labels in techs:\n",
    "    for dir_filter, sample_suffix in filters:\n",
    "        data_dir = (de_path / f\"{dir_tag}_{dir_filter}\").as_posix() + \"/\"\n",
    "        sample_name = f\"{sample_prefix}_{sample_suffix}\"\n",
    "        output_prefix = (de_path / f\"{sample_name}.isoforms_seurat\").as_posix()\n",
    "        datasets.append({\n",
    "            \"sample_name\": sample_name,\n",
    "            \"data_dir\": data_dir,\n",
    "            \"output_prefix\": output_prefix,\n",
    "            \"cluster_labels\": {str(k): v for k, v in labels.items()},\n",
    "        })\n",
    "\n",
    "with open(de_path / \"seurat_datasets.yaml\", \"w\") as fh:\n",
    "    yaml.safe_dump({\"datasets\": datasets}, fh, sort_keys=False, default_flow_style=False)\n",
    "\n",
    "print(f\"Wrote seurat_datasets.yaml with {len(datasets)} entries at {Path.cwd()}\")\n"
   ]
  },
  {
   "cell_type": "code",
   "execution_count": null,
   "id": "4deac37a-77e5-48d0-a73b-ce2e33035d1e",
   "metadata": {},
   "outputs": [],
   "source": [
    "r_script = r\"\"\"#!/usr/bin/env Rscript\n",
    "args_all <- commandArgs(trailingOnly = FALSE)\n",
    "script_arg <- args_all[grepl(\"^--file=\", args_all)]\n",
    "this_dir <- if (length(script_arg)) dirname(normalizePath(sub(\"^--file=\", \"\", script_arg))) else getwd()\n",
    "\n",
    "args <- commandArgs(trailingOnly = TRUE)\n",
    "cfg_file <- if (length(args) >= 1) args[1] else file.path(this_dir, \"seurat_datasets.yaml\")\n",
    "template <- file.path(this_dir, \"seurat_template.Rmd\")\n",
    "\n",
    "suppressPackageStartupMessages({\n",
    "  library(yaml)\n",
    "  library(rmarkdown)\n",
    "})\n",
    "\n",
    "cfg <- yaml::read_yaml(cfg_file)\n",
    "\n",
    "for (d in cfg$datasets) {\n",
    "  message(\"Rendering: \", d$sample_name)\n",
    "  rmarkdown::render(\n",
    "    input       = template,\n",
    "    params      = list(\n",
    "      sample_name   = d$sample_name,\n",
    "      data_dir      = d$data_dir,\n",
    "      output_prefix = d$output_prefix,\n",
    "      cluster_labels= d$cluster_labels\n",
    "    ),\n",
    "    output_file = paste0(d$sample_name, \".md\"),\n",
    "    output_dir  = dirname(d$output_prefix)\n",
    "  )\n",
    "}\n",
    "\"\"\"\n",
    "\n",
    "out = de_path / \"run_all_seurat_DE.R\"\n",
    "out.write_text(r_script)\n",
    "os.chmod(out, os.stat(out).st_mode | 0o111)\n",
    "print(f\"Wrote {out.resolve()}  (looks for seurat_template.Rmd and seurat_datasets.yaml in the same {de_path} folder)\")"
   ]
  },
  {
   "cell_type": "markdown",
   "id": "12754710-9150-4686-a9c5-8637a0a7d448",
   "metadata": {},
   "source": [
    "And import the Rmd template included in the package to avoid having to search for it."
   ]
  },
  {
   "cell_type": "code",
   "execution_count": null,
   "id": "1d67c452-ffa4-4ae9-8fc1-455ec015497a",
   "metadata": {},
   "outputs": [],
   "source": [
    "from importlib.resources import files\n",
    "\n",
    "dst = de_path/ \"seurat_template.Rmd\"\n",
    "with files(\"mdl.sc_isoform_paper.templates\").joinpath(\"seurat_template.Rmd\").open(\"r\", encoding=\"utf-8\") as src:\n",
    "    dst.write_text(src.read(), encoding=\"utf-8\")\n",
    "print(f\"Copied {dst.resolve()}\")\n"
   ]
  },
  {
   "cell_type": "markdown",
   "id": "1770775a-f226-4d51-8449-c692c88426bc",
   "metadata": {},
   "source": [
    "Once these matrices have been generated, we can run all Seurat DE analysis by running, from the DE_analysis directory:\n",
    "\n",
    "./run_all_seurat_DE.R"
   ]
  },
  {
   "cell_type": "markdown",
   "id": "a93a5bf0-7e5b-49b5-b028-be62173ad7fe",
   "metadata": {},
   "source": [
    "Once the script has run, you can go to notebook 10_p2, which is an R notebook."
   ]
  },
  {
   "cell_type": "code",
   "execution_count": null,
   "id": "72b46643-4a31-49ce-bd08-a60a3557a091",
   "metadata": {},
   "outputs": [],
   "source": []
  }
 ],
 "metadata": {
  "kernelspec": {
   "display_name": "fa",
   "language": "python",
   "name": "fa"
  },
  "language_info": {
   "codemirror_mode": {
    "name": "ipython",
    "version": 3
   },
   "file_extension": ".py",
   "mimetype": "text/x-python",
   "name": "python",
   "nbconvert_exporter": "python",
   "pygments_lexer": "ipython3",
   "version": "3.10.14"
  }
 },
 "nbformat": 4,
 "nbformat_minor": 5
}
