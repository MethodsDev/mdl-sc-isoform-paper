{
 "cells": [
  {
   "cell_type": "markdown",
   "id": "ff28f971-adcb-4c02-8f8a-85fafc5f073f",
   "metadata": {},
   "source": [
    "# Examples of alternative polyadenylation (APA) usage\n",
    "\n",
    "This notebooks uses `Integrative Transcriptomics Viewer`, a modified version of the `genomeview` package with customizations for displaying transcriptome data. It can be installed from [`https://github.com/MethodsDev/ITV`](https://github.com/MethodsDev/ITV)\n",
    "\n",
    "Here we're plotting three examples of APA sites where a known transcript is expressed, except with much shorter 3' UTR. This APA site is seen in the reference associated to other transcripts, but this specific structure is not annotated and these reads are assigned to the longer isoform. This causes a 5' enrichment of transcript coverage. We are plotting three ribosomal genes, simply because they were three of the highest-expressing examples of this phenomenon."
   ]
  },
  {
   "cell_type": "code",
   "execution_count": null,
   "id": "6dd7ce75-af46-4541-a556-5233c413504f",
   "metadata": {},
   "outputs": [],
   "source": [
    "from pathlib import Path\n",
    "\n",
    "from integrative_transcriptomics_viewer.convenience import Configuration\n",
    "from integrative_transcriptomics_viewer.export import save\n",
    "\n",
    "from mdl.sc_isoform_paper import today\n",
    "from mdl.sc_isoform_paper.constants import MASSEQ_FILENAMES\n"
   ]
  },
  {
   "cell_type": "code",
   "execution_count": null,
   "id": "50c3f102-5d78-4e97-b3df-9ba864f83cc5",
   "metadata": {},
   "outputs": [],
   "source": [
    "root_dir = Path.home()\n",
    "sh_dir = root_dir / \"sh_scripts\"\n",
    "\n",
    "data_path = root_dir / \"data\" / \"masseq\"\n",
    "annotated_path = data_path / \"20250124_annotated\""
   ]
  },
  {
   "cell_type": "markdown",
   "id": "81294a24-7850-4017-aa48-7664ea342552",
   "metadata": {},
   "source": [
    "If you need to sort and index a BED file:\n",
    "\n",
    "```\n",
    "sort -k1,1 -k2,2n unsorted.bed > sorted.bed\n",
    "bgzip sorted.bed\n",
    "tabix sorted.bed.gz\n",
    "```"
   ]
  },
  {
   "cell_type": "code",
   "execution_count": null,
   "id": "e5c3f43e-b0da-45a9-92d8-6670d9e91b32",
   "metadata": {},
   "outputs": [],
   "source": [
    "reference_path = root_dir / \"reference\"\n",
    "\n",
    "genome_path = reference_path / \"GRCh38\" / \"GRCh38.fasta\"\n",
    "gtf_path = reference_path / \"GRCh38.gencode.v39.annotation.basic.gtf\"\n",
    "bed_gencode = reference_path / \"GRCh38.gencode.v39.annotation.basic.sorted.bed.gz\"\n",
    "\n",
    "figure_path = root_dir / \"202501_figures\""
   ]
  },
  {
   "cell_type": "code",
   "execution_count": null,
   "id": "09b168c3-e7fd-4901-9a7a-dee836e823f6",
   "metadata": {},
   "outputs": [],
   "source": [
    "%%time\n",
    "human_ref = Configuration(\n",
    "    genome_fasta = genome_path,\n",
    "    bed_annotation = [str(bed_gencode)],\n",
    "    gtf_annotation = gtf_path\n",
    ")\n"
   ]
  },
  {
   "cell_type": "markdown",
   "id": "730420ec-eb40-4a04-b30f-7d499f6eeb7b",
   "metadata": {},
   "source": [
    "### Merging BAM files\n",
    "\n",
    "ITV requires one file for each sample, so we must finally merge the BAMs we've been working with up to now."
   ]
  },
  {
   "cell_type": "code",
   "execution_count": null,
   "id": "540530ea-6232-48d1-9900-3b80240805f6",
   "metadata": {},
   "outputs": [],
   "source": [
    "merged_out_dir = data_path / f\"{today}_merged\"\n",
    "merged_out_dir.mkdir(exist_ok=True)\n",
    "\n",
    "with open(sh_dir / f\"{today}_merge_cmds.sh\", \"w\") as out:\n",
    "    for i in MASSEQ_FILENAMES:\n",
    "        print(f\"samtools merge --threads 12 -o {merged_out_dir / MASSEQ_FILENAMES[i]}.bam\", *annotated_path.glob(f\"*.skera.{i}.*bam\"), file=out)\n",
    "        print(f\"samtools index {merged_out_dir / MASSEQ_FILENAMES[i]}.bam\", file=out)\n"
   ]
  },
  {
   "cell_type": "code",
   "execution_count": null,
   "id": "5325b110-76fb-4a1d-93da-c716f0282f7d",
   "metadata": {},
   "outputs": [],
   "source": [
    "# after merging\n",
    "bams_dict = {\n",
    "    'pipseq_8x': merged_out_dir / \"pipseq_8x.bam\",\n",
    "    '10x_5p': merged_out_dir / \"10x_5p.bam\",\n",
    "    '10x_3p': merged_out_dir / \"10x_3p.bam\",\n",
    "}\n",
    "bams_dict"
   ]
  },
  {
   "cell_type": "code",
   "execution_count": null,
   "id": "5711d563-cd3f-4e77-af5f-36df9f927359",
   "metadata": {},
   "outputs": [],
   "source": [
    "save(\n",
    "    human_ref.plot_exons(\n",
    "        bams_dict=bams_dict,\n",
    "        feature=\"RPLP1\",\n",
    "        with_reads=False,\n",
    "        with_coverage=True,\n",
    "    ),\n",
    "    figure_path / \"supp_fig10a_rplp1.svg\",\n",
    "    output_format=\"svg\",\n",
    ")"
   ]
  },
  {
   "cell_type": "code",
   "execution_count": null,
   "id": "621d17c3-7c43-4ff9-b40b-ef148778d001",
   "metadata": {},
   "outputs": [],
   "source": [
    "save(\n",
    "    human_ref.plot_exons(\n",
    "        bams_dict=bams_dict,\n",
    "        feature=\"RPL11\",\n",
    "        with_reads=False,\n",
    "        with_coverage=True,\n",
    "    ),\n",
    "    figure_path / \"supp_fig10b_rpl11.svg\",\n",
    "    output_format=\"svg\",\n",
    ")"
   ]
  },
  {
   "cell_type": "code",
   "execution_count": null,
   "id": "dcf58974-0322-499c-8c07-76ce1484d679",
   "metadata": {},
   "outputs": [],
   "source": [
    "save(\n",
    "    human_ref.plot_exons(\n",
    "        bams_dict=bams_dict,\n",
    "        feature=\"RPL13\",\n",
    "        with_reads=False,\n",
    "        with_coverage=True,\n",
    "    ),\n",
    "    figure_path / \"supp_fig10c_rpl13.svg\",\n",
    "    output_format=\"svg\",\n",
    ")"
   ]
  },
  {
   "cell_type": "code",
   "execution_count": null,
   "id": "6084562d-9c4c-4948-b58d-e01f50e3e573",
   "metadata": {},
   "outputs": [],
   "source": []
  },
  {
   "cell_type": "markdown",
   "id": "1a210f08-f38d-4dbd-8962-26b46803ba85",
   "metadata": {},
   "source": [
    "## "
   ]
  }
 ],
 "metadata": {
  "kernelspec": {
   "display_name": "fa",
   "language": "python",
   "name": "fa"
  },
  "language_info": {
   "codemirror_mode": {
    "name": "ipython",
    "version": 3
   },
   "file_extension": ".py",
   "mimetype": "text/x-python",
   "name": "python",
   "nbconvert_exporter": "python",
   "pygments_lexer": "ipython3",
   "version": "3.10.14"
  }
 },
 "nbformat": 4,
 "nbformat_minor": 5
}
