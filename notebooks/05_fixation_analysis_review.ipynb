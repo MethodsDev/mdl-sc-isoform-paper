{
 "cells": [
  {
   "cell_type": "markdown",
   "id": "526dffe4-d969-45e8-bf26-0b101e6a233e",
   "metadata": {},
   "source": [
    "# Fixation experiments\n",
    "\n",
    "This notebook covers the long-read analysis of the two fixation experiments. The preliminary experiment contained a panel of several different fixation protocols along with fresh PBMCs, hashtagged into a single PIPseq library. From this experiment we selected Methanol+DSP as our preferred fixation method. To validate our choice with a larger number of cells, we did a second experiment of only fresh PBMCs hashtagged along with cells fixed with Methanol+DSP.\n",
    "\n",
    "For both experiments, we have matched short-read sequencing to identify the hashtags and cell barcodes. We also use the short-read data to cluster and annotate cells using canonical PBMC markers, then translate that annotation to the long-read data.\n",
    "\n",
    "### Raw data\n",
    "\n",
    " * Short-read data in `gs://mdl-sc-isoform-2025-ms/sequencing_data/fix-fresh_illumina` (GEX = gene expression, HTO = hashtag file)\n",
    "   * Fixation panel: `MDL_FixationPanel_*`\n",
    "   * Methanol+DSP vs fresh PBMCs: `MDL_FixFresh_*`\n",
    " * Long-read data in `gs://mdl-sc-isoform-2025-ms/sequencing_data/fix-fresh_masseq`\n",
    "   * Fixation panel: `m84175_240224_082414_s4.hifi_reads.bcM0004.bam`\n",
    "   * Methanol+DSP vs fresh PBMCs: `m84250_240530_044215_s1.hifi_reads.bcM0001.bam` and `m84250_240530_064125_s2.hifi_reads.bcM0001.bam`\n",
    "\n",
    "To process short-read data, we demultiplexed with `bcl2fastq2` and ran PIPseeker:\n",
    "\n",
    "For the panel of fixation protocols:\n",
    "```\n",
    "./pipseeker-v3.3.0-linux/pipseeker full --output-path MDL_FixationPanel \\\n",
    "    --fastq MDL_FixationPanel_GEX \\\n",
    "    --hto-fastq MDL_FixationPanel_HTO \\\n",
    "    --hto-tags metadata/hto_tags_1-6.csv \\\n",
    "    --star-index-path reference/GRCh38 \\\n",
    "    --chemistry v4\n",
    "```\n",
    "\n",
    "For the second comparison between Methanol+DSP and fresh cells:\n",
    "```\n",
    "./pipseeker-v3.3.0-linux/pipseeker full --output-path MDL_FixFresh \\\n",
    "    --fastq MDL_FixFresh_GEX \\\n",
    "    --hto-fastq MDL_FixFresh_HTO \\\n",
    "    --hto-tags metadata/hto_tags_7-8.csv \\\n",
    "    --star-index-path reference/GRCh38 \\\n",
    "    --chemistry v4\n",
    "```\n",
    "\n",
    "To process the long-read data, we follow the same recipe as the previous notebooks:\n",
    "\n",
    "* Deconcatenate reads with `skera`\n",
    "* Classify `proper` reads with `marti`\n",
    "* Extract barcodes and UMIs with `bouncer`\n",
    "\n",
    "After these steps, we use the clustering from short-read data to identify CD14+ monocytes and extract UMI counts and read length distributions for those cells, as well as for other cells."
   ]
  },
  {
   "cell_type": "markdown",
   "id": "d436157b-0da5-427a-bd7b-2fc48b13c571",
   "metadata": {},
   "source": [
    "### imports"
   ]
  },
  {
   "cell_type": "code",
   "execution_count": null,
   "id": "07ca3d1c-61ac-45cd-b64c-b7bfeb440887",
   "metadata": {},
   "outputs": [],
   "source": [
    "import csv\n",
    "import gzip\n",
    "import itertools\n",
    "import pickle\n",
    "from collections import defaultdict\n",
    "from concurrent.futures import ProcessPoolExecutor\n",
    "from pathlib import Path\n",
    "\n",
    "import matplotlib.pyplot as plt\n",
    "import numpy as np\n",
    "import sparse\n",
    "import yaml\n",
    "\n",
    "import pysam\n",
    "\n",
    "import mdl.sc_isoform_paper.util as util\n",
    "from mdl.sc_isoform_paper import today\n",
    "from mdl.sc_isoform_paper.marti import CONFIG_DICT, SAMPLE_CONFIG\n",
    "from mdl.sc_isoform_paper.pipseq_barcodes import barcode_to_sequence, sequence_to_int, barcode_to_int\n",
    "from mdl.sc_isoform_paper.plots import plot_dists\n",
    "\n",
    "# a bunch of functions for single-cell analysis\n",
    "# installed from www.github.com/methodsdev/isoscelles\n",
    "from mdl.isoscelles.io import read_mtx\n",
    "from mdl.isoscelles.leiden import recursive_cluster, cluster_leaf_nodes, cluster_labels\n",
    "\n",
    "import scanpy as sc\n",
    "import anndata as ad\n",
    "import pandas as pd\n",
    "import seaborn as sns\n",
    "\n",
    "from mdl.sc_isoform_paper.plots import prepare_cluster_data, plot_dists_vs_first, plot_fixfresh_triptych, plot_cluster_triptychs, make_fig_short_reads, make_fig_long_reads"
   ]
  },
  {
   "cell_type": "code",
   "execution_count": null,
   "id": "5b56e6a0-465b-4d45-818e-10bbc8cb90c3",
   "metadata": {},
   "outputs": [],
   "source": [
    "pysam.set_verbosity(0)\n",
    "\n",
    "root_dir = Path.home()\n",
    "data_path = root_dir / \"data\" / \"20240304_fixpip\"\n",
    "figure_path = root_dir / \"202501_figures\""
   ]
  },
  {
   "cell_type": "markdown",
   "id": "ada6d6aa-db89-4b5e-ab97-03e4a7fa0ce6",
   "metadata": {},
   "source": [
    "## skera, marti, barcode extraction"
   ]
  },
  {
   "cell_type": "code",
   "execution_count": null,
   "id": "1a54b084-1788-4d42-8069-37d4031b88c2",
   "metadata": {},
   "outputs": [],
   "source": [
    "raw_bam = data_path / \"raw\" / \"m84175_240224_082414_s4.hifi_reads.bcM0004.bam\"\n",
    "\n",
    "base = raw_bam.name.split(\".\")[0]\n",
    "\n",
    "skera_path = data_path / f\"{today}_skera\"\n",
    "skera_path.mkdir(exist_ok=True)\n",
    "\n",
    "skera_bam = skera_path / f\"{base}.skera.bam\"\n",
    "\n",
    "# path to the marti binary\n",
    "marti_bin = root_dir / \"marti/build/bin/marti\"\n",
    "\n",
    "# pipseq barcode file\n",
    "pipseq_barcode_file = root_dir / \"metadata\" / \"fluent_barcodes.txt.gz\"\n",
    "\n",
    "# path to extract_barcodes\n",
    "extract_barcodes_bin = Path(\"/opt/conda/envs/fa/bin/extract_barcodes\")"
   ]
  },
  {
   "cell_type": "code",
   "execution_count": null,
   "id": "9c52d711-cb35-4a49-b7ff-b4eb3cadebd0",
   "metadata": {},
   "outputs": [],
   "source": [
    "# remove the `echo` to run skera\n",
    "! echo skera split -j 16 {raw_bam} metadata/mas16_primers.fasta {skera_bam}"
   ]
  },
  {
   "cell_type": "markdown",
   "id": "098c27c5-1106-4caa-8ef6-57eb81fe0a12",
   "metadata": {},
   "source": [
    "#### marti\n",
    "\n",
    "We run `marti` as before, with settings for PIPseq."
   ]
  },
  {
   "cell_type": "code",
   "execution_count": null,
   "id": "0c1b847a-6436-497d-b7f2-f235bd5ea509",
   "metadata": {},
   "outputs": [],
   "source": [
    "marti_path = data_path / f\"{today}_marti\"\n",
    "marti_path.mkdir(exist_ok=True)\n",
    "\n",
    "# path to the BAM that will be created\n",
    "marti_bam = marti_path / skera_bam.with_suffix(\".classified.bam\").name"
   ]
  },
  {
   "cell_type": "code",
   "execution_count": null,
   "id": "12ec9994-ae59-42c1-99b7-32ff573e3d70",
   "metadata": {},
   "outputs": [],
   "source": [
    "config_file = marti_path / \"config.yaml\"\n",
    "\n",
    "# write config file with appropriate parameters\n",
    "with open(config_file, \"w\") as out:\n",
    "    print(\n",
    "         yaml.dump(\n",
    "            {\"input_bam\": str(skera_bam)}\n",
    "            | SAMPLE_CONFIG['PIPseq']\n",
    "            | CONFIG_DICT,\n",
    "            sort_keys=False\n",
    "        ),\n",
    "        file=out\n",
    "    )"
   ]
  },
  {
   "cell_type": "code",
   "execution_count": null,
   "id": "84ba97ce-8158-422f-974a-4a6c0e658adc",
   "metadata": {},
   "outputs": [],
   "source": [
    "# remove the `echo` to run marti\n",
    "! echo {marti_bin} {config_file}"
   ]
  },
  {
   "cell_type": "markdown",
   "id": "b387daeb-e6e2-4bd2-bbb7-1886f86cbe7a",
   "metadata": {},
   "source": [
    "#### Barcode extraction\n",
    "\n",
    "Similarly we run `extract_barcodes` with the settings for a PIPseq experiment."
   ]
  },
  {
   "cell_type": "code",
   "execution_count": null,
   "id": "e0b9b8f3-6a5b-4be4-9856-ea7a863ff097",
   "metadata": {},
   "outputs": [],
   "source": [
    "cdna_path = data_path / f\"{today}_cdna\"\n",
    "cdna_path.mkdir(exist_ok=True)\n",
    "\n",
    "# path to the BAM that will be created\n",
    "tagged_bam = cdna_path / marti_bam.with_suffix(\".tagged.bam\").name"
   ]
  },
  {
   "cell_type": "code",
   "execution_count": null,
   "id": "5bbb1e5c-b19c-4e01-bc40-9a318280812e",
   "metadata": {},
   "outputs": [],
   "source": [
    "barcode_config_file = data_path / f\"{today}_barcode_config.yaml\"\n",
    "\n",
    "config = dict(\n",
    "    sample_type='PIPseq',\n",
    "    barcode_file=str(pipseq_barcode_file),\n",
    "    umi_size=12,\n",
    "    buffer_size=56,\n",
    "    bam_paths=[str(marti_bam)],\n",
    ")\n",
    "\n",
    "with open(barcode_config_file, \"w\") as out:\n",
    "    yaml.dump(config, out)"
   ]
  },
  {
   "cell_type": "code",
   "execution_count": null,
   "id": "75ecead2-9e48-437b-ad40-138df915be00",
   "metadata": {},
   "outputs": [],
   "source": [
    "# remove the `echo` to run extract_barcodes\n",
    "! echo {extract_barcodes_bin} --config-file {barcode_config_file} --output-dir {cdna_path}"
   ]
  },
  {
   "cell_type": "markdown",
   "id": "332995d3-b374-4259-ac93-c91651c757d9",
   "metadata": {},
   "source": [
    "## Match barcodes from short-read analysis\n",
    "\n",
    "After running PIPseeker the fixation panel was annotated in R, see the script in the paper repository for details. We will need the annotation file here to match barcodes to the long-read data."
   ]
  },
  {
   "cell_type": "code",
   "execution_count": null,
   "id": "eb3ad376-7f64-4c1c-80c3-e2963c5469b0",
   "metadata": {},
   "outputs": [],
   "source": [
    "# download the annotation\n",
    "! echo gcloud storage cp gs://mdl-sc-isoform-data/... {data_path}/"
   ]
  },
  {
   "cell_type": "code",
   "execution_count": null,
   "id": "570c213d-cd17-4d44-a84a-13aab2d60ebb",
   "metadata": {},
   "outputs": [],
   "source": [
    "with open(data_path / \"PIPseeker-fixpip_run01_Metadata_annotated.csv\") as fh:\n",
    "    md_rows = list(csv.reader(fh))\n",
    "\n",
    "bc_to_exp = {barcode_to_sequence(r[0]): r[11] for r in md_rows[1:]}\n",
    "\n",
    "exps = sorted(set(bc_to_exp.values()))\n",
    "\n",
    "bc_to_label = {barcode_to_sequence(r[0]): r[14].split(\"_\")[0] for r in md_rows[1:]}\n",
    "\n",
    "bcs_by_label = defaultdict(set)\n",
    "for bc, exp in bc_to_exp.items():\n",
    "    bcs_by_label[exp, bc_to_label[bc]].add(bc)"
   ]
  },
  {
   "cell_type": "code",
   "execution_count": null,
   "id": "26c93f9f-2e62-45f2-ac4f-edb2ffa7be0d",
   "metadata": {},
   "outputs": [],
   "source": [
    "nice_exp = {\n",
    "    'Fresh': \"Fresh\", \n",
    "    \"Meth\": 'Methanol',\n",
    "    \"Meth-DSP\": 'Methanol\\nDSP',\n",
    "    'Meth-DSP-DEPC': \"Methanol\\nDSP & DEPC\",\n",
    "    'PFA-01p5min': \"0.1% PFA\\n5 min\",\n",
    "    'PFA-1p-5min': \"1% PFA\\n5 min\"   \n",
    "}"
   ]
  },
  {
   "cell_type": "code",
   "execution_count": null,
   "id": "6363e8ab-f15f-43db-94b3-b0b1ed14af37",
   "metadata": {},
   "outputs": [],
   "source": [
    "sr_barcodes = [barcode_to_sequence(r[0]) for r in md_rows[1:]]\n",
    "\n",
    "assert len(sr_barcodes) == len(set(sr_barcodes))\n",
    "sr_barcode_set = set(sr_barcodes)\n",
    "sr_numis = np.array([int(r[2]) for r in md_rows[1:]])"
   ]
  },
  {
   "cell_type": "code",
   "execution_count": null,
   "id": "d3eba15a-e157-4479-9b6e-4d51280137b7",
   "metadata": {},
   "outputs": [],
   "source": [
    "umis_per_bc = defaultdict(set)\n",
    "with pysam.AlignmentFile(tagged_bam, \"rb\", check_sq=False, threads=8) as fh:\n",
    "    for a in fh:\n",
    "        if (bc := a.get_tag(\"CB\")) in sr_barcode_set:\n",
    "            umis_per_bc[bc].add(((a.query, a.get_tag(\"UB\"))))\n"
   ]
  },
  {
   "cell_type": "code",
   "execution_count": null,
   "id": "91af61a1-b3cc-4522-967f-31710ccce629",
   "metadata": {},
   "outputs": [],
   "source": [
    "bc_to_read_len = defaultdict(list)\n",
    "for bc in umis_per_bc:\n",
    "    bc_to_read_len[bc] = [len(q) for q, _ in umis_per_bc[bc] if q is not None]\n"
   ]
  },
  {
   "cell_type": "code",
   "execution_count": null,
   "id": "1dcf4ad8-ad6a-45f2-abe8-7aac1ad0b837",
   "metadata": {},
   "outputs": [],
   "source": [
    "lr_bc_set = set(umis_per_bc)\n",
    "lr_bc_to_umi = {bc: len(umis_per_bc[bc]) for bc in umis_per_bc}"
   ]
  },
  {
   "cell_type": "code",
   "execution_count": null,
   "id": "32198e90-cde8-4200-ae49-4d15b8cc434b",
   "metadata": {},
   "outputs": [],
   "source": [
    "label = \"MonoCD14\"\n",
    "umi_dists = [\n",
    "    [lr_bc_to_umi[bc] for bc in bcs_by_label[exp, label] & lr_bc_set]\n",
    "    for exp in exps\n",
    "]\n",
    "\n",
    "fig, ax = plot_dists_vs_first(\n",
    "    umi_dists,\n",
    "    labels=[nice_exp[exp] for exp in exps],\n",
    "    title=\"UMIs/cell for CD14+ Monocytes\",\n",
    "    savepath=figure_path / \"supp_fig8_fixation_umis.svg\",\n",
    ")\n",
    "plt.show()\n"
   ]
  },
  {
   "cell_type": "code",
   "execution_count": null,
   "id": "f86bcdd1-4e0f-4d0b-825f-0d2359711bae",
   "metadata": {},
   "outputs": [],
   "source": [
    "fig, ax = plt.subplots(1, 1, figsize=(16, 5), gridspec_kw={\"hspace\": 0.5})\n",
    "label = \"MonoCD14\"\n",
    "\n",
    "rl_dists = [\n",
    "    [v for bc in bcs_by_label[exp, label] for v in bc_to_read_len[bc]]\n",
    "    for exp in exps\n",
    "]\n",
    "\n",
    "p = plot_dists(\n",
    "    ax,\n",
    "    rl_dists,\n",
    "    labels=[f\"{nice_exp[exp]}\" for exp in exps],\n",
    "    title=\"Read lengths for CD14+ Monocytes\"\n",
    ")\n",
    "\n",
    "ax.set_ylim(bottom=-20, top=1220)\n",
    "ax.set_ylabel(\"Read Length (bp)\")\n",
    "\n",
    "plt.savefig(figure_path / \"supp_fig9_fixation_readlen.svg\")\n",
    "plt.show()"
   ]
  },
  {
   "cell_type": "markdown",
   "id": "7e585222-e160-412e-8142-f29783b48617",
   "metadata": {},
   "source": [
    "# Second fixation experiment\n",
    "\n",
    "After identifying Methanol + DSP as the most promising fixation method, we did a second experiment to confirm the results with a larger sample. This time we only compared two conditions: fresh PBMCs vs Methanol+DSP fixed. The two samples were hashtagged and captured together in a single PIPseq experiment.\n",
    "\n",
    "**Note** This dataset was analyzed with a later version of PIPseeker, and the mapping from PIPseeker barcode (encoded as 16bp) to real sequence (39bp) changed since the previous version. This meanas we must slightly adjust how we match barcodes between short- and long-read data."
   ]
  },
  {
   "cell_type": "code",
   "execution_count": null,
   "id": "4f58a24c-4e0c-4daa-ace5-ab2455dc80ee",
   "metadata": {},
   "outputs": [],
   "source": [
    "data_dir = root_dir / \"data\" / \"pipseq_fixfresh\"\n",
    "\n",
    "shortread_dir = data_dir / \"illumina\"\n",
    "masseq_dir = data_dir / \"masseq\"\n",
    "cdna_path = masseq_dir / \"cdna\""
   ]
  },
  {
   "cell_type": "markdown",
   "id": "0fc986e7-f321-4fdf-9800-524435c81c7d",
   "metadata": {},
   "source": [
    "## Shortread analysis\n",
    "\n",
    "Here we are using the \"sensitivity 5\" filtering from PIPseeker."
   ]
  },
  {
   "cell_type": "code",
   "execution_count": null,
   "id": "a643adf2-7c8d-4ec7-b60e-a4d143727942",
   "metadata": {},
   "outputs": [],
   "source": [
    "markers = [\n",
    "    \"CD8A\", \"CD3D\", \"CD4\", \"CD14\", \"CCR7\", \"SELL\",\n",
    "    \"FCGR3A\", \"CLEC10A\", \"CD1C\", \"NKG7\", \"NCAM1\", \"GNLY\",\n",
    "    \"MS4A1\", \"IGKC\", \"IGLC2\", \"IRF7\", \"IGHM\", \"JCHAIN\",\n",
    "]\n"
   ]
  },
  {
   "cell_type": "code",
   "execution_count": null,
   "id": "ab1a80e1-3939-4b16-a989-617c2229ce3b",
   "metadata": {},
   "outputs": [],
   "source": [
    "with gzip.open(shortread_dir / \"HTO\" / \"raw_matrix\" / \"features.tsv.gz\", \"rt\") as fh:\n",
    "    sr_features = list(csv.reader(fh, delimiter=\"\\t\"))[:-2]\n",
    "\n",
    "gene_dict_i = {g[1]: i for i,g in enumerate(sr_features)}\n",
    "mt_ix = [gene_dict_i[g[1]] for g in sr_features if g[1].startswith(\"MT-\")]\n",
    "\n",
    "len(sr_features), len(mt_ix)"
   ]
  },
  {
   "cell_type": "code",
   "execution_count": null,
   "id": "90bc4265-488c-4b69-8399-45af258ecb26",
   "metadata": {},
   "outputs": [],
   "source": [
    "with gzip.open(shortread_dir / \"HTO\" / \"demux\" / \"HTO7\" / \"filtered_matrix\" / \"sensitivity_5\" / \"barcodes.tsv.gz\", \"rt\") as fh:\n",
    "    hto7_barcodes_full = [barcode_to_int(line.strip()) for line in fh]\n",
    "\n",
    "with gzip.open(shortread_dir / \"HTO\" / \"demux\" / \"HTO8\" / \"filtered_matrix\" / \"sensitivity_5\" / \"barcodes.tsv.gz\", \"rt\") as fh:\n",
    "    hto8_barcodes_full = [barcode_to_int(line.strip()) for line in fh]\n",
    "\n",
    "len(hto7_barcodes_full), len(hto8_barcodes_full)"
   ]
  },
  {
   "cell_type": "code",
   "execution_count": null,
   "id": "081df532-3b73-4d93-bb51-bfd368addd1d",
   "metadata": {},
   "outputs": [],
   "source": [
    "m_hto7 = read_mtx(shortread_dir / \"HTO\" / \"demux\" / \"HTO7\" / \"filtered_matrix\" / \"sensitivity_5\" / \"matrix.mtx.gz\")\n",
    "m_hto8 = read_mtx(shortread_dir / \"HTO\" / \"demux\" / \"HTO8\" / \"filtered_matrix\" / \"sensitivity_5\" / \"matrix.mtx.gz\")\n",
    "\n",
    "mt_hto7 = util.calc_mt_pct(m_hto7, mt_ix)\n",
    "mt_hto8 = util.calc_mt_pct(m_hto8, mt_ix)"
   ]
  },
  {
   "cell_type": "code",
   "execution_count": null,
   "id": "2e0bea1e-a204-42f9-840b-916c4c1a624a",
   "metadata": {},
   "outputs": [],
   "source": [
    "fig, ax = plt.subplots(1, 3, figsize=(16, 5))\n",
    "\n",
    "ax[0].plot(sorted(m_hto7.sum(1).todense(), reverse=True), label=\"fresh\")\n",
    "ax[0].plot(sorted(m_hto8.sum(1).todense(), reverse=True), label=\"fixed\")\n",
    "ax[0].set_xscale(\"log\")\n",
    "ax[0].set_yscale(\"log\")\n",
    "ax[0].set_title(\"Fixed vs Fresh kneeplot\")\n",
    "ax[0].legend()\n",
    "\n",
    "ax[1].hexbin(mt_hto7, m_hto7.sum(1).todense(), bins=\"log\", extent=[0, 0.2, 0, 40000])\n",
    "ax[1].set_title(\"Fresh, nUMIs vs mito %\")\n",
    "ax[2].hexbin(mt_hto8, m_hto8.sum(1).todense(), bins=\"log\", extent=[0, 0.2, 0, 40000])\n",
    "ax[2].set_title(\"Fixed, nUMIs vs mito %\")\n",
    "plt.show()"
   ]
  },
  {
   "cell_type": "markdown",
   "id": "2e0baec8-44a7-404b-9788-9eeb01d824e3",
   "metadata": {},
   "source": [
    "We can see a considerable number of low-mito, high-UMI barcodes in the fixed data. These barcodes are red blood cells (confirmed by checking markers such as hemoglobin genes). We can filter them out by imposing a minimum mitochondrial content of 2%."
   ]
  },
  {
   "cell_type": "code",
   "execution_count": null,
   "id": "83a56830-2848-44ff-a75a-2b1b02fab6c4",
   "metadata": {},
   "outputs": [],
   "source": [
    "hto7_barcodes = [bc for bc, m in zip(hto7_barcodes_full, mt_hto7) if 0.02 < m < 0.1]\n",
    "hto8_barcodes = [bc for bc, m in zip(hto8_barcodes_full, mt_hto8) if 0.02 < m < 0.1]\n",
    "\n",
    "m_hto7_filtered = m_hto7[(0.02 < mt_hto7) & (mt_hto7 < 0.1)]\n",
    "m_hto8_filtered = m_hto8[(0.02 < mt_hto8) & (mt_hto8 < 0.1)]\n",
    "\n",
    "m_filtered = sparse.concat([m_hto7_filtered, m_hto8_filtered])\n",
    "sr_numis = m_filtered.sum(1).todense()\n",
    "\n",
    "hto_fresh = np.repeat([True, False], [len(hto7_barcodes), len(hto8_barcodes)])"
   ]
  },
  {
   "cell_type": "markdown",
   "id": "e826dd8b-700e-49cf-b9a0-f080273383d7",
   "metadata": {},
   "source": [
    "### Clustering"
   ]
  },
  {
   "cell_type": "code",
   "execution_count": null,
   "id": "e915f387-2c75-483e-ad21-60d03645624e",
   "metadata": {},
   "outputs": [],
   "source": [
    "clustering_file = shortread_dir / \"shortread_clustering.pickle\"\n",
    "if clustering_file.exists():\n",
    "    with clustering_file.open(\"rb\") as fh:\n",
    "        sr_clustering = pickle.load(fh)\n",
    "else:\n",
    "    res_list = [float(f\"{b}e{p}\") for p in range(-7, -2) for b in range(1, 10)]\n",
    "    sr_clustering, _ = recursive_cluster(m_filtered, res_list, feature_cutoff_pct=0.05)\n",
    "\n",
    "    with clustering_file.open(\"wb\") as out:\n",
    "        pickle.dump(sr_clustering, out)\n",
    "\n",
    "_leaf_keys = cluster_leaf_nodes(sr_clustering, n=80)\n",
    "_label_array = cluster_labels(sr_clustering, _leaf_keys)\n",
    "_k2i = {key: i for i, key in enumerate(sorted(_leaf_keys))}\n",
    "c_array = np.array([_k2i.get(key, -1) for key in _label_array])"
   ]
  },
  {
   "cell_type": "markdown",
   "id": "c3799177-1857-4a77-8d73-81b3f46d4bca",
   "metadata": {},
   "source": [
    "We'll label the clusters by checking some canonical markers, as before."
   ]
  },
  {
   "cell_type": "code",
   "execution_count": null,
   "id": "2d6ad578-c795-4f49-96cf-fd866b473038",
   "metadata": {},
   "outputs": [],
   "source": [
    "# mean UMIs/cell for each isoform x cluster\n",
    "pseudobulk_array = np.vstack(\n",
    "    [np.sign(m_filtered[c_array == i, :]).mean(0).todense() for i in np.unique(c_array) if i != -1]\n",
    ")\n",
    "\n",
    "print(\"gene\", *(f\"{v:6}\" for v in range(pseudobulk_array.shape[0])), sep=\"\\t\")\n",
    "for g in markers:\n",
    "    print(\n",
    "        g,\n",
    "        \"\\t\".join(\n",
    "            f\"{pseudobulk_array[i, gene_dict_i[g]]:6.1%}\" \n",
    "            for i in range(pseudobulk_array.shape[0])\n",
    "        ), \n",
    "        sep=\"\\t\"\n",
    "    )"
   ]
  },
  {
   "cell_type": "markdown",
   "id": "86d7e03d-6022-4928-a954-8a6a90740ea7",
   "metadata": {},
   "source": [
    "Of note in this pseudobulk output is that some monocyte markers (e.g. _LYZ_, _FCGR3A_) are seen in all clusters. This reflects a high amount of ambient mRNA coming from those cells as they lysed during sample preparation. Still, we can identify cluster 4 as the CD14+ monocyte cluster due to the much higher expression level for the marker."
   ]
  },
  {
   "cell_type": "markdown",
   "id": "58b2b113-4b94-47a2-8088-76ebad0f66a6",
   "metadata": {},
   "source": [
    "## Long-read analysis\n",
    "\n",
    "The first steps for long-read analysis are the same as before: we run `skera` to deconcatenate the Kinnex array, and then `marti` to annotate the reads with adapters. After that, we must extract barcodes and UMIs to match the reads up with our short-read annotation. This PIPseq dataset was relatively large and barcode extraction takes a long time, so to speed it up we are going to split the BAMs into 16 pieces each and run in parallel over all of them."
   ]
  },
  {
   "cell_type": "markdown",
   "id": "39ce5114-ce2b-4f61-97e1-e4f3ff301407",
   "metadata": {},
   "source": [
    "### Running skera and marti"
   ]
  },
  {
   "cell_type": "code",
   "execution_count": null,
   "id": "458f0100-55e9-41e8-902f-27c84933852f",
   "metadata": {},
   "outputs": [],
   "source": [
    "with open(sh_dir / f\"{today}_skera.sh\", \"w\") as out:\n",
    "    for mcb in callao_bams:\n",
    "        base = mcb.name.split(\".\")[0]\n",
    "        ix = mcb.name.rsplit(\".\", 2)[1]\n",
    "\n",
    "        # echo the command so we see progress\n",
    "        print(\n",
    "            f\"echo skera split -j 16 {mcb}\",\n",
    "            f\"metadata/mas16_primers_{ix}.fasta\",\n",
    "            skera_path / f\"{base}.skera.{ix}.bam\",\n",
    "            file=out\n",
    "        )\n",
    "        print(\n",
    "            f\"skera split -j 16 {mcb}\",\n",
    "            f\"metadata/mas16_primers_{ix}.fasta\",\n",
    "            skera_path / f\"{base}.skera.{ix}.bam\",\n",
    "            file=out\n",
    "        )"
   ]
  },
  {
   "cell_type": "code",
   "execution_count": null,
   "id": "472b2298-04da-4933-920d-80739f8f2ca5",
   "metadata": {},
   "outputs": [],
   "source": [
    "# tagged bams\n",
    "tagged_bams = sorted(cdna_path.glob(\"*.bam\"))\n",
    "\n",
    "len(tagged_bams)"
   ]
  },
  {
   "cell_type": "markdown",
   "id": "7131423c-d25c-42bd-94e1-52901f29522c",
   "metadata": {},
   "source": [
    "### looking at CD14 monocyte stats"
   ]
  },
  {
   "cell_type": "code",
   "execution_count": null,
   "id": "fdf687d6-64c0-49be-a417-16d6a0a787ac",
   "metadata": {},
   "outputs": [],
   "source": [
    "hto7_c4_numis = sr_numis[hto_fresh & (c_array == 4)]\n",
    "hto8_c4_numis = sr_numis[~hto_fresh & (c_array == 4)]\n",
    "\n",
    "hto7_c4_set = {bc for bc,c in zip(hto7_barcodes, c_array[hto_fresh]) if c == 4}\n",
    "hto8_c4_set = {bc for bc,c in zip(hto8_barcodes, c_array[~hto_fresh]) if c == 4}\n"
   ]
  },
  {
   "cell_type": "code",
   "execution_count": null,
   "id": "1b4a80d5-d407-447f-9728-7ee080fceb2a",
   "metadata": {},
   "outputs": [],
   "source": [
    "def rn_to_readumi_bcset(tagged_bam, bc_set):\n",
    "    bc_reads = defaultdict(set)\n",
    "    with pysam.AlignmentFile(tagged_bam, \"rb\", check_sq=False, threads=2) as fh:\n",
    "        for a in fh:\n",
    "            if (bc := sequence_to_int(a.get_tag(\"CB\"))) in bc_set:\n",
    "                bc_reads[bc].add((a.query, a.get_tag(\"UB\")))\n",
    "\n",
    "    return bc_reads"
   ]
  },
  {
   "cell_type": "code",
   "execution_count": null,
   "id": "5cc08faa-452d-4da9-ae0a-125ad2e5ab6f",
   "metadata": {},
   "outputs": [],
   "source": [
    "sample_reads = defaultdict(lambda: defaultdict(set))\n",
    "\n",
    "with ProcessPoolExecutor(8) as exc:\n",
    "    for rld in exc.map(rn_to_readumi_bcset, tagged_bams, itertools.repeat(hto7_c4_set)):\n",
    "        for bc in rld:\n",
    "            sample_reads[\"fresh_cd14\"][bc].update(rld[bc])\n",
    "\n",
    "    for rld in exc.map(rn_to_readumi_bcset, tagged_bams, itertools.repeat(hto8_c4_set)):\n",
    "        for bc in rld:\n",
    "            sample_reads[\"fixed_cd14\"][bc].update(rld[bc])"
   ]
  },
  {
   "cell_type": "code",
   "execution_count": null,
   "id": "9d91c489-f578-4313-812e-af3b4b0ab482",
   "metadata": {},
   "outputs": [],
   "source": [
    "sample_read_lens = defaultdict(dict)\n",
    "for k in sample_reads:\n",
    "    for bc in sample_reads[k]:\n",
    "        sample_read_lens[k][bc] = [len(q) for q,_ in sample_reads[k][bc] if q is not None]"
   ]
  },
  {
   "cell_type": "code",
   "execution_count": null,
   "id": "099906af-b5f4-44ba-8cb8-6fed36820dbd",
   "metadata": {},
   "outputs": [],
   "source": [
    "fig, ax = plt.subplots(1, 3, figsize=(20, 6))\n",
    "\n",
    "plot_dists(\n",
    "    ax[0],\n",
    "    [hto7_c4_numis, hto8_c4_numis],\n",
    "    log=True,\n",
    "    labels=[\"Fresh\", \"Fixed\"],\n",
    "    title=\"nUMIs per cell (Illumina)\"\n",
    ")\n",
    "\n",
    "ax[0].set_yticks([3, 4], [\"$10^3$\", \"$10^4$\"])\n",
    "ax[0].set_yticks(\n",
    "    np.log10([v*10**i for i in range(3, 5) for v in range(2, 10)][:-4]),\n",
    "    minor=True\n",
    ")\n",
    "\n",
    "\n",
    "plot_dists(\n",
    "    ax[1],\n",
    "    [[len(v) for v in sample_reads[k].values()] for k in sample_reads],\n",
    "    log=True,\n",
    "    labels=[\"Fresh\", \"Fixed\"],\n",
    "    title=\"nUMIs per cell (PB)\"\n",
    ")\n",
    "\n",
    "ax[1].set_yticks([2, 3, 4], [\"$10^2$\", \"$10^3$\", \"$10^4$\"])\n",
    "ax[1].set_yticks(\n",
    "    np.log10([v*10**i for i in range(1, 5) for v in range(2, 10)][1:-6]),\n",
    "    minor=True\n",
    ")\n",
    "\n",
    "\n",
    "plot_dists(\n",
    "    ax[2],\n",
    "    [\n",
    "        [v for vs in sample_read_lens[k].values() for v in vs]\n",
    "         for k in (\"fresh_cd14\", \"fixed_cd14\")\n",
    "    ],\n",
    "    labels=[\"Fresh\", \"Fixed\"],\n",
    "    title=\"Read length (PB)\"\n",
    ")\n",
    "\n",
    "ax[2].set_ylim(0, 800)\n",
    "\n",
    "fig.suptitle(\"CD14+ cluster stats\")\n",
    "plt.savefig(figure_path / \"fig1h_fixfresh_comparison.svg\")\n",
    "plt.show()"
   ]
  },
  {
   "cell_type": "markdown",
   "id": "a28207f9-c824-4830-9e63-1551734c1212",
   "metadata": {},
   "source": [
    "# Additional review analysis"
   ]
  },
  {
   "cell_type": "markdown",
   "id": "3cca1857-6a97-4b00-b089-a40c2f9f879e",
   "metadata": {},
   "source": [
    "Same figure as above, but with Brunner-Munzel test results added to the UMI plots."
   ]
  },
  {
   "cell_type": "code",
   "execution_count": null,
   "id": "09c417fa-f096-44a4-9e09-e94850ca876f",
   "metadata": {},
   "outputs": [],
   "source": [
    "plot_fixfresh_triptych(hto7_c4_numis, hto8_c4_numis, sample_reads, sample_read_lens, figure_path=figure_path)"
   ]
  },
  {
   "cell_type": "markdown",
   "id": "39b752f6-6e27-4497-bb1f-ee7f4b9c8ad4",
   "metadata": {},
   "source": [
    "Now we will use the standard Scanpy processing with some small marker genes improvements to more precisely define our clusters and cell types in order to do a more general comparison across all seen cell types."
   ]
  },
  {
   "cell_type": "code",
   "execution_count": null,
   "id": "d08e9323-a749-4834-9c65-dfe6dafa990f",
   "metadata": {},
   "outputs": [],
   "source": [
    "hto7_adata = sc.read_10x_mtx(shortread_dir / \"HTO\" / \"demux\" / \"HTO7\" / \"filtered_matrix\" / \"sensitivity_5\")\n",
    "hto7_adata.var_names_make_unique()\n",
    "\n",
    "hto8_adata = sc.read_10x_mtx(shortread_dir / \"HTO\" / \"demux\" / \"HTO8\" / \"filtered_matrix\" / \"sensitivity_5\")\n",
    "hto8_adata.var_names_make_unique()\n"
   ]
  },
  {
   "cell_type": "code",
   "execution_count": null,
   "id": "f79e4d6c-c4dc-4810-a01f-02cf9e788952",
   "metadata": {},
   "outputs": [],
   "source": [
    "# mitochondrial genes, \"MT-\" for human, \"Mt-\" for mouse\n",
    "hto7_adata.var[\"mt\"] = hto7_adata.var_names.str.startswith(\"MT-\")\n",
    "# ribosomal genes\n",
    "hto7_adata.var[\"ribo\"] = hto7_adata.var_names.str.startswith((\"RPS\", \"RPL\"))\n",
    "# hemoglobin genes\n",
    "hto7_adata.var[\"hb\"] = hto7_adata.var_names.str.contains(\"^HB[^(P)]\")\n",
    "\n",
    "\n",
    "sc.pp.calculate_qc_metrics(\n",
    "    hto7_adata, qc_vars=[\"mt\", \"ribo\", \"hb\"], inplace=True, log1p=True\n",
    ")\n"
   ]
  },
  {
   "cell_type": "code",
   "execution_count": null,
   "id": "9bfd482c-0c7f-4934-b456-35587e05da4e",
   "metadata": {},
   "outputs": [],
   "source": [
    "# mitochondrial genes, \"MT-\" for human, \"Mt-\" for mouse\n",
    "hto8_adata.var[\"mt\"] = hto8_adata.var_names.str.startswith(\"MT-\")\n",
    "# ribosomal genes\n",
    "hto8_adata.var[\"ribo\"] = hto8_adata.var_names.str.startswith((\"RPS\", \"RPL\"))\n",
    "# hemoglobin genes\n",
    "hto8_adata.var[\"hb\"] = hto8_adata.var_names.str.contains(\"^HB[^(P)]\")\n",
    "\n",
    "\n",
    "sc.pp.calculate_qc_metrics(\n",
    "    hto8_adata, qc_vars=[\"mt\", \"ribo\", \"hb\"], inplace=True, log1p=True\n",
    ")\n"
   ]
  },
  {
   "cell_type": "code",
   "execution_count": null,
   "id": "cd45b5e6-2570-4041-99fe-1691a73a801d",
   "metadata": {},
   "outputs": [],
   "source": [
    "# List of metrics\n",
    "metrics = [\"n_genes_by_counts\", \"total_counts\", \"pct_counts_mt\"]\n",
    "\n",
    "# Extract and label from each AnnData\n",
    "df1 = hto7_adata.obs[metrics].copy()\n",
    "df1[\"sample\"] = \"Fresh\"\n",
    "\n",
    "df2 = hto8_adata.obs[metrics].copy()\n",
    "df2[\"sample\"] = \"Fixed\"\n",
    "\n",
    "df_combined = pd.concat([df1, df2])\n",
    "df_melted = df_combined.melt(id_vars=\"sample\", var_name=\"metric\", value_name=\"value\")\n",
    "\n",
    "# Create one split violin plot per metric\n",
    "n_metrics = len(metrics)\n",
    "fig, axes = plt.subplots(1, n_metrics, figsize=(5 * n_metrics, 5), sharey=False)\n",
    "\n",
    "for ax, metric in zip(axes, metrics):\n",
    "    sns.violinplot(\n",
    "        data=df_melted[df_melted[\"metric\"] == metric],\n",
    "        x=\"metric\",\n",
    "        y=\"value\",\n",
    "        hue=\"sample\",\n",
    "        split=True,\n",
    "        inner=\"quartile\",\n",
    "        linewidth=1,\n",
    "        ax=ax\n",
    "    )\n",
    "\n",
    "    ax.set_title(\"\", fontsize=16)\n",
    "    ax.set_xlabel(\"\", fontsize=12)\n",
    "    ax.set_ylabel(\"\", fontsize=12)\n",
    "    ax.tick_params(axis='both', labelsize=20)\n",
    "    ax.legend().remove()\n",
    "\n",
    "axes[0].set_ylim(0, 5000)\n",
    "axes[1].set_ylim(0, 20000)\n",
    "axes[2].set_ylim(0, 10)\n",
    "\n",
    "# Handle legend separately\n",
    "handles, labels = ax.get_legend_handles_labels()\n",
    "fig.legend(handles, labels, title=\"\", loc=\"center right\", bbox_to_anchor=(1.25, 0.5), fontsize=20)\n",
    "\n",
    "# fig.suptitle(\"Split Violin Plots of QC Metrics\", fontsize=16, y=1.05)\n",
    "plt.tight_layout()\n",
    "plt.show()"
   ]
  },
  {
   "cell_type": "code",
   "execution_count": null,
   "id": "9d19d6b6-7c44-4e94-a261-01e87a695307",
   "metadata": {},
   "outputs": [],
   "source": [
    "sc.pl.scatter(hto7_adata, \"total_counts\", \"n_genes_by_counts\", color=\"pct_counts_mt\")\n",
    "sc.pl.scatter(hto8_adata, \"total_counts\", \"n_genes_by_counts\", color=\"pct_counts_mt\")"
   ]
  },
  {
   "cell_type": "code",
   "execution_count": null,
   "id": "ffc8748e-1c12-4d0d-b69f-0983874686b0",
   "metadata": {},
   "outputs": [],
   "source": [
    "sc.pp.filter_cells(hto7_adata, min_genes=100)\n",
    "sc.pp.filter_genes(hto7_adata, min_cells=3)\n",
    "\n",
    "sc.pp.filter_cells(hto8_adata, min_genes=100)\n",
    "sc.pp.filter_genes(hto8_adata, min_cells=3)"
   ]
  },
  {
   "cell_type": "code",
   "execution_count": null,
   "id": "dc61c964-abde-4302-ada9-d21e8d0b70be",
   "metadata": {},
   "outputs": [],
   "source": [
    "print(sum(hto7_adata.obs[\"total_counts\"]))\n",
    "print(sum(hto8_adata.obs[\"total_counts\"]))"
   ]
  },
  {
   "cell_type": "code",
   "execution_count": null,
   "id": "fc8b86e0-a425-4120-a14b-12bbae4bb68c",
   "metadata": {},
   "outputs": [],
   "source": [
    "sc.pp.scrublet(hto7_adata)\n",
    "sc.pp.scrublet(hto8_adata)"
   ]
  },
  {
   "cell_type": "code",
   "execution_count": null,
   "id": "94ab0327-2395-450c-bd30-c00bdffd6df1",
   "metadata": {},
   "outputs": [],
   "source": [
    "hto7_adata.layers[\"counts\"] = hto7_adata.X.copy()\n",
    "hto8_adata.layers[\"counts\"] = hto8_adata.X.copy()"
   ]
  },
  {
   "cell_type": "code",
   "execution_count": null,
   "id": "1b9a6540-3ff9-47af-b192-0dc34be6155f",
   "metadata": {},
   "outputs": [],
   "source": [
    "sc.pp.normalize_total(hto7_adata)\n",
    "sc.pp.log1p(hto7_adata)\n",
    "\n",
    "sc.pp.normalize_total(hto8_adata)\n",
    "sc.pp.log1p(hto8_adata)"
   ]
  },
  {
   "cell_type": "code",
   "execution_count": null,
   "id": "e39694d5-4135-4719-aee9-d317235b3fcf",
   "metadata": {},
   "outputs": [],
   "source": [
    "sc.pp.highly_variable_genes(hto7_adata, n_top_genes=2000)\n",
    "\n",
    "sc.pp.highly_variable_genes(hto8_adata, n_top_genes=2000)"
   ]
  },
  {
   "cell_type": "code",
   "execution_count": null,
   "id": "ca1f34d8-c2ac-417e-b7e2-67a7e760ab8d",
   "metadata": {},
   "outputs": [],
   "source": [
    "sc.pl.highly_variable_genes(hto7_adata)\n",
    "\n",
    "sc.pl.highly_variable_genes(hto8_adata)"
   ]
  },
  {
   "cell_type": "code",
   "execution_count": null,
   "id": "f347ecad-2d74-460b-8ad4-1102f4c8f341",
   "metadata": {},
   "outputs": [],
   "source": [
    "sc.tl.pca(hto7_adata)\n",
    "sc.tl.pca(hto8_adata)"
   ]
  },
  {
   "cell_type": "code",
   "execution_count": null,
   "id": "dcf4fcaa-61c3-4bfd-9efc-ff732d593ac1",
   "metadata": {},
   "outputs": [],
   "source": [
    "sc.pl.pca_variance_ratio(hto7_adata, n_pcs=50, log=True)\n",
    "sc.pl.pca_variance_ratio(hto8_adata, n_pcs=50, log=True)"
   ]
  },
  {
   "cell_type": "code",
   "execution_count": null,
   "id": "4606a198-4510-40f6-aaac-53ff233442d4",
   "metadata": {},
   "outputs": [],
   "source": [
    "sc.pl.pca(\n",
    "    hto7_adata,\n",
    "    color=[\"pct_counts_mt\", \"pct_counts_mt\"],\n",
    "    dimensions=[(0, 1), (2, 3)],\n",
    "    ncols=2,\n",
    "    size=2,\n",
    ")\n",
    "\n",
    "sc.pl.pca(\n",
    "    hto8_adata,\n",
    "    color=[\"pct_counts_mt\", \"pct_counts_mt\"],\n",
    "    dimensions=[(0, 1), (2, 3)],\n",
    "    ncols=2,\n",
    "    size=2,\n",
    ")"
   ]
  },
  {
   "cell_type": "code",
   "execution_count": null,
   "id": "a480cf3d-b27e-4ac7-ab92-fe52ef72712d",
   "metadata": {},
   "outputs": [],
   "source": [
    "sc.pp.neighbors(hto7_adata)\n",
    "sc.pp.neighbors(hto8_adata)"
   ]
  },
  {
   "cell_type": "code",
   "execution_count": null,
   "id": "356544b2-65c4-4ca3-abc4-d2e5f8bf86e5",
   "metadata": {},
   "outputs": [],
   "source": [
    "sc.tl.umap(hto7_adata)\n",
    "sc.tl.umap(hto8_adata)"
   ]
  },
  {
   "cell_type": "code",
   "execution_count": null,
   "id": "e6d817ac-f9d1-49cb-b213-f755c6509f4f",
   "metadata": {},
   "outputs": [],
   "source": [
    "sc.tl.leiden(hto7_adata, flavor=\"igraph\", n_iterations=2)\n",
    "sc.tl.leiden(hto8_adata, flavor=\"igraph\", n_iterations=2)"
   ]
  },
  {
   "cell_type": "code",
   "execution_count": null,
   "id": "6a2996eb-d7b8-4a04-96b7-41b8d565a1b5",
   "metadata": {},
   "outputs": [],
   "source": [
    "sc.pl.umap(\n",
    "    hto7_adata,\n",
    "    color=[\"leiden\", \"predicted_doublet\", \"doublet_score\", \"pct_counts_mt\", \"n_genes_by_counts\", \"total_counts\"],\n",
    "    # increase horizontal space between panels\n",
    "    wspace=0.3,\n",
    "    size=3,\n",
    "    ncols=2\n",
    ")\n",
    "\n",
    "\n",
    "sc.pl.umap(\n",
    "    hto8_adata,\n",
    "    color=[\"leiden\", \"predicted_doublet\", \"doublet_score\", \"pct_counts_mt\", \"n_genes_by_counts\", \"total_counts\"],\n",
    "    # increase horizontal space between panels\n",
    "    wspace=0.3,\n",
    "    size=3,\n",
    "    ncols=2\n",
    ")"
   ]
  },
  {
   "cell_type": "markdown",
   "id": "8133b220-54df-4c40-96f3-3d07c27c6e13",
   "metadata": {},
   "source": [
    "Modified Scanpy marker genes dict with more markers."
   ]
  },
  {
   "cell_type": "code",
   "execution_count": null,
   "id": "ad525e40-261a-481d-86db-3664abceda16",
   "metadata": {},
   "outputs": [],
   "source": [
    "# based on the scanpy genes list, but expended\n",
    "\n",
    "marker_genes = {\n",
    "    \"CD14+ Mono\": [\"FCN1\", \"CD14\"],\n",
    "    \"CD16+ Mono\": [\"TCF7L2\", \"FCGR3A\", \"LYN\"],\n",
    "    # Note: DMXL2 should be negative\n",
    "    \"cDC1\": [\"CD1C\", \"CLEC9A\"],\n",
    "    \"cDC2\": [\"CST3\", \"COTL1\", \"LYZ\", \"DMXL2\", \"CLEC10A\", \"FCER1A\"],\n",
    "    \"mregDC\": [\"LAMP3\", \"CCR7\"],\n",
    "    \"Treg\": [\"CD4\", \"FOXP3\", \"ICOS\"],\n",
    "    \"TFH\": [\"CD4\", \"BCL6\", \"PDCD1\", \"CXCL13\"],\n",
    "    \"MAST\": [\"MS4A3\", \"KIT\"],\n",
    "    \"Erythroblast\": [\"MKI67\", \"HBA1\", \"HBB\"],\n",
    "    # Note HBM and GYPA are negative markers\n",
    "    \"Proerythroblast\": [\"CDK6\", \"SYNGR1\"], # \"HBM\", \"GYPA\"],\n",
    "    \"NK\": [\"GNLY\", \"NKG7\", \"CD247\", \"FCER1G\", \"TYROBP\", \"KLRG1\", \"FCGR3A\", \"TRDC\"],\n",
    "    \"ILC\": [\"ID2\", \"PLCG2\", \"GNLY\", \"SYNE1\", \"TRDC\", \"TRBC1\", \"CD3D\"],\n",
    "    \"Naive CD20+ B\": [\"MS4A1\", \"IL4R\", \"IGHD\", \"FCRL1\", \"IGHM\"],\n",
    "    # Note IGHD and IGHM are negative markers\n",
    "    \"B cells\": [\n",
    "        \"MS4A1\",\n",
    "        \"ITGB1\",\n",
    "        \"PRDM1\",\n",
    "        \"PAX5\",\n",
    "        \"BCL11A\",\n",
    "        \"IGHD\",\n",
    "        \"IGHM\",\n",
    "    ],\n",
    "    \"Plasma cells\": [\"MZB1\", \"HSP90B1\", \"FNDC3B\", \"PRDM1\", \"IGKC\", \"JCHAIN\"],\n",
    "    \"Platelets\": [\"PPBP\"],\n",
    "    # Note PAX5 is a negative marker\n",
    "    \"Plasmablast\": [\"XBP1\", \"PRDM1\", \"PAX5\"],\n",
    "    \"CD4+ T\": [\"CD4\", \"IL7R\", \"TRBC2\"],\n",
    "    \"CD8+ T\": [\"CD8A\", \"CD8B\", \"GZMK\", \"GZMA\", \"CCL5\", \"GZMB\", \"GZMH\", \"GZMA\"],\n",
    "    \"T naive\": [\"LEF1\", \"CCR7\", \"TCF7\"],\n",
    "    \"pDC\": [\"GZMB\", \"IL3RA\", \"COBLL1\", \"TCF4\", \"IRF4\"],\n",
    "}"
   ]
  },
  {
   "cell_type": "code",
   "execution_count": null,
   "id": "b66d0ebb-a999-4055-9dc7-0baa03c11b82",
   "metadata": {},
   "outputs": [],
   "source": [
    "sc.pl.dotplot(hto7_adata, marker_genes, groupby=\"leiden\", standard_scale=\"var\")"
   ]
  },
  {
   "cell_type": "code",
   "execution_count": null,
   "id": "fa764013-eb3a-49b7-8524-1cf47df09edd",
   "metadata": {},
   "outputs": [],
   "source": [
    "sc.pl.dotplot(hto8_adata, marker_genes, groupby=\"leiden\", standard_scale=\"var\")"
   ]
  },
  {
   "cell_type": "code",
   "execution_count": null,
   "id": "4313ebd1-4c2a-4ad8-a26c-bc963fb8f300",
   "metadata": {},
   "outputs": [],
   "source": [
    "# Obtain cluster-specific differentially expressed genes\n",
    "sc.tl.rank_genes_groups(hto7_adata, groupby=\"leiden\", method=\"wilcoxon\", )\n",
    "sc.tl.rank_genes_groups(hto8_adata, groupby=\"leiden\", method=\"wilcoxon\", )"
   ]
  },
  {
   "cell_type": "code",
   "execution_count": null,
   "id": "02a155bd-eafc-4beb-91af-705c19016c36",
   "metadata": {},
   "outputs": [],
   "source": [
    "sc.pl.rank_genes_groups_dotplot(\n",
    "    hto7_adata, groupby=\"leiden\", standard_scale=\"var\", n_genes=10\n",
    ")"
   ]
  },
  {
   "cell_type": "code",
   "execution_count": null,
   "id": "54897b62-d5b5-42ed-b993-1944132c4ef1",
   "metadata": {},
   "outputs": [],
   "source": [
    "sc.pl.rank_genes_groups_dotplot(\n",
    "    hto8_adata, groupby=\"leiden\", standard_scale=\"var\", n_genes=10,\n",
    ")"
   ]
  },
  {
   "cell_type": "markdown",
   "id": "134a66ec-d3af-450f-828a-48ae73d3c5db",
   "metadata": {},
   "source": [
    "We define our cell type mappings to clusters."
   ]
  },
  {
   "cell_type": "code",
   "execution_count": null,
   "id": "268bd9fd-7a3c-466f-a684-b2e412a30956",
   "metadata": {},
   "outputs": [],
   "source": [
    "MAPPING_PAIRS = {\n",
    "    \"CD4 T naive\": (0, 6), \n",
    "    \"CD4 T activated / cm\": (1, 2), \n",
    "    \"NK\": (2, 10),\n",
    "    \"CTL/ILC\": (3, 4), \n",
    "    \"CD14+ Mono\": (4, 0), \n",
    "    \"CD14+ Mono 2\": (5, 1),\n",
    "    \"CD16+ Mono\": (6, 3), \n",
    "    \"B cell\": (7, 9),\n",
    "    \"Plasmablast\": (8, 12),\n",
    "    \"Proerythroblast\": (9, 16), \n",
    "    \"Platelet\": (10, 17), \n",
    "    \"pDC\": (11, 15), \n",
    "    \"CD8 T naive\": (12, 13), \n",
    "    \"DC\": (13, 14),\n",
    "    \"Erythrocyte\": (None, 5), \n",
    "    \"Low QC / Doublet\": (None, 7), \n",
    "    \"Low QC / Low nUMI\": (None, 8), \n",
    "    \"LowQC Platelet/Doublet\": (None, 11),\n",
    "}"
   ]
  },
  {
   "cell_type": "markdown",
   "id": "0bc2b530-02b2-43c8-aa69-da21fbd0c1e6",
   "metadata": {},
   "source": [
    "Comparing the cell counts per cluster"
   ]
  },
  {
   "cell_type": "code",
   "execution_count": null,
   "id": "a0148798-a989-4e7c-b482-b4392ac1690f",
   "metadata": {},
   "outputs": [],
   "source": [
    "hto7_adata.obs[\"leiden\"].value_counts()"
   ]
  },
  {
   "cell_type": "code",
   "execution_count": null,
   "id": "d41a68b0-3868-4d47-b266-f6ce549ed6f8",
   "metadata": {},
   "outputs": [],
   "source": [
    "hto8_adata.obs[\"leiden\"].value_counts()"
   ]
  },
  {
   "cell_type": "markdown",
   "id": "0ad0e944-03a1-40af-b8bb-2c1134dd29d3",
   "metadata": {},
   "source": [
    "We will organize the long reads data for some more counting and plotting."
   ]
  },
  {
   "cell_type": "code",
   "execution_count": null,
   "id": "86a480ef-00ee-44cd-9349-6ed383562814",
   "metadata": {},
   "outputs": [],
   "source": [
    "# tagged bams\n",
    "tagged_bams = sorted(cdna_path.glob(\"*.bam\"))\n",
    "\n",
    "len(tagged_bams)"
   ]
  },
  {
   "cell_type": "code",
   "execution_count": null,
   "id": "e83c79b8-258c-4266-9e78-aa508d55fbee",
   "metadata": {},
   "outputs": [],
   "source": [
    "cluster_data = prepare_cluster_data(\n",
    "    tagged_bams,\n",
    "    m_hto7, m_hto8,\n",
    "    hto7_adata, hto8_adata,\n",
    "    hto7_barcodes_full, hto8_barcodes_full,\n",
    "    MAPPING_PAIRS)"
   ]
  },
  {
   "cell_type": "markdown",
   "id": "d199d036-c907-413e-a924-7c99576a91e2",
   "metadata": {},
   "source": [
    "We can compare the precise median UMIs in CD14+ Monocytes from the short reads data to calculate the increase."
   ]
  },
  {
   "cell_type": "code",
   "execution_count": null,
   "id": "23dbdab9-2c04-4ab7-b085-8ed97a93f57e",
   "metadata": {},
   "outputs": [],
   "source": [
    "clusters = [\"4\", \"5\"]\n",
    "median_umis = hto7_adata.obs.loc[hto7_adata.obs[\"leiden\"].astype(str).isin(clusters), \"total_counts\"].median()\n",
    "print(median_umis)"
   ]
  },
  {
   "cell_type": "code",
   "execution_count": null,
   "id": "210ef120-d5e5-477d-b14d-9a8dbdefc748",
   "metadata": {},
   "outputs": [],
   "source": [
    "clusters = [\"0\", \"1\"]\n",
    "median_umis = hto8_adata.obs.loc[hto8_adata.obs[\"leiden\"].astype(str).isin(clusters), \"total_counts\"].median()\n",
    "print(median_umis)"
   ]
  },
  {
   "cell_type": "markdown",
   "id": "8b9c6ae0-cc96-4b85-93a9-1a78368eb6cc",
   "metadata": {},
   "source": [
    "And then compare it in the long reads data."
   ]
  },
  {
   "cell_type": "code",
   "execution_count": null,
   "id": "1af8eb3d-c6a1-4c7f-b7b7-feb75b0d645e",
   "metadata": {},
   "outputs": [],
   "source": [
    "import numpy as np\n",
    "from collections import defaultdict\n",
    "from typing import Dict, Any, Iterable, Optional\n",
    "\n",
    "def pooled_median_longread_umis(\n",
    "    cluster_data: Dict[str, Dict[str, Any]],\n",
    "    fresh_ids: Optional[Iterable[int]] = None,\n",
    "    fixed_ids: Optional[Iterable[int]] = None,\n",
    "    side: str = \"fresh\",\n",
    ") -> float:\n",
    "    \"\"\"Median of pooled long-read UMIs for the selected side.\n",
    "    Filters by meta['fresh_cid'] / meta['fixed_cid'] if sets are provided.\n",
    "    \"\"\"\n",
    "    assert side in (\"fresh\", \"fixed\")\n",
    "    fset = set(fresh_ids) if fresh_ids is not None else None\n",
    "    xset = set(fixed_ids) if fixed_ids is not None else None\n",
    "\n",
    "    vals = []\n",
    "    for v in cluster_data.values():\n",
    "        meta = v.get(\"meta\", {})\n",
    "        f = meta.get(\"fresh_cid\")\n",
    "        x = meta.get(\"fixed_cid\")\n",
    "        if fset is not None and f not in fset:\n",
    "            continue\n",
    "        if xset is not None and x not in xset:\n",
    "            continue\n",
    "        vals.extend(v[\"pb_umi_counts\"][side])\n",
    "\n",
    "    arr = np.asarray(vals, float)\n",
    "    return float(np.median(arr)) if arr.size else float(\"nan\")\n",
    "\n",
    "\n",
    "def medians_per_cluster(\n",
    "    cluster_data: Dict[str, Dict[str, Any]],\n",
    "    ids: Optional[Iterable[int]],\n",
    "    side: str = \"fresh\",\n",
    ") -> Dict[int, float]:\n",
    "    \"\"\"Median long-read UMIs per cluster ID on the chosen side.\n",
    "    If ids is None, compute for all clusters with an ID on that side.\n",
    "    \"\"\"\n",
    "    assert side in (\"fresh\", \"fixed\")\n",
    "    want = set(ids) if ids is not None else None\n",
    "    buckets = defaultdict(list)\n",
    "\n",
    "    for v in cluster_data.values():\n",
    "        meta = v.get(\"meta\", {})\n",
    "        cid = meta.get(\"fresh_cid\") if side == \"fresh\" else meta.get(\"fixed_cid\")\n",
    "        if cid is None:\n",
    "            continue\n",
    "        if want is not None and cid not in want:\n",
    "            continue\n",
    "        buckets[cid].extend(v[\"pb_umi_counts\"][side])\n",
    "\n",
    "    out = {}\n",
    "    for cid in sorted(buckets):\n",
    "        arr = np.asarray(buckets[cid], float)\n",
    "        out[cid] = float(np.median(arr)) if arr.size else float(\"nan\")\n",
    "    return out\n"
   ]
  },
  {
   "cell_type": "code",
   "execution_count": null,
   "id": "a32061f6-bd94-46a8-a1f2-78f693038ecb",
   "metadata": {},
   "outputs": [],
   "source": [
    "median_fresh_CD14 = pooled_median_longread_umis(cluster_data, fresh_ids={4,5}, side=\"fresh\")\n",
    "median_fixed_CD14  = pooled_median_longread_umis(cluster_data, fixed_ids={0,1}, side=\"fixed\")\n",
    "print(median_fresh_CD14)\n",
    "print(median_fixed_CD14)"
   ]
  },
  {
   "cell_type": "markdown",
   "id": "614fd358-93ba-4912-acbf-7cb20531751e",
   "metadata": {},
   "source": [
    "We regenerate the earlier type of plots but for each new cluster."
   ]
  },
  {
   "cell_type": "code",
   "execution_count": null,
   "id": "0320f578-f5fe-461c-84f7-275fea479219",
   "metadata": {},
   "outputs": [],
   "source": [
    "plot_cluster_triptychs(cluster_data, outdir=figure_path)"
   ]
  },
  {
   "cell_type": "markdown",
   "id": "238d3ea1-f55d-4777-981c-99456cd3ff46",
   "metadata": {},
   "source": [
    "Some clusters, including Erythrocytes, are only present in the fixed data, so there is only 1 violin plot for those, and the test results are n/a."
   ]
  },
  {
   "cell_type": "markdown",
   "id": "2e757513-604a-4d98-8a63-c3ad744fae45",
   "metadata": {},
   "source": [
    "Now we will plot all of the clusters present in conditions as split violins for a more compact overview."
   ]
  },
  {
   "cell_type": "code",
   "execution_count": null,
   "id": "56103021-a946-4f72-9f68-3d74f79801a3",
   "metadata": {},
   "outputs": [],
   "source": [
    "fig_sr, ax_sr = make_fig_short_reads(cluster_data)\n",
    "fig_sr.savefig(figure_path / \"short_reads_split_violins.svg\", bbox_inches=\"tight\")\n",
    "plt.show()"
   ]
  },
  {
   "cell_type": "code",
   "execution_count": null,
   "id": "9b118427-6d4e-4eb5-9151-b5546f679a41",
   "metadata": {},
   "outputs": [],
   "source": [
    "fig_lr, (ax1, ax2) = make_fig_long_reads(cluster_data)\n",
    "fig_lr.savefig(figure_path / \"long_reads_split_violins_vertical.svg\", bbox_inches=\"tight\")\n",
    "plt.show()"
   ]
  }
 ],
 "metadata": {
  "kernelspec": {
   "display_name": "mdl-sc-isoform-2025-ms",
   "language": "python",
   "name": "mdl-sc-isoform-2025-ms"
  },
  "language_info": {
   "codemirror_mode": {
    "name": "ipython",
    "version": 3
   },
   "file_extension": ".py",
   "mimetype": "text/x-python",
   "name": "python",
   "nbconvert_exporter": "python",
   "pygments_lexer": "ipython3",
   "version": "3.10.16"
  }
 },
 "nbformat": 4,
 "nbformat_minor": 5
}
