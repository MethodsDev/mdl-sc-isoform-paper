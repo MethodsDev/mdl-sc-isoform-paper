{
 "cells": [
  {
   "cell_type": "markdown",
   "id": "526dffe4-d969-45e8-bf26-0b101e6a233e",
   "metadata": {},
   "source": [
    "# Fixation experiments\n",
    "\n",
    "This notebook covers the long-read analysis of the two fixation experiments. The preliminary experiment contained a panel of several different fixation protocols along with fresh PBMCs, hashtagged into a single PIPseq library. From this experiment we selected Methanol+DSP as our preferred fixation method. To validate our choice with a larger number of cells, we did a second experiment of only fresh PBMCs hashtagged along with cells fixed with Methanol+DSP.\n",
    "\n",
    "For both experiments, we have matched short-read sequencing to identify the hashtags and cell barcodes. We also use the short-read data to cluster and annotate cells using canonical PBMC markers, then translate that annotation to the long-read data.\n",
    "\n",
    "### Raw data\n",
    "\n",
    " * Short-read data in `gs://mdl-sc-isoform-2025-ms/fix-fresh_illumina` (GEX = gene expression, HTO = hashtag file)\n",
    "   * Fixation panel: `MDL_FixationPanel_*`\n",
    "   * Methanol+DSP vs fresh PBMCs: `MDL_FixFresh_*`\n",
    " * Long-read data in `gs://mdl-sc-isoform-2025-ms/fix-fresh_masseq`\n",
    "   * Fixation panel: `m84175_240224_082414_s4.hifi_reads.bcM0004.bam`\n",
    "   * Methanol+DSP vs fresh PBMCs: `m84250_240530_044215_s1.hifi_reads.bcM0001.bam` and `m84250_240530_064125_s2.hifi_reads.bcM0001.bam`\n",
    "\n",
    "To process short-read data, we demultiplexed with `bcl2fastq2` and ran PIPseeker:\n",
    "\n",
    "For the panel of fixation protocols:\n",
    "```\n",
    "./pipseeker-v3.3.0-linux/pipseeker full --output-path MDL_FixationPanel \\\n",
    "    --fastq MDL_FixationPanel_GEX \\\n",
    "    --hto-fastq MDL_FixationPanel_HTO \\\n",
    "    --hto-tags metadata/hto_tags_1-6.csv \\\n",
    "    --star-index-path reference/GRCh38 \\\n",
    "    --chemistry v4\n",
    "```\n",
    "\n",
    "For the second comparison between Methanol+DSP and fresh cells:\n",
    "```\n",
    "./pipseeker-v3.3.0-linux/pipseeker full --output-path MDL_FixFresh \\\n",
    "    --fastq MDL_FixFresh_GEX \\\n",
    "    --hto-fastq MDL_FixFresh_HTO \\\n",
    "    --hto-tags metadata/hto_tags_7-8.csv \\\n",
    "    --star-index-path reference/GRCh38 \\\n",
    "    --chemistry v4\n",
    "```\n",
    "\n",
    "To process the long-read data, we follow the same recipe as the previous notebooks:\n",
    "\n",
    "* Deconcatenate reads with `skera`\n",
    "* Classify `proper` reads with `marti`\n",
    "* Extract barcodes and UMIs with `bouncer`\n",
    "\n",
    "After these steps, we use the clustering from short-read data to identify CD14+ monocytes and extract UMI counts and read length distributions for those cells, as well as for other cells."
   ]
  },
  {
   "cell_type": "markdown",
   "id": "d436157b-0da5-427a-bd7b-2fc48b13c571",
   "metadata": {},
   "source": [
    "### imports"
   ]
  },
  {
   "cell_type": "code",
   "execution_count": null,
   "id": "07ca3d1c-61ac-45cd-b64c-b7bfeb440887",
   "metadata": {},
   "outputs": [],
   "source": [
    "import csv\n",
    "import gzip\n",
    "import itertools\n",
    "import pickle\n",
    "from collections import defaultdict\n",
    "from concurrent.futures import ProcessPoolExecutor\n",
    "from pathlib import Path\n",
    "\n",
    "import matplotlib.pyplot as plt\n",
    "import numpy as np\n",
    "import sparse\n",
    "import yaml\n",
    "\n",
    "import pysam\n",
    "\n",
    "import mdl.sc_isoform_paper.util as util\n",
    "from mdl.sc_isoform_paper import today\n",
    "from mdl.sc_isoform_paper.marti import CONFIG_DICT, SAMPLE_CONFIG\n",
    "from mdl.sc_isoform_paper.pipseq_barcodes import barcode_to_sequence, sequence_to_int, barcode_to_int\n",
    "from mdl.sc_isoform_paper.plots import plot_dists\n",
    "\n",
    "# a bunch of functions for single-cell analysis\n",
    "# installed from www.github.com/methodsdev/isoscelles\n",
    "from mdl.isoscelles.io import read_mtx\n",
    "from mdl.isoscelles.leiden import recursive_cluster, cluster_leaf_nodes, cluster_labels\n"
   ]
  },
  {
   "cell_type": "code",
   "execution_count": null,
   "id": "5b56e6a0-465b-4d45-818e-10bbc8cb90c3",
   "metadata": {},
   "outputs": [],
   "source": [
    "pysam.set_verbosity(0)\n",
    "\n",
    "root_dir = Path.home()\n",
    "data_path = root_dir / \"data\" / \"20240304_fixpip\"\n",
    "figure_path = root_dir / \"202501_figures\""
   ]
  },
  {
   "cell_type": "markdown",
   "id": "ada6d6aa-db89-4b5e-ab97-03e4a7fa0ce6",
   "metadata": {},
   "source": [
    "## skera, marti, barcode extraction"
   ]
  },
  {
   "cell_type": "code",
   "execution_count": null,
   "id": "1a54b084-1788-4d42-8069-37d4031b88c2",
   "metadata": {},
   "outputs": [],
   "source": [
    "raw_bam = data_path / \"raw\" / \"m84175_240224_082414_s4.hifi_reads.bcM0004.bam\"\n",
    "\n",
    "base = raw_bam.name.split(\".\")[0]\n",
    "\n",
    "skera_path = data_path / f\"{today}_skera\"\n",
    "skera_path.mkdir(exist_ok=True)\n",
    "\n",
    "skera_bam = skera_path / f\"{base}.skera.bam\"\n",
    "\n",
    "# path to the marti binary\n",
    "marti_bin = root_dir / \"marti/build/bin/marti\"\n",
    "\n",
    "# pipseq barcode file\n",
    "pipseq_barcode_file = root_dir / \"metadata\" / \"fluent_barcodes.txt.gz\"\n",
    "\n",
    "# path to extract_barcodes\n",
    "extract_barcodes_bin = Path(\"/opt/conda/envs/fa/bin/extract_barcodes\")"
   ]
  },
  {
   "cell_type": "code",
   "execution_count": null,
   "id": "9c52d711-cb35-4a49-b7ff-b4eb3cadebd0",
   "metadata": {},
   "outputs": [],
   "source": [
    "# remove the `echo` to run skera\n",
    "! echo skera split -j 16 {raw_bam} metadata/mas16_primers.fasta {skera_bam}"
   ]
  },
  {
   "cell_type": "markdown",
   "id": "098c27c5-1106-4caa-8ef6-57eb81fe0a12",
   "metadata": {},
   "source": [
    "#### marti\n",
    "\n",
    "We run `marti` as before, with settings for PIPseq."
   ]
  },
  {
   "cell_type": "code",
   "execution_count": null,
   "id": "0c1b847a-6436-497d-b7f2-f235bd5ea509",
   "metadata": {},
   "outputs": [],
   "source": [
    "marti_path = data_path / f\"{today}_marti\"\n",
    "marti_path.mkdir(exist_ok=True)\n",
    "\n",
    "# path to the BAM that will be created\n",
    "marti_bam = marti_path / skera_bam.with_suffix(\".classified.bam\").name"
   ]
  },
  {
   "cell_type": "code",
   "execution_count": null,
   "id": "12ec9994-ae59-42c1-99b7-32ff573e3d70",
   "metadata": {},
   "outputs": [],
   "source": [
    "config_file = marti_path / \"config.yaml\"\n",
    "\n",
    "# write config file with appropriate parameters\n",
    "with open(config_file, \"w\") as out:\n",
    "    print(\n",
    "         yaml.dump(\n",
    "            {\"input_bam\": str(skera_bam)}\n",
    "            | SAMPLE_CONFIG['PIPseq']\n",
    "            | CONFIG_DICT,\n",
    "            sort_keys=False\n",
    "        ),\n",
    "        file=out\n",
    "    )"
   ]
  },
  {
   "cell_type": "code",
   "execution_count": null,
   "id": "84ba97ce-8158-422f-974a-4a6c0e658adc",
   "metadata": {},
   "outputs": [],
   "source": [
    "# remove the `echo` to run marti\n",
    "! echo {marti_bin} {config_file}"
   ]
  },
  {
   "cell_type": "markdown",
   "id": "b387daeb-e6e2-4bd2-bbb7-1886f86cbe7a",
   "metadata": {},
   "source": [
    "#### Barcode extraction\n",
    "\n",
    "Similarly we run `extract_barcodes` with the settings for a PIPseq experiment."
   ]
  },
  {
   "cell_type": "code",
   "execution_count": null,
   "id": "e0b9b8f3-6a5b-4be4-9856-ea7a863ff097",
   "metadata": {},
   "outputs": [],
   "source": [
    "cdna_path = data_path / f\"{today}_cdna\"\n",
    "cdna_path.mkdir(exist_ok=True)\n",
    "\n",
    "# path to the BAM that will be created\n",
    "tagged_bam = cdna_path / marti_bam.with_suffix(\".tagged.bam\").name"
   ]
  },
  {
   "cell_type": "code",
   "execution_count": null,
   "id": "5bbb1e5c-b19c-4e01-bc40-9a318280812e",
   "metadata": {},
   "outputs": [],
   "source": [
    "barcode_config_file = data_path / f\"{today}_barcode_config.yaml\"\n",
    "\n",
    "config = dict(\n",
    "    sample_type='PIPseq',\n",
    "    barcode_file=str(pipseq_barcode_file),\n",
    "    umi_size=12,\n",
    "    buffer_size=56,\n",
    "    bam_paths=[str(marti_bam)],\n",
    ")\n",
    "\n",
    "with open(barcode_config_file, \"w\") as out:\n",
    "    yaml.dump(config, out)"
   ]
  },
  {
   "cell_type": "code",
   "execution_count": null,
   "id": "75ecead2-9e48-437b-ad40-138df915be00",
   "metadata": {},
   "outputs": [],
   "source": [
    "# remove the `echo` to run extract_barcodes\n",
    "! echo {extract_barcodes_bin} --config-file {barcode_config_file} --output-dir {cdna_path}"
   ]
  },
  {
   "cell_type": "markdown",
   "id": "332995d3-b374-4259-ac93-c91651c757d9",
   "metadata": {},
   "source": [
    "## Match barcodes from short-read analysis\n",
    "\n",
    "After running PIPseeker the fixation panel was annotated in R, see the script in the paper repository for details. We will need the annotation file here to match barcodes to the long-read data."
   ]
  },
  {
   "cell_type": "code",
   "execution_count": null,
   "id": "eb3ad376-7f64-4c1c-80c3-e2963c5469b0",
   "metadata": {},
   "outputs": [],
   "source": [
    "# download the annotation\n",
    "! echo gcloud storage cp gs://mdl-sc-isoform-data/... {data_path}/"
   ]
  },
  {
   "cell_type": "code",
   "execution_count": null,
   "id": "570c213d-cd17-4d44-a84a-13aab2d60ebb",
   "metadata": {},
   "outputs": [],
   "source": [
    "with open(data_path / \"PIPseeker-fixpip_run01_Metadata_annotated.csv\") as fh:\n",
    "    md_rows = list(csv.reader(fh))\n",
    "\n",
    "bc_to_exp = {barcode_to_sequence(r[0]): r[11] for r in md_rows[1:]}\n",
    "\n",
    "exps = sorted(set(bc_to_exp.values()))\n",
    "\n",
    "bc_to_label = {barcode_to_sequence(r[0]): r[14].split(\"_\")[0] for r in md_rows[1:]}\n",
    "\n",
    "bcs_by_label = defaultdict(set)\n",
    "for bc, exp in bc_to_exp.items():\n",
    "    bcs_by_label[exp, bc_to_label[bc]].add(bc)"
   ]
  },
  {
   "cell_type": "code",
   "execution_count": null,
   "id": "26c93f9f-2e62-45f2-ac4f-edb2ffa7be0d",
   "metadata": {},
   "outputs": [],
   "source": [
    "nice_exp = {\n",
    "    'Fresh': \"Fresh\", \n",
    "    \"Meth\": 'Methanol',\n",
    "    \"Meth-DSP\": 'Methanol\\nDSP',\n",
    "    'Meth-DSP-DEPC': \"Methanol\\nDSP & DEPC\",\n",
    "    'PFA-01p5min': \"0.1% PFA\\n5 min\",\n",
    "    'PFA-1p-5min': \"1% PFA\\n5 min\"   \n",
    "}"
   ]
  },
  {
   "cell_type": "code",
   "execution_count": null,
   "id": "6363e8ab-f15f-43db-94b3-b0b1ed14af37",
   "metadata": {},
   "outputs": [],
   "source": [
    "sr_barcodes = [barcode_to_sequence(r[0]) for r in md_rows[1:]]\n",
    "\n",
    "assert len(sr_barcodes) == len(set(sr_barcodes))\n",
    "sr_barcode_set = set(sr_barcodes)\n",
    "sr_numis = np.array([int(r[2]) for r in md_rows[1:]])"
   ]
  },
  {
   "cell_type": "code",
   "execution_count": null,
   "id": "d3eba15a-e157-4479-9b6e-4d51280137b7",
   "metadata": {},
   "outputs": [],
   "source": [
    "umis_per_bc = defaultdict(set)\n",
    "with pysam.AlignmentFile(tagged_bam, \"rb\", check_sq=False, threads=8) as fh:\n",
    "    for a in fh:\n",
    "        if (bc := a.get_tag(\"CB\")) in sr_barcode_set:\n",
    "            umis_per_bc[bc].add(((a.query, a.get_tag(\"UB\"))))\n"
   ]
  },
  {
   "cell_type": "code",
   "execution_count": null,
   "id": "91af61a1-b3cc-4522-967f-31710ccce629",
   "metadata": {},
   "outputs": [],
   "source": [
    "bc_to_read_len = defaultdict(list)\n",
    "for bc in umis_per_bc:\n",
    "    bc_to_read_len[bc] = [len(q) for q, _ in umis_per_bc[bc] if q is not None]\n"
   ]
  },
  {
   "cell_type": "code",
   "execution_count": null,
   "id": "1dcf4ad8-ad6a-45f2-abe8-7aac1ad0b837",
   "metadata": {},
   "outputs": [],
   "source": [
    "lr_bc_set = set(umis_per_bc)\n",
    "lr_bc_to_umi = {bc: len(umis_per_bc[bc]) for bc in umis_per_bc}"
   ]
  },
  {
   "cell_type": "code",
   "execution_count": null,
   "id": "924ac6df-2236-4824-907a-83368fb08737",
   "metadata": {},
   "outputs": [],
   "source": [
    "fig, ax = plt.subplots(1, 1, figsize=(16, 5), gridspec_kw={\"hspace\": 0.5})\n",
    "\n",
    "label = \"MonoCD14\"\n",
    "\n",
    "umi_dists = [\n",
    "    [lr_bc_to_umi[bc] for bc in bcs_by_label[exp, label] & lr_bc_set]\n",
    "    for exp in exps\n",
    "]\n",
    "\n",
    "plot_dists(\n",
    "    ax, \n",
    "    umi_dists, \n",
    "    log=True,\n",
    "    labels=[f\"{nice_exp[exp]}\" for exp in exps],\n",
    "    title=\"UMIs/cell for CD14+ Monocytes\"\n",
    ")\n",
    "\n",
    "ax.set_yticks([0, 1, 2, 3], minor=False)\n",
    "ax.set_yticks(\n",
    "    np.log10([v*10**i for i in range(4) for v in range(2, 10)][:-2]),\n",
    "    minor=True\n",
    ")\n",
    "ax.set_ylabel(\"#UMIs\")\n",
    "\n",
    "plt.savefig(figure_path / \"supp_fig8_fixation_umis.svg\")\n",
    "plt.show()"
   ]
  },
  {
   "cell_type": "code",
   "execution_count": null,
   "id": "f86bcdd1-4e0f-4d0b-825f-0d2359711bae",
   "metadata": {},
   "outputs": [],
   "source": [
    "fig, ax = plt.subplots(1, 1, figsize=(16, 5), gridspec_kw={\"hspace\": 0.5})\n",
    "label = \"MonoCD14\"\n",
    "\n",
    "rl_dists = [\n",
    "    [v for bc in bcs_by_label[exp, label] for v in bc_to_read_len[bc]]\n",
    "    for exp in exps\n",
    "]\n",
    "\n",
    "p = plot_dists(\n",
    "    ax,\n",
    "    rl_dists,\n",
    "    labels=[f\"{nice_exp[exp]}\" for exp in exps],\n",
    "    title=\"Read lengths for CD14+ Monocytes\"\n",
    ")\n",
    "\n",
    "ax.set_ylim(bottom=-20, top=1220)\n",
    "ax.set_ylabel(\"Read Length (bp)\")\n",
    "\n",
    "plt.savefig(figure_path / \"supp_fig9_fixation_readlen.svg\")\n",
    "plt.show()"
   ]
  },
  {
   "cell_type": "markdown",
   "id": "7e585222-e160-412e-8142-f29783b48617",
   "metadata": {},
   "source": [
    "# Second fixation experiment\n",
    "\n",
    "After identifying Methanol + DSP as the most promising fixation method, we did a second experiment to confirm the results with a larger sample. This time we only compared two conditions: fresh PBMCs vs Methanol+DSP fixed. The two samples were hashtagged and captured together in a single PIPseq experiment.\n",
    "\n",
    "**Note** This dataset was analyzed with a later version of PIPseeker, and the mapping from PIPseeker barcode (encoded as 16bp) to real sequence (39bp) changed since the previous version. This meanas we must slightly adjust how we match barcodes between short- and long-read data."
   ]
  },
  {
   "cell_type": "code",
   "execution_count": null,
   "id": "4f58a24c-4e0c-4daa-ace5-ab2455dc80ee",
   "metadata": {},
   "outputs": [],
   "source": [
    "data_dir = root_dir / \"data\" / \"pipseq_fixfresh\"\n",
    "\n",
    "shortread_dir = data_dir / \"illumina\"\n",
    "masseq_dir = data_dir / \"masseq\"\n",
    "cdna_path = masseq_dir / \"cdna\""
   ]
  },
  {
   "cell_type": "markdown",
   "id": "0fc986e7-f321-4fdf-9800-524435c81c7d",
   "metadata": {},
   "source": [
    "## Shortread analysis\n",
    "\n",
    "Here we are using the \"sensitivity 5\" filtering from PIPseeker."
   ]
  },
  {
   "cell_type": "code",
   "execution_count": null,
   "id": "a643adf2-7c8d-4ec7-b60e-a4d143727942",
   "metadata": {},
   "outputs": [],
   "source": [
    "markers = [\n",
    "    \"CD8A\", \"CD3D\", \"CD4\", \"CD14\", \"CCR7\", \"SELL\",\n",
    "    \"FCGR3A\", \"CLEC10A\", \"CD1C\", \"NKG7\", \"NCAM1\", \"GNLY\",\n",
    "    \"MS4A1\", \"IGKC\", \"IGLC2\", \"IRF7\", \"IGHM\", \"JCHAIN\",\n",
    "]\n"
   ]
  },
  {
   "cell_type": "code",
   "execution_count": null,
   "id": "ab1a80e1-3939-4b16-a989-617c2229ce3b",
   "metadata": {},
   "outputs": [],
   "source": [
    "with gzip.open(shortread_dir / \"HTO\" / \"raw_matrix\" / \"features.tsv.gz\", \"rt\") as fh:\n",
    "    sr_features = list(csv.reader(fh, delimiter=\"\\t\"))[:-2]\n",
    "\n",
    "gene_dict_i = {g[1]: i for i,g in enumerate(sr_features)}\n",
    "mt_ix = [gene_dict_i[g[1]] for g in sr_features if g[1].startswith(\"MT-\")]\n",
    "\n",
    "len(sr_features), len(mt_ix)"
   ]
  },
  {
   "cell_type": "code",
   "execution_count": null,
   "id": "d40cee89-4117-4554-b2d0-d49c6437189f",
   "metadata": {},
   "outputs": [],
   "source": [
    "with gzip.open(shortread_dir / \"HTO\" / \"demux\" / \"HTO7\" / \"filtered_matrix\" / \"sensitivity_5\" / \"barcodes.tsv.gz\", \"rt\") as fh:\n",
    "    hto7_barcodes_full = [barcode_to_int(line.strip()) for line in fh]\n",
    "\n",
    "with gzip.open(shortread_dir / \"HTO\" / \"demux\" / \"HTO8\" / \"filtered_matrix\" / \"sensitivity_5\" / \"barcodes.tsv.gz\", \"rt\") as fh:\n",
    "    hto8_barcodes_full = [barcode_to_int(line.strip()) for line in fh]\n",
    "\n",
    "len(hto7_barcodes_full), len(hto8_barcodes_full)"
   ]
  },
  {
   "cell_type": "code",
   "execution_count": null,
   "id": "d9ee2cfc-2d34-4d12-951b-4c0acd6ec42c",
   "metadata": {},
   "outputs": [],
   "source": [
    "m_hto7 = read_mtx(shortread_dir / \"HTO\" / \"demux\" / \"HTO7\" / \"filtered_matrix\" / \"sensitivity_5\" / \"matrix.mtx.gz\")\n",
    "m_hto8 = read_mtx(shortread_dir / \"HTO\" / \"demux\" / \"HTO8\" / \"filtered_matrix\" / \"sensitivity_5\" / \"matrix.mtx.gz\")\n",
    "\n",
    "mt_hto7 = util.calc_mt_pct(m_hto7, mt_ix)\n",
    "mt_hto8 = util.calc_mt_pct(m_hto8, mt_ix)"
   ]
  },
  {
   "cell_type": "code",
   "execution_count": null,
   "id": "3e4ab07f-cdaa-49ea-9cac-f483fcba6c4d",
   "metadata": {},
   "outputs": [],
   "source": [
    "fig, ax = plt.subplots(1, 3, figsize=(16, 5))\n",
    "\n",
    "ax[0].plot(sorted(m_hto7.sum(1).todense(), reverse=True), label=\"fresh\")\n",
    "ax[0].plot(sorted(m_hto8.sum(1).todense(), reverse=True), label=\"fixed\")\n",
    "ax[0].set_xscale(\"log\")\n",
    "ax[0].set_yscale(\"log\")\n",
    "ax[0].set_title(\"Fixed vs Fresh kneeplot\")\n",
    "ax[0].legend()\n",
    "\n",
    "ax[1].hexbin(mt_hto7, m_hto7.sum(1).todense(), bins=\"log\", extent=[0, 0.2, 0, 40000])\n",
    "ax[1].set_title(\"Fresh, nUMIs vs mito %\")\n",
    "ax[2].hexbin(mt_hto8, m_hto8.sum(1).todense(), bins=\"log\", extent=[0, 0.2, 0, 40000])\n",
    "ax[2].set_title(\"Fixed, nUMIs vs mito %\")\n",
    "plt.show()"
   ]
  },
  {
   "cell_type": "markdown",
   "id": "2e0baec8-44a7-404b-9788-9eeb01d824e3",
   "metadata": {},
   "source": [
    "We can see a considerable number of low-mito, high-UMI barcodes in the fixed data. These barcodes are red blood cells (confirmed by checking markers such as hemoglobin genes). We can filter them out by imposing a minimum mitochondrial content of 2%."
   ]
  },
  {
   "cell_type": "code",
   "execution_count": null,
   "id": "83a56830-2848-44ff-a75a-2b1b02fab6c4",
   "metadata": {},
   "outputs": [],
   "source": [
    "hto7_barcodes = [bc for bc, m in zip(hto7_barcodes_full, mt_hto7) if 0.02 < m < 0.1]\n",
    "hto8_barcodes = [bc for bc, m in zip(hto8_barcodes_full, mt_hto8) if 0.02 < m < 0.1]\n",
    "\n",
    "m_hto7_filtered = m_hto7[(0.02 < mt_hto7) & (mt_hto7 < 0.1)]\n",
    "m_hto8_filtered = m_hto8[(0.02 < mt_hto8) & (mt_hto8 < 0.1)]\n",
    "\n",
    "m_filtered = sparse.concat([m_hto7_filtered, m_hto8_filtered])\n",
    "sr_numis = m_filtered.sum(1).todense()\n",
    "\n",
    "hto_fresh = np.repeat([True, False], [len(hto7_barcodes), len(hto8_barcodes)])"
   ]
  },
  {
   "cell_type": "markdown",
   "id": "e826dd8b-700e-49cf-b9a0-f080273383d7",
   "metadata": {},
   "source": [
    "### Clustering"
   ]
  },
  {
   "cell_type": "code",
   "execution_count": null,
   "id": "e915f387-2c75-483e-ad21-60d03645624e",
   "metadata": {},
   "outputs": [],
   "source": [
    "clustering_file = shortread_dir / \"shortread_clustering.pickle\"\n",
    "if clustering_file.exists():\n",
    "    with clustering_file.open(\"rb\") as fh:\n",
    "        sr_clustering = pickle.load(fh)\n",
    "else:\n",
    "    res_list = [float(f\"{b}e{p}\") for p in range(-7, -2) for b in range(1, 10)]\n",
    "    sr_clustering, _ = recursive_cluster(m_filtered, res_list, feature_cutoff_pct=0.05)\n",
    "\n",
    "    with clustering_file.open(\"wb\") as out:\n",
    "        pickle.dump(sr_clustering, out)\n",
    "\n",
    "_leaf_keys = cluster_leaf_nodes(sr_clustering, n=80)\n",
    "_label_array = cluster_labels(sr_clustering, _leaf_keys)\n",
    "_k2i = {key: i for i, key in enumerate(sorted(_leaf_keys))}\n",
    "c_array = np.array([_k2i.get(key, -1) for key in _label_array])"
   ]
  },
  {
   "cell_type": "markdown",
   "id": "c3799177-1857-4a77-8d73-81b3f46d4bca",
   "metadata": {},
   "source": [
    "We'll label the clusters by checking some canonical markers, as before."
   ]
  },
  {
   "cell_type": "code",
   "execution_count": null,
   "id": "2d6ad578-c795-4f49-96cf-fd866b473038",
   "metadata": {},
   "outputs": [],
   "source": [
    "# mean UMIs/cell for each isoform x cluster\n",
    "pseudobulk_array = np.vstack(\n",
    "    [np.sign(m_filtered[c_array == i, :]).mean(0).todense() for i in np.unique(c_array) if i != -1]\n",
    ")\n",
    "\n",
    "print(\"gene\", *(f\"{v:6}\" for v in range(pseudobulk_array.shape[0])), sep=\"\\t\")\n",
    "for g in markers:\n",
    "    print(\n",
    "        g,\n",
    "        \"\\t\".join(\n",
    "            f\"{pseudobulk_array[i, gene_dict_i[g]]:6.1%}\" \n",
    "            for i in range(pseudobulk_array.shape[0])\n",
    "        ), \n",
    "        sep=\"\\t\"\n",
    "    )"
   ]
  },
  {
   "cell_type": "markdown",
   "id": "86d7e03d-6022-4928-a954-8a6a90740ea7",
   "metadata": {},
   "source": [
    "Of note in this pseudobulk output is that some monocyte markers (e.g. _LYZ_, _FCGR3A_) are seen in all clusters. This reflects a high amount of ambient mRNA coming from those cells as they lysed during sample preparation. Still, we can identify cluster 4 as the CD14+ monocyte cluster due to the much higher expression level for the marker."
   ]
  },
  {
   "cell_type": "markdown",
   "id": "58b2b113-4b94-47a2-8088-76ebad0f66a6",
   "metadata": {},
   "source": [
    "## Long-read analysis\n",
    "\n",
    "The first steps for long-read analysis are the same as before: we run `skera` to deconcatenate the Kinnex array, and then `marti` to annotate the reads with adapters. After that, we must extract barcodes and UMIs to match the reads up with our short-read annotation. This PIPseq dataset was relatively large and barcode extraction takes a long time, so to speed it up we are going to split the BAMs into 16 pieces each and run in parallel over all of them."
   ]
  },
  {
   "cell_type": "markdown",
   "id": "39ce5114-ce2b-4f61-97e1-e4f3ff301407",
   "metadata": {},
   "source": [
    "### Running skera and marti"
   ]
  },
  {
   "cell_type": "code",
   "execution_count": null,
   "id": "458f0100-55e9-41e8-902f-27c84933852f",
   "metadata": {},
   "outputs": [],
   "source": [
    "with open(sh_dir / f\"{today}_skera.sh\", \"w\") as out:\n",
    "    for mcb in callao_bams:\n",
    "        base = mcb.name.split(\".\")[0]\n",
    "        ix = mcb.name.rsplit(\".\", 2)[1]\n",
    "\n",
    "        # echo the command so we see progress\n",
    "        print(\n",
    "            f\"echo skera split -j 16 {mcb}\",\n",
    "            f\"metadata/mas16_primers_{ix}.fasta\",\n",
    "            skera_path / f\"{base}.skera.{ix}.bam\",\n",
    "            file=out\n",
    "        )\n",
    "        print(\n",
    "            f\"skera split -j 16 {mcb}\",\n",
    "            f\"metadata/mas16_primers_{ix}.fasta\",\n",
    "            skera_path / f\"{base}.skera.{ix}.bam\",\n",
    "            file=out\n",
    "        )"
   ]
  },
  {
   "cell_type": "code",
   "execution_count": null,
   "id": "472b2298-04da-4933-920d-80739f8f2ca5",
   "metadata": {},
   "outputs": [],
   "source": [
    "# tagged bams\n",
    "tagged_bams = sorted(cdna_path.glob(\"*.bam\"))\n",
    "\n",
    "len(tagged_bams)"
   ]
  },
  {
   "cell_type": "markdown",
   "id": "7131423c-d25c-42bd-94e1-52901f29522c",
   "metadata": {},
   "source": [
    "### looking at CD14 monocyte stats"
   ]
  },
  {
   "cell_type": "code",
   "execution_count": null,
   "id": "fdf687d6-64c0-49be-a417-16d6a0a787ac",
   "metadata": {},
   "outputs": [],
   "source": [
    "hto7_c4_numis = sr_numis[hto_fresh & (c_array == 4)]\n",
    "hto8_c4_numis = sr_numis[~hto_fresh & (c_array == 4)]\n",
    "\n",
    "hto7_c4_set = {bc for bc,c in zip(hto7_barcodes, c_array[hto_fresh]) if c == 4}\n",
    "hto8_c4_set = {bc for bc,c in zip(hto8_barcodes, c_array[~hto_fresh]) if c == 4}\n"
   ]
  },
  {
   "cell_type": "code",
   "execution_count": null,
   "id": "1b4a80d5-d407-447f-9728-7ee080fceb2a",
   "metadata": {},
   "outputs": [],
   "source": [
    "def rn_to_readumi_bcset(tagged_bam, bc_set):\n",
    "    bc_reads = defaultdict(set)\n",
    "    with pysam.AlignmentFile(tagged_bam, \"rb\", check_sq=False, threads=2) as fh:\n",
    "        for a in fh:\n",
    "            if (bc := sequence_to_int(a.get_tag(\"CB\"))) in bc_set:\n",
    "                bc_reads[bc].add((a.query, a.get_tag(\"UB\")))\n",
    "\n",
    "    return bc_reads"
   ]
  },
  {
   "cell_type": "code",
   "execution_count": null,
   "id": "5cc08faa-452d-4da9-ae0a-125ad2e5ab6f",
   "metadata": {},
   "outputs": [],
   "source": [
    "sample_reads = defaultdict(lambda: defaultdict(set))\n",
    "\n",
    "with ProcessPoolExecutor(8) as exc:\n",
    "    for rld in exc.map(rn_to_readumi_bcset, tagged_bams, itertools.repeat(hto7_c4_set)):\n",
    "        for bc in rld:\n",
    "            sample_reads[\"fresh_cd14\"][bc].update(rld[bc])\n",
    "\n",
    "    for rld in exc.map(rn_to_readumi_bcset, tagged_bams, itertools.repeat(hto8_c4_set)):\n",
    "        for bc in rld:\n",
    "            sample_reads[\"fixed_cd14\"][bc].update(rld[bc])"
   ]
  },
  {
   "cell_type": "code",
   "execution_count": null,
   "id": "9d91c489-f578-4313-812e-af3b4b0ab482",
   "metadata": {},
   "outputs": [],
   "source": [
    "sample_read_lens = defaultdict(dict)\n",
    "for k in sample_reads:\n",
    "    for bc in sample_reads[k]:\n",
    "        sample_read_lens[k][bc] = [len(q) for q,_ in sample_reads[k][bc] if q is not None]"
   ]
  },
  {
   "cell_type": "code",
   "execution_count": null,
   "id": "bc8e2920-e133-420a-ad10-0a076ce10c90",
   "metadata": {},
   "outputs": [],
   "source": [
    "fig, ax = plt.subplots(1, 3, figsize=(20, 6))\n",
    "\n",
    "plot_dists(\n",
    "    ax[0],\n",
    "    [hto7_c4_numis, hto8_c4_numis],\n",
    "    log=True,\n",
    "    labels=[\"Fresh\", \"Fixed\"],\n",
    "    title=\"nUMIs per cell (Illumina)\"\n",
    ")\n",
    "ax[0].set_yticks([3, 4], [\"$10^3$\", \"$10^4$\"])\n",
    "ax[0].set_yticks(\n",
    "    np.log10([v*10**i for i in range(3, 5) for v in range(2, 10)][:-4]),\n",
    "    minor=True\n",
    ")\n",
    "\n",
    "\n",
    "plot_dists(\n",
    "    ax[1],\n",
    "    [[len(v) for v in sample_reads[k].values()] for k in sample_reads],\n",
    "    log=True,\n",
    "    labels=[\"Fresh\", \"Fixed\"],\n",
    "    title=\"nUMIs per cell (PB)\"\n",
    ")\n",
    "ax[1].set_yticks([2, 3, 4], [\"$10^2$\", \"$10^3$\", \"$10^4$\"])\n",
    "ax[1].set_yticks(\n",
    "    np.log10([v*10**i for i in range(1, 5) for v in range(2, 10)][1:-6]),\n",
    "    minor=True\n",
    ")\n",
    "\n",
    "\n",
    "plot_dists(\n",
    "    ax[2],\n",
    "    [\n",
    "        [v for vs in sample_read_lens[k].values() for v in vs]\n",
    "         for k in (\"fresh_cd14\", \"fixed_cd14\")\n",
    "    ],\n",
    "    labels=[\"Fresh\", \"Fixed\"],\n",
    "    title=\"Read length (PB)\"\n",
    ")\n",
    "\n",
    "ax[2].set_ylim(0, 800)\n",
    "\n",
    "fig.suptitle(\"CD14+ cluster stats\")\n",
    "plt.savefig(figure_path / \"fig1h_fixfresh_comparison.svg\")\n",
    "plt.show()"
   ]
  },
  {
   "cell_type": "code",
   "execution_count": null,
   "id": "49840436-fbca-4ef9-a61f-4fc6e825b087",
   "metadata": {},
   "outputs": [],
   "source": []
  }
 ],
 "metadata": {
  "kernelspec": {
   "display_name": "fa",
   "language": "python",
   "name": "fa"
  },
  "language_info": {
   "codemirror_mode": {
    "name": "ipython",
    "version": 3
   },
   "file_extension": ".py",
   "mimetype": "text/x-python",
   "name": "python",
   "nbconvert_exporter": "python",
   "pygments_lexer": "ipython3",
   "version": "3.10.14"
  }
 },
 "nbformat": 4,
 "nbformat_minor": 5
}
