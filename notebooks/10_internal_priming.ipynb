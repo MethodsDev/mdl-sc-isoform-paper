{
 "cells": [
  {
   "cell_type": "markdown",
   "id": "0337c24e-87cf-43a5-9f8b-a058cf78fa4f",
   "metadata": {
    "tags": [],
    "user_expressions": []
   },
   "source": [
    "### Impact of Internal Priming on IsoQuant\n",
    "\n",
    "We classify the aligned reads as properly primed or not, based on their genomic context and some heuristics. This is accomplished with a command-line tool, `annotate_priming`, which takes a config file that we will create here. It takes a few minutes per BAM file (in parallel) and produces new, annotated BAM files. After running it we count up the reads in the annotated files and produce some plots.\n",
    "\n",
    "We developed the heuristics based on previous tools and literature, as well as inspection of single-cell and bulk data. When inspecting particular cases it is clear that there can be both false positives and false negatives in these calls, but we believe the overall picture of priming is accurate. Developing better datasets and methods for detecting improper priming is an important future direction."
   ]
  },
  {
   "cell_type": "markdown",
   "id": "d436157b-0da5-427a-bd7b-2fc48b13c571",
   "metadata": {},
   "source": [
    "### imports"
   ]
  },
  {
   "cell_type": "code",
   "execution_count": null,
   "id": "ee99f12b-4f70-4ef8-aa38-cb7b04f8797b",
   "metadata": {},
   "outputs": [],
   "source": [
    "import pickle\n",
    "from collections import defaultdict, Counter\n",
    "from concurrent.futures import ProcessPoolExecutor\n",
    "from pathlib import Path\n",
    "\n",
    "import numpy as np\n",
    "\n",
    "import matplotlib.pyplot as plt\n",
    "import matplotlib.ticker as mtick\n",
    "\n",
    "import pysam\n",
    "import yaml\n",
    "\n",
    "from mdl.sc_isoform_paper import today\n",
    "from mdl.sc_isoform_paper.constants import MASSEQ_FILENAMES, MASSEQ_KEYS, SAMPLE_COLORS\n",
    "from mdl.sc_isoform_paper.isoquant import IsoQuantClass\n",
    "from mdl.sc_isoform_paper.priming import Priming, count_classes_and_isoquant, tx_count_breakdown\n",
    "from mdl.sc_isoform_paper.plots import plot_isoform_area"
   ]
  },
  {
   "cell_type": "markdown",
   "id": "439a6a38-9c45-4647-879f-f9c2c39d5ee5",
   "metadata": {},
   "source": [
    "### Setup"
   ]
  },
  {
   "cell_type": "code",
   "execution_count": null,
   "id": "bd0cd10c-e632-40a2-8173-e36d1a50565f",
   "metadata": {},
   "outputs": [],
   "source": [
    "pysam.set_verbosity(0)\n",
    "\n",
    "root_dir = Path.home()\n",
    "sh_dir = root_dir / \"sh_scripts\"\n",
    "reference_path = root_dir / \"reference\"\n",
    "\n",
    "grch38_fasta = reference_path / \"GRCh38\" / \"GRCh38.fasta\"\n",
    "\n",
    "gencode_gtf = reference_path / \"GRCh38.gencode.v39.annotation.basic.gtf\"\n",
    "gencode_polya_gtf = reference_path / \"GRCh38.gencode.v39.polyAs.gtf.gz\"\n",
    "\n",
    "polya_motif_file = reference_path / \"mouse_and_human.polyA_motif.txt\"\n",
    "\n",
    "data_path = root_dir / \"data\" / \"masseq\"\n",
    "minimap_path = data_path / \"20240709_minimap\"\n",
    "isoquant_path = data_path / \"20240722_isoquant\"\n",
    "annotated_path = data_path / \"20250124_annotated\"\n",
    "\n",
    "priming_counts_file = data_path / \"isoquant_priming_counts.pickle\"\n",
    "\n",
    "figure_path = root_dir / \"202501_figures\""
   ]
  },
  {
   "cell_type": "code",
   "execution_count": null,
   "id": "3e573a90-fe47-4f4d-95f8-2c1bd43e1538",
   "metadata": {},
   "outputs": [],
   "source": [
    "sample_order = [MASSEQ_KEYS[i] for i in (1, 3, 4)]\n",
    "sample_order"
   ]
  },
  {
   "cell_type": "code",
   "execution_count": null,
   "id": "9e3aee62-2a83-4e29-b152-dd6a2b1b9e6d",
   "metadata": {},
   "outputs": [],
   "source": [
    "# mapped bams\n",
    "mapped_bams = sorted(minimap_path.glob(\"*tagged.mapped.sorted.primary.bam\"))\n",
    "\n",
    "# isoquant prefix for each bam\n",
    "isoquant_paths = [isoquant_path / f\"{MASSEQ_FILENAMES[int(mb.name.split('.')[2])]}\" / \"OUT\" for mb in mapped_bams]\n",
    "\n",
    "len(mapped_bams), len(isoquant_paths)"
   ]
  },
  {
   "cell_type": "code",
   "execution_count": null,
   "id": "cf087f8b-7765-4b5c-a752-414e01850d18",
   "metadata": {},
   "outputs": [],
   "source": [
    "config = dict(\n",
    "    reference_fasta=str(grch38_fasta),\n",
    "    reference_gtf=str(gencode_gtf),\n",
    "    polya_motif_file=str(polya_motif_file),\n",
    "    polya_annotations=str(gencode_polya_gtf),\n",
    "    priming_parameters=dict(\n",
    "        feature_pre=5,\n",
    "        feature_post=5,\n",
    "        motif_pre=30,\n",
    "        motif_post=20,\n",
    "        pas_pre=5,\n",
    "        pas_post=20,\n",
    "        polya_window=20,\n",
    "        polya_max_len=6,\n",
    "        polya_max_n=12,\n",
    "    ),\n",
    "    output_tag=[\"simple\", \"full\"],\n",
    "    bam_paths=list(map(str, mapped_bams)),\n",
    "    isoquant_paths=list(map(str, isoquant_paths))\n",
    ")\n"
   ]
  },
  {
   "cell_type": "code",
   "execution_count": null,
   "id": "d38f1fdf-5102-43f4-b4c5-6d3ea20e8be8",
   "metadata": {},
   "outputs": [],
   "source": [
    "with open(data_path / f\"{today}_priming_config.yaml\", \"w\") as out:\n",
    "    yaml.dump(config, out, sort_keys=False)"
   ]
  },
  {
   "cell_type": "markdown",
   "id": "240db925-3e11-4e50-8f79-8b97b8a459d8",
   "metadata": {},
   "source": [
    "### Running the priming classifier\n",
    "\n",
    "Classification is available as a command-line tool in this package, under the name `annotate_priming`:\n",
    "\n",
    "```shell\n",
    "annotate_priming --config-file path/to/priming_config.yaml -p 8 --filter-isoquant-by-bam\n",
    "```\n",
    "\n",
    "This can run in parallel over multiple BAM files at once. Each read will be annotated with a priming class depending on the context of the read alignment.\n",
    "\n",
    "If IsoQuant output paths are provided, the resulting BAM files will have additional information from the read assignment and model construction steps. Note that this option will increase the memory usage of the script as the IsoQuant data must be loaded into memory."
   ]
  },
  {
   "cell_type": "markdown",
   "id": "78af53ff-3ee4-401e-9c29-a99dd685ed22",
   "metadata": {},
   "source": [
    "### Reading the annotated files\n",
    "\n",
    "Reading through the annotated BAMs only takes a few minutes, but you need those BAMs in the first place. Instead, you can load the pickle of results."
   ]
  },
  {
   "cell_type": "code",
   "execution_count": null,
   "id": "7c1e2f86-7d25-4195-9024-cee5255ca7b7",
   "metadata": {},
   "outputs": [],
   "source": [
    "annotated_bams = sorted(annotated_path.glob(\"*annotated.bam\"))\n",
    "len(annotated_bams)"
   ]
  },
  {
   "cell_type": "code",
   "execution_count": null,
   "id": "79c5170e-12ad-4e3e-81eb-35da75bff294",
   "metadata": {},
   "outputs": [],
   "source": [
    "%%time\n",
    "\n",
    "if priming_counts_file.exists():\n",
    "    with priming_counts_file.open(\"rb\") as fh:\n",
    "        tx_priming_counts = pickle.load(fh)\n",
    "else:\n",
    "    tx_priming_counts = defaultdict(Counter)\n",
    "    \n",
    "    with ProcessPoolExecutor(8) as exc:\n",
    "        for k, txc in exc.map(\n",
    "            count_classes_and_isoquant,\n",
    "            (MASSEQ_KEYS[int(fn.name.split(\".\")[2])] for fn in annotated_bams),\n",
    "            annotated_bams\n",
    "        ):\n",
    "            tx_priming_counts[k] += txc\n",
    "\n",
    "if not priming_counts_file.exists():\n",
    "    with priming_counts_file.open(\"wb\") as out:\n",
    "        pickle.dump(tx_priming_counts, out)"
   ]
  },
  {
   "cell_type": "code",
   "execution_count": null,
   "id": "95a1e5b0-9abc-4f42-901a-2f1ccd868b9f",
   "metadata": {},
   "outputs": [],
   "source": [
    "# supplementary table 7\n",
    "def print_priming_calls(tx_priming_counts, include_mito=True):\n",
    "    keys = sorted(tx_priming_counts)\n",
    "\n",
    "    pcc = defaultdict(Counter)\n",
    "    for k in tx_priming_counts:\n",
    "        for (_,_,p), v in tx_priming_counts[k].most_common():\n",
    "            pcc[k][p] += v\n",
    "\n",
    "    if include_mito:\n",
    "        tots = {k: pcc[k].total() for k in keys}\n",
    "    else:\n",
    "        tots = {k: pcc[k].total() - pcc[k][Priming.MITO] for k in keys}\n",
    "\n",
    "    p_set = sorted(Priming, key=lambda p: sum(pcc[k][p] / tots[k] for k in keys), reverse=True)\n",
    "    if not include_mito:\n",
    "        p_set.remove(Priming.MITO)\n",
    "\n",
    "    print(f\"{'':16s}\", *(f\"{' '.join(k):>12}\" for k in keys), sep=\"\\t\")\n",
    "    for p in Priming:\n",
    "        if p is Priming.MITO and not include_mito:\n",
    "            continue\n",
    "        print(f\"{p.name:16s}\", end=\"\\t\")\n",
    "        vs = [pcc[k][p] for k in keys]\n",
    "        print(*(f\"{v / tots[k]:12.2%}\" for k,v in zip(keys, vs)), sep=\"\\t\")\n",
    "\n",
    "    print(f\"\\n{'Total':16s}\", *(f\"{tots[k]:12,}\" for k in keys), sep=\"\\t\")"
   ]
  },
  {
   "cell_type": "code",
   "execution_count": null,
   "id": "f354c14e-9ede-43df-95bc-c147dbabd8f7",
   "metadata": {},
   "outputs": [],
   "source": [
    "print_priming_calls(tx_priming_counts)"
   ]
  },
  {
   "cell_type": "markdown",
   "id": "e5cd8d2e-af3b-4d17-8e42-d24016287c3d",
   "metadata": {},
   "source": [
    "# plotting"
   ]
  },
  {
   "cell_type": "code",
   "execution_count": null,
   "id": "411a7504-66ec-49c9-bbe1-c4cbdecbf356",
   "metadata": {},
   "outputs": [],
   "source": [
    "tx_class, tx_count, tx_ratio = tx_count_breakdown(tx_priming_counts)"
   ]
  },
  {
   "cell_type": "code",
   "execution_count": null,
   "id": "b9542698-8de1-4227-9df8-c86ab247e7fd",
   "metadata": {},
   "outputs": [],
   "source": [
    "plot_isoform_area(\n",
    "    sample_order, tx_class, tx_count, tx_ratio,\n",
    "    output_path=figure_path / \"fig2c_priming_area.svg\"\n",
    ")"
   ]
  },
  {
   "cell_type": "code",
   "execution_count": null,
   "id": "03273418-2f0f-43f5-821f-4c0a8db1cde5",
   "metadata": {},
   "outputs": [],
   "source": [
    "for txt in IsoQuantClass:\n",
    "    for k in sample_order:\n",
    "        tx_list = sorted(\n",
    "            (tx for tx in tx_count[k] if tx_count[k][tx] >= 5 and tx_class[k][tx] == txt),\n",
    "            key=tx_ratio[k].get, reverse=True\n",
    "        )\n",
    "        \n",
    "        good_x = np.array([tx_ratio[k][tx] for tx in tx_list])\n",
    "\n",
    "        print(k[0], str(txt), f\"{(good_x == 0).mean():.1%}\", sep=\"\\t\")\n",
    "    print()"
   ]
  },
  {
   "cell_type": "code",
   "execution_count": null,
   "id": "fac37a31-fbb2-4c69-a77b-1f7ed2993d82",
   "metadata": {},
   "outputs": [],
   "source": [
    "\n",
    "for j, k in enumerate(sample_order):\n",
    "    counts_by_type = defaultdict(list)\n",
    "    for tx in tx_count[k]:\n",
    "        counts_by_type[tx_class[k][tx]].append(tx_count[k][tx])\n",
    "    print(k[0])\n",
    "    for txt in IsoQuantClass:\n",
    "        print(str(txt), *(f\"{v:6,}\" for v in np.percentile(counts_by_type[txt], (5, 20, 50, 80, 95)).astype(int)), sep=\"\\t\")\n",
    "    print()\n"
   ]
  },
  {
   "cell_type": "markdown",
   "id": "a0f0af0d-3b6c-4777-b482-492fb9003d3f",
   "metadata": {},
   "source": [
    "### Condensed priming plot\n",
    "\n",
    "We created many priming categories based on the different combinations of features that we observed. For figure 2a we condense the results into a few broad categories.\n",
    "\n",
    "The density of the mitochondrial genome made categorization more difficult, as reads were more likely to overlap multiple features in close proximity. We excluded the mitochondrial reads from this analysis by putting them in their own category and not including it in the total count when considering the rate of different priming events."
   ]
  },
  {
   "cell_type": "code",
   "execution_count": null,
   "id": "3eac902c-c2d8-4c19-948f-3c1979d3fc5a",
   "metadata": {},
   "outputs": [],
   "source": [
    "priming_rates = defaultdict(dict)\n",
    "for s in priming_class_counts:\n",
    "    tot = priming_class_counts[s].total() - priming_class_counts[s][Priming.MITO]\n",
    "    for p in Priming:\n",
    "        priming_rates[s][p] = priming_class_counts[s][p] / tot\n",
    "\n",
    "priming_cats = {\n",
    "    frozenset({Priming.GOOD, Priming.ANNO_GPA, Priming.TX_PAS}): \"Known\\ntranscription sites\",\n",
    "    frozenset({Priming.TX_MOTIF}): \"Unannotated\\ntranscription sites\",\n",
    "    frozenset({Priming.TX_GPA_PAS, Priming.TX_GPA, Priming.TX_GPA_MOTIF, Priming.CDS_GPA, Priming.NC_GPA, Priming.INTERGENIC_GPA, Priming.AS_TX_GPA, Priming.AS_TX_GPA_NC}): \"Suspected\\ninternal priming\",\n",
    "    frozenset({Priming.AS_TX, Priming.AS_TX_NC}): \"Antisense\\nto known transcript\",\n",
    "}\n",
    "priming_cats[frozenset(set(Priming).difference(*priming_cats)) - {Priming.MITO}] = \"Other\""
   ]
  },
  {
   "cell_type": "code",
   "execution_count": null,
   "id": "77a7166f-b871-4186-a732-8217587fb7cd",
   "metadata": {},
   "outputs": [],
   "source": [
    "\n",
    "fig, ax = plt.subplots(1, 1, figsize=(12, 6), gridspec_kw={\"hspace\": 0.3})\n",
    "\n",
    "x = np.arange(len(priming_cats))\n",
    "w = 0.3\n",
    "\n",
    "for i, s in enumerate(sample_order):\n",
    "    ax.bar(\n",
    "        x + i * w + 0.05,\n",
    "        [sum(priming_rates[s][p] for p in ps) for ps in priming_cats],\n",
    "        width=w, \n",
    "        color=SAMPLE_COLORS[s[0]], align=\"edge\", label=s[0]\n",
    "    )\n",
    "\n",
    "ax.set_xticks(x + 0.5, priming_cats.values())\n",
    "ax.legend()\n",
    "ax.set_xlim(-0.5, len(priming_cats) + 0.5)\n",
    "\n",
    "ax.yaxis.set_major_formatter(mtick.PercentFormatter(xmax=1, decimals=0))\n",
    "\n",
    "plt.savefig(figure_path / \"fig2a_priming_rates.svg\")\n",
    "plt.show()"
   ]
  },
  {
   "cell_type": "code",
   "execution_count": null,
   "id": "6c9fee08-c8f5-4799-8bcb-e537ec791f3a",
   "metadata": {},
   "outputs": [],
   "source": []
  }
 ],
 "metadata": {
  "kernelspec": {
   "display_name": "fa",
   "language": "python",
   "name": "fa"
  },
  "language_info": {
   "codemirror_mode": {
    "name": "ipython",
    "version": 3
   },
   "file_extension": ".py",
   "mimetype": "text/x-python",
   "name": "python",
   "nbconvert_exporter": "python",
   "pygments_lexer": "ipython3",
   "version": "3.10.14"
  }
 },
 "nbformat": 4,
 "nbformat_minor": 5
}
