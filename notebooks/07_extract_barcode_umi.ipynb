{
 "cells": [
  {
   "cell_type": "markdown",
   "id": "526dffe4-d969-45e8-bf26-0b101e6a233e",
   "metadata": {},
   "source": [
    "# Barcode extraction\n",
    "\n",
    "Once the reads have been deconcatenated (if they're MAS-seq) and classified with `marti`, we need to extract the barcode and UMI. We do this using `bouncer`, a Python+Rust package that uses the `barcode-symspell` crate to match using edit-distance. Matching is fast but there are a lot of reads so it still takes a while.\n",
    "\n",
    "As we extract the barcode and UMI we will also extract and re-orient the cDNA to be 5' to 3', based on the adapters."
   ]
  },
  {
   "cell_type": "markdown",
   "id": "d436157b-0da5-427a-bd7b-2fc48b13c571",
   "metadata": {},
   "source": [
    "### imports"
   ]
  },
  {
   "cell_type": "code",
   "execution_count": null,
   "id": "ac109109-4927-4bae-9603-1080811f6e6b",
   "metadata": {},
   "outputs": [],
   "source": [
    "import pickle\n",
    "from collections import defaultdict\n",
    "from pathlib import Path\n",
    "\n",
    "import numpy as np\n",
    "\n",
    "import matplotlib.pyplot as plt\n",
    "from concurrent.futures import ProcessPoolExecutor\n",
    "\n",
    "import yaml\n",
    "import pysam\n",
    "\n",
    "from mdl.sc_isoform_paper import today\n",
    "from mdl.sc_isoform_paper.constants import MASSEQ_FILENAMES, MASSEQ_KEYS, SAMPLE_COLORS"
   ]
  },
  {
   "cell_type": "markdown",
   "id": "bfd37b6a-fbaf-4710-9781-fb9b6aeb6dfe",
   "metadata": {},
   "source": [
    "## setup"
   ]
  },
  {
   "cell_type": "code",
   "execution_count": null,
   "id": "dbc936c2-c9dd-447a-9331-04de06d8b57e",
   "metadata": {},
   "outputs": [],
   "source": [
    "pysam.set_verbosity(0)\n",
    "\n",
    "root_dir = Path.home()\n",
    "sh_dir = root_dir / \"sh_scripts\"\n",
    "\n",
    "data_path = root_dir / \"data\" / \"masseq\"\n",
    "\n",
    "marti_path = data_path / \"20240707_marti\"\n",
    "cdna_path = data_path / f\"{today}_cdna\"\n",
    "cdna_path.mkdir(exist_ok=True)\n",
    "\n",
    "figure_path = root_dir / \"202501_figures\""
   ]
  },
  {
   "cell_type": "markdown",
   "id": "6b0d655a-8b53-4e7f-ad8a-5073140d1d0b",
   "metadata": {},
   "source": [
    "### config files for barcode extraction"
   ]
  },
  {
   "cell_type": "code",
   "execution_count": null,
   "id": "b0498bf7-94c7-40c6-b1c0-10e88297e3ca",
   "metadata": {},
   "outputs": [],
   "source": [
    "barcode_files = {\n",
    "    \"PIPseq\": root_dir / \"metadata\" / \"fluent_barcodes.txt.gz\",\n",
    "    \"10x 3'\": root_dir / \"metadata\" / \"3M-february-2018.txt.gz\",\n",
    "    \"10x 5'\": root_dir / \"metadata\" / \"737K-august-2016.txt.gz\",\n",
    "}\n",
    "\n",
    "umi_sizes = {\"PIPseq\": 12, \"10x 3'\": 12, \"10x 5'\": 10}\n",
    "buffer_sizes = {\"PIPseq\": 56, \"10x 3'\": 29, \"10x 5'\": 27}\n"
   ]
  },
  {
   "cell_type": "code",
   "execution_count": null,
   "id": "d05c4faf-7198-4d31-98b8-c4209566cc80",
   "metadata": {},
   "outputs": [],
   "source": [
    "classified_bams = sorted(marti_path.glob(\"*/*.classified.bam\"))\n",
    "tagged_bams = [cdna_path / f\"{clb.name.rsplit('.', 2)[0]}.tagged.bam\" for clb in classified_bams]\n",
    "print(\"\\n\".join(f\"{clb.stem}    {tb.stem}\" for clb, tb in zip(classified_bams, tagged_bams)))"
   ]
  },
  {
   "cell_type": "code",
   "execution_count": null,
   "id": "acbfa575-c0b4-4b89-ad90-065e11826f9a",
   "metadata": {},
   "outputs": [],
   "source": [
    "for i in (1, 2, 3, 4):\n",
    "    k = MASSEQ_FILENAMES[i]\n",
    "    key = MASSEQ_KEYS[i][0]\n",
    "\n",
    "    config = dict(\n",
    "        sample_type=key,\n",
    "        barcode_file=str(barcode_files[key]),\n",
    "        umi_size=umi_sizes[key],\n",
    "        buffer_size=buffer_sizes[key],\n",
    "        bam_paths=list(map(str, marti_path.glob(f\"*/*.{i}.classified.bam\"))),\n",
    "    )\n",
    "\n",
    "    with open(data_path / f\"barcode_config.{k}.yaml\", \"w\") as out:\n",
    "        yaml.dump(config, out)"
   ]
  },
  {
   "cell_type": "markdown",
   "id": "c2fafbfd-3e04-430a-b6ba-f8e9786d6af6",
   "metadata": {},
   "source": [
    "Then we can run each of the samples using the `extract_barcodes` command from this package:\n",
    "\n",
    "```bash\n",
    "extract_barcodes -p 8 --config-file barcode_config.pipseq_8x.yaml\n",
    "```\n",
    "\n",
    "By default this will write tagged BAM files adjacent to the classified BAMs. Use `--output-dir` to write them to a separate directory."
   ]
  },
  {
   "cell_type": "markdown",
   "id": "332995d3-b374-4259-ac93-c91651c757d9",
   "metadata": {},
   "source": [
    "## Read tagged BAM files and count barcodes/UMIs\n",
    "\n",
    "As a quick check, we'll count up barcodes and UMIs for each sample."
   ]
  },
  {
   "cell_type": "code",
   "execution_count": null,
   "id": "9fbdc881-3949-479d-8d0e-58b010532681",
   "metadata": {},
   "outputs": [],
   "source": [
    "def count_barcode_umis(key, bam_file):\n",
    "    barcode_umi_counter = defaultdict(set)\n",
    "\n",
    "    with pysam.AlignmentFile(bam_file, \"rb\", check_sq=False, threads=8) as fh:\n",
    "        for a in fh:\n",
    "            cb = a.get_tag(\"CB\")\n",
    "            ub = a.get_tag(\"UB\")\n",
    "            barcode_umi_counter[cb].add(ub)\n",
    "\n",
    "    return key, barcode_umi_counter\n"
   ]
  },
  {
   "cell_type": "code",
   "execution_count": null,
   "id": "e7575763-0e52-4be3-9bc3-01afd71caeb2",
   "metadata": {},
   "outputs": [],
   "source": [
    "barcode_umi_counters = {i: defaultdict(set) for i in MASSEQ_KEYS}\n",
    "\n",
    "tagged_keys = (int(tb.name.split(\".\")[2]) for tb in tagged_bams)\n",
    "\n",
    "with ProcessPoolExecutor(16) as exc:\n",
    "    for i, bcu in exc.map(count_barcode_umis, tagged_keys, tagged_bams):\n",
    "        for barcode, u_set in bcu.items():\n",
    "            barcode_umi_counters[i][barcode].update(u_set)"
   ]
  },
  {
   "cell_type": "code",
   "execution_count": null,
   "id": "abbc2dbe-073a-419e-86d7-76b1a9af37c6",
   "metadata": {},
   "outputs": [],
   "source": [
    "# print some stats: number of barcodes, mean UMIs/barcode, # barcodes > 1000 UMIs, total UMIs\n",
    "for i, bcu in barcode_umi_counters.items():\n",
    "    umis_per_bc = np.array([len(v) for v in bcu.values()])\n",
    "    print(\n",
    "        f\"{' '.join(MASSEQ_KEYS[i]):12s}\",\n",
    "        len(bcu),\n",
    "        (umis_per_bc > 1000).sum(),\n",
    "        umis_per_bc.sum(),\n",
    "        sep=\"\\t\"\n",
    "    )"
   ]
  },
  {
   "cell_type": "code",
   "execution_count": null,
   "id": "7a0ea58e-f622-458c-8cf2-669629b3a189",
   "metadata": {},
   "outputs": [],
   "source": [
    "with open(data_path / \"longread_barcode_umi.pickle\", \"wb\") as out:\n",
    "    pickle.dump({i: dict(d) for i,d in barcode_umi_counters.items()}, out)"
   ]
  },
  {
   "cell_type": "code",
   "execution_count": null,
   "id": "7e0f47a0-0e8c-4687-8bb5-c037da11f653",
   "metadata": {},
   "outputs": [],
   "source": [
    "with open(data_path / \"longread_barcode_umi.pickle\", \"rb\") as fh:\n",
    "    barcode_umi_counters = pickle.load(fh)"
   ]
  },
  {
   "cell_type": "code",
   "execution_count": null,
   "id": "d2216183-e0aa-4d25-a9cb-2a1ce0aab21e",
   "metadata": {},
   "outputs": [],
   "source": [
    "# kneeplots for long read data\n",
    "fig, ax = plt.subplots(1, 1, figsize=(10, 10))\n",
    "\n",
    "for i in (1, 2, 3, 4):\n",
    "    lbl = \" \".join(MASSEQ_KEYS[i])\n",
    "    c = SAMPLE_COLORS[MASSEQ_KEYS[i][0]]\n",
    "    linestyle = \"dotted\" if i == 2 else \"solid\"\n",
    "\n",
    "    umis_per_bc = sorted((len(v) for v in barcode_umi_counters[i].values()), reverse=True) \n",
    "\n",
    "    ax.plot(umis_per_bc, label=lbl, color=c, linestyle=linestyle)\n",
    "\n",
    "ax.set_xscale(\"log\")\n",
    "ax.set_yscale(\"log\")\n",
    "ax.set_title(\"UMIs per barcode\")\n",
    "ax.legend()\n",
    "\n",
    "plt.savefig(figure_path / \"supp_fig12_longread_kneeplots.svg\")\n",
    "plt.show()"
   ]
  },
  {
   "cell_type": "markdown",
   "id": "5f0b96fa-19d0-4521-9e71-cb86ece76eba",
   "metadata": {},
   "source": [
    "These kneeplots are quite similar to the results from the short-read data, which is great. The PIPseq samples have slightly lower UMIs/cell but more barcodes are above 1000 UMIs, as before. The overall number of UMIs is lower, as we would expect from the lower depth of the long-read data."
   ]
  }
 ],
 "metadata": {
  "kernelspec": {
   "display_name": "fa",
   "language": "python",
   "name": "fa"
  },
  "language_info": {
   "codemirror_mode": {
    "name": "ipython",
    "version": 3
   },
   "file_extension": ".py",
   "mimetype": "text/x-python",
   "name": "python",
   "nbconvert_exporter": "python",
   "pygments_lexer": "ipython3",
   "version": "3.10.14"
  }
 },
 "nbformat": 4,
 "nbformat_minor": 5
}
