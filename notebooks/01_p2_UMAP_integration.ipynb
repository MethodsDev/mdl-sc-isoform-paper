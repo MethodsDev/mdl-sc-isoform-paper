{
 "cells": [
  {
   "cell_type": "code",
   "execution_count": null,
   "id": "dc0a4ec0-7514-4434-a1e3-5f69546c2c86",
   "metadata": {},
   "outputs": [],
   "source": [
    "import anndata\n",
    "import scanpy as sc\n",
    "import scanpy.external as sce\n",
    "import pandas as pd\n",
    "import pickle\n",
    "import numpy as np\n",
    "import gzip\n",
    "\n",
    "import matplotlib.pyplot as plt\n",
    "\n",
    "from pathlib import Path\n",
    "\n",
    "from mdl.sc_isoform_paper.constants import MASSEQ_KEYS, SAMPLE_COLORS, SHORTREAD_KEYS\n",
    "from mdl.isoscelles.leiden import cluster_leaf_nodes, cluster_labels\n",
    "from mdl.sc_isoform_paper.pipseq_barcodes import barcode_to_sequence"
   ]
  },
  {
   "cell_type": "markdown",
   "id": "d16a9710-9e5f-429c-915b-5af1fe2d593c",
   "metadata": {},
   "source": [
    "We are going to run the standard Scanpy embedding/clustering and then integrate our different libraries to see how well they match."
   ]
  },
  {
   "cell_type": "code",
   "execution_count": null,
   "id": "b291da7b-4f16-4bf0-8f1a-f5098293b048",
   "metadata": {},
   "outputs": [],
   "source": [
    "root_dir = Path.home()\n",
    "data_path = root_dir / \"data\"\n",
    "figure_path = root_dir / \"202501_figures\""
   ]
  },
  {
   "cell_type": "code",
   "execution_count": null,
   "id": "116975aa-5277-465a-8400-b1c431d71ca2",
   "metadata": {},
   "outputs": [],
   "source": [
    "input_3p = data_path / \"10x_3p_pbmc/outs/raw_feature_bc_matrix/\"\n",
    "input_5p = data_path / \"10x_5p_pbmc/outs/raw_feature_bc_matrix/\"\n",
    "input_PIPseq = data_path / \"pipseq_pbmc/raw_matrix/\""
   ]
  },
  {
   "cell_type": "code",
   "execution_count": null,
   "id": "583beb8a-11b9-4f21-b8d7-680359953a4b",
   "metadata": {},
   "outputs": [],
   "source": [
    "data_3p = sc.read_10x_mtx(input_3p)"
   ]
  },
  {
   "cell_type": "code",
   "execution_count": null,
   "id": "dbaecb5f-fabb-4b3c-850e-646403dbe58c",
   "metadata": {},
   "outputs": [],
   "source": [
    "data_5p = sc.read_10x_mtx(input_5p)"
   ]
  },
  {
   "cell_type": "code",
   "execution_count": null,
   "id": "7cd72139-0c64-4eec-b730-2cf9fb34c91d",
   "metadata": {},
   "outputs": [],
   "source": [
    "data_pip = sc.read_10x_mtx(input_PIPseq)"
   ]
  },
  {
   "cell_type": "code",
   "execution_count": null,
   "id": "47e5f58a-9363-41db-8eeb-04420b6638a4",
   "metadata": {},
   "outputs": [],
   "source": [
    "data_3p"
   ]
  },
  {
   "cell_type": "code",
   "execution_count": null,
   "id": "1b8e4a56-c4c6-4d56-a97a-f3f2fb9a0ed8",
   "metadata": {},
   "outputs": [],
   "source": [
    "data_5p"
   ]
  },
  {
   "cell_type": "code",
   "execution_count": null,
   "id": "b0ad1e28-ea08-4d53-9ab7-c2b1a42c8a29",
   "metadata": {},
   "outputs": [],
   "source": [
    "data_pip"
   ]
  },
  {
   "cell_type": "code",
   "execution_count": null,
   "id": "5da18372-62a4-4e70-9512-87f97c8de92c",
   "metadata": {},
   "outputs": [],
   "source": [
    "data_3p.var_names_make_unique()\n",
    "data_5p.var_names_make_unique()\n",
    "data_pip.var_names_make_unique()"
   ]
  },
  {
   "cell_type": "code",
   "execution_count": null,
   "id": "cb81f5a7-a481-4ec3-b954-f662f5a742b0",
   "metadata": {},
   "outputs": [],
   "source": [
    "# mitochondrial genes, \"MT-\" for human, \"Mt-\" for mouse\n",
    "data_3p.var[\"mt\"] = data_3p.var_names.str.startswith(\"MT-\")\n",
    "# ribosomal genes\n",
    "data_3p.var[\"ribo\"] = data_3p.var_names.str.startswith((\"RPS\", \"RPL\"))\n",
    "# hemoglobin genes\n",
    "data_3p.var[\"hb\"] = data_3p.var_names.str.contains(\"^HB[^(P)]\")\n",
    "\n",
    "data_5p.var[\"mt\"] = data_5p.var_names.str.startswith(\"MT-\")\n",
    "data_5p.var[\"ribo\"] = data_5p.var_names.str.startswith((\"RPS\", \"RPL\"))\n",
    "data_5p.var[\"hb\"] = data_5p.var_names.str.contains(\"^HB[^(P)]\")\n",
    "\n",
    "data_pip.var[\"mt\"] = data_pip.var_names.str.startswith(\"MT-\")\n",
    "data_pip.var[\"ribo\"] = data_pip.var_names.str.startswith((\"RPS\", \"RPL\"))\n",
    "data_pip.var[\"hb\"] = data_pip.var_names.str.contains(\"^HB[^(P)]\")"
   ]
  },
  {
   "cell_type": "code",
   "execution_count": null,
   "id": "bede1fec-0b09-49a1-93cc-c0f529daefeb",
   "metadata": {},
   "outputs": [],
   "source": [
    "sc.pp.calculate_qc_metrics(\n",
    "    data_3p, qc_vars=[\"mt\", \"ribo\", \"hb\"], inplace=True, log1p=True\n",
    ")\n",
    "\n",
    "sc.pp.calculate_qc_metrics(\n",
    "    data_5p, qc_vars=[\"mt\", \"ribo\", \"hb\"], inplace=True, log1p=True\n",
    ")\n",
    "\n",
    "sc.pp.calculate_qc_metrics(\n",
    "    data_pip, qc_vars=[\"mt\", \"ribo\", \"hb\"], inplace=True, log1p=True\n",
    ")"
   ]
  },
  {
   "cell_type": "code",
   "execution_count": null,
   "id": "8c72b562-23f7-4ab3-9ab6-d1d55d5c6e34",
   "metadata": {},
   "outputs": [],
   "source": [
    "sc.pl.violin(\n",
    "    data_3p,\n",
    "    [\"n_genes_by_counts\", \"total_counts\", \"pct_counts_mt\"],\n",
    "    jitter=0.4,\n",
    "    multi_panel=True,\n",
    ")"
   ]
  },
  {
   "cell_type": "code",
   "execution_count": null,
   "id": "dc8627ca-0acb-4a10-bd65-764b13d0a142",
   "metadata": {},
   "outputs": [],
   "source": [
    "sc.pl.violin(\n",
    "    data_5p,\n",
    "    [\"n_genes_by_counts\", \"total_counts\", \"pct_counts_mt\"],\n",
    "    jitter=0.4,\n",
    "    multi_panel=True,\n",
    ")"
   ]
  },
  {
   "cell_type": "code",
   "execution_count": null,
   "id": "ef992cfd-e4a2-4b34-ab22-35367e07f422",
   "metadata": {},
   "outputs": [],
   "source": [
    "sc.pl.violin(\n",
    "    data_pip,\n",
    "    [\"n_genes_by_counts\", \"total_counts\", \"pct_counts_mt\"],\n",
    "    jitter=0.4,\n",
    "    multi_panel=True,\n",
    ")"
   ]
  },
  {
   "cell_type": "code",
   "execution_count": null,
   "id": "83533d4d-2260-4e8c-8da3-aa06293f7a34",
   "metadata": {},
   "outputs": [],
   "source": [
    "sc.pl.scatter(data_3p, \"total_counts\", \"n_genes_by_counts\", color=\"pct_counts_mt\")"
   ]
  },
  {
   "cell_type": "code",
   "execution_count": null,
   "id": "edfb9e64-e025-4c02-948c-c974f4e110a5",
   "metadata": {},
   "outputs": [],
   "source": [
    "sc.pl.scatter(data_5p, \"total_counts\", \"n_genes_by_counts\", color=\"pct_counts_mt\")"
   ]
  },
  {
   "cell_type": "code",
   "execution_count": null,
   "id": "a962ea4f-fa42-4ba6-93ca-8e2e7ddf58db",
   "metadata": {},
   "outputs": [],
   "source": [
    "sc.pl.scatter(data_pip, \"total_counts\", \"n_genes_by_counts\", color=\"pct_counts_mt\")"
   ]
  },
  {
   "cell_type": "code",
   "execution_count": null,
   "id": "a77dcc90-df4c-4a81-9f12-2c03597b041a",
   "metadata": {},
   "outputs": [],
   "source": [
    "sc.pp.filter_cells(data_3p, min_counts=1000)\n",
    "sc.pp.filter_cells(data_3p, min_genes=100)\n",
    "sc.pp.filter_genes(data_3p, min_cells=3)"
   ]
  },
  {
   "cell_type": "code",
   "execution_count": null,
   "id": "ea9d50ee-d812-4c7d-b83c-1e90b9626432",
   "metadata": {},
   "outputs": [],
   "source": [
    "sc.pp.filter_cells(data_5p, min_counts=1000)\n",
    "sc.pp.filter_cells(data_5p, min_genes=100)\n",
    "sc.pp.filter_genes(data_5p, min_cells=3)"
   ]
  },
  {
   "cell_type": "code",
   "execution_count": null,
   "id": "17e834e6-d6d3-443a-a04c-c22a55c59881",
   "metadata": {},
   "outputs": [],
   "source": [
    "sc.pp.filter_cells(data_pip, min_counts=1000)\n",
    "sc.pp.filter_cells(data_pip, min_genes=100)\n",
    "sc.pp.filter_genes(data_pip, min_cells=3)"
   ]
  },
  {
   "cell_type": "code",
   "execution_count": null,
   "id": "46279e06-0425-4401-b850-339badbe7840",
   "metadata": {},
   "outputs": [],
   "source": [
    "sc.pl.violin(\n",
    "    data_3p,\n",
    "    [\"n_genes_by_counts\", \"total_counts\", \"pct_counts_mt\"],\n",
    "    jitter=0.4,\n",
    "    multi_panel=True,\n",
    ")"
   ]
  },
  {
   "cell_type": "code",
   "execution_count": null,
   "id": "49f6a46a-b096-4749-9fc2-6c2654d35fe6",
   "metadata": {},
   "outputs": [],
   "source": [
    "sc.pl.violin(\n",
    "    data_5p,\n",
    "    [\"n_genes_by_counts\", \"total_counts\", \"pct_counts_mt\"],\n",
    "    jitter=0.4,\n",
    "    multi_panel=True,\n",
    ")"
   ]
  },
  {
   "cell_type": "code",
   "execution_count": null,
   "id": "8095cc37-cb86-49e5-a4e0-d11f6f072b30",
   "metadata": {},
   "outputs": [],
   "source": [
    "sc.pl.violin(\n",
    "    data_pip,\n",
    "    [\"n_genes_by_counts\", \"total_counts\", \"pct_counts_mt\"],\n",
    "    jitter=0.4,\n",
    "    multi_panel=True,\n",
    ")"
   ]
  },
  {
   "cell_type": "code",
   "execution_count": null,
   "id": "86f0adb7-8097-4ea2-aa75-c046dcdaa90c",
   "metadata": {},
   "outputs": [],
   "source": [
    "data_3p.X.sum()"
   ]
  },
  {
   "cell_type": "code",
   "execution_count": null,
   "id": "355c595f-0be2-4b3d-b734-865ec599e0fe",
   "metadata": {},
   "outputs": [],
   "source": [
    "data_5p.X.sum()"
   ]
  },
  {
   "cell_type": "code",
   "execution_count": null,
   "id": "6f8e1270-8ed9-418d-a468-8c44e06cb5c6",
   "metadata": {},
   "outputs": [],
   "source": [
    "data_pip.X.sum()"
   ]
  },
  {
   "cell_type": "code",
   "execution_count": null,
   "id": "c21b9cd3-fb5f-4269-8186-7d42f02d5dd6",
   "metadata": {},
   "outputs": [],
   "source": [
    "data_3p"
   ]
  },
  {
   "cell_type": "code",
   "execution_count": null,
   "id": "0a39c48e-172b-47cc-af2f-8da09c9eecd5",
   "metadata": {},
   "outputs": [],
   "source": [
    "data_5p"
   ]
  },
  {
   "cell_type": "code",
   "execution_count": null,
   "id": "94f44bf1-f03e-4a92-9bc6-ac1e582c3b52",
   "metadata": {},
   "outputs": [],
   "source": [
    "data_pip"
   ]
  },
  {
   "cell_type": "code",
   "execution_count": null,
   "id": "6396f0c6-2f18-44f5-9a75-436016458694",
   "metadata": {},
   "outputs": [],
   "source": [
    "adata_combined = data_3p.concatenate(data_5p, data_pip, batch_key=\"batch\")"
   ]
  },
  {
   "cell_type": "code",
   "execution_count": null,
   "id": "1ce84592-8cb0-41e3-958b-7182a4cf437f",
   "metadata": {},
   "outputs": [],
   "source": [
    "adata_combined"
   ]
  },
  {
   "cell_type": "code",
   "execution_count": null,
   "id": "c1f7ae24-a1c1-414d-8c68-1f85514ce1c0",
   "metadata": {},
   "outputs": [],
   "source": [
    "sc.pp.normalize_total(adata_combined, target_sum=1e4)\n",
    "sc.pp.log1p(adata_combined)"
   ]
  },
  {
   "cell_type": "code",
   "execution_count": null,
   "id": "23dde81c-9fc8-4296-8e18-b5ca3376ae81",
   "metadata": {},
   "outputs": [],
   "source": [
    "sc.pp.highly_variable_genes(adata_combined, n_top_genes=2000)"
   ]
  },
  {
   "cell_type": "code",
   "execution_count": null,
   "id": "fe25c5ad-3629-4893-8dab-37aa8b002577",
   "metadata": {},
   "outputs": [],
   "source": [
    "sc.pp.pca(adata_combined)"
   ]
  },
  {
   "cell_type": "code",
   "execution_count": null,
   "id": "c9d4cd31-1cd2-4804-b2d6-683730c7be51",
   "metadata": {},
   "outputs": [],
   "source": [
    "sc.pp.neighbors(adata_combined, use_rep=\"X_pca\")\n",
    "sc.tl.umap(adata_combined)\n",
    "sc.tl.leiden(adata_combined, flavor=\"igraph\", n_iterations=2)"
   ]
  },
  {
   "cell_type": "markdown",
   "id": "c03a86a3-6888-4439-ab6a-3984e7c06415",
   "metadata": {},
   "source": [
    "We can check the UMAP before integration."
   ]
  },
  {
   "cell_type": "code",
   "execution_count": null,
   "id": "f6cab6c9-6389-4bfc-a792-ce691cb6a204",
   "metadata": {},
   "outputs": [],
   "source": [
    "sc.pl.umap(adata_combined, color=[\"leiden\"])"
   ]
  },
  {
   "cell_type": "code",
   "execution_count": null,
   "id": "1f678b6b-9e4c-4d6b-b9d9-ac8d18978dac",
   "metadata": {},
   "outputs": [],
   "source": [
    "sc.pl.umap(adata_combined, color=[\"batch\"])"
   ]
  },
  {
   "cell_type": "code",
   "execution_count": null,
   "id": "b0964b48-b43a-4126-8201-052f3ce17d9d",
   "metadata": {},
   "outputs": [],
   "source": [
    "# UMAP with cluster labels from standalone clusterings"
   ]
  },
  {
   "cell_type": "markdown",
   "id": "7772e0c2-12bc-4cde-80f6-9df71bfbb794",
   "metadata": {},
   "source": [
    "The different libraries do not overlap almost at all.\n",
    "\n",
    "We will run Harmony integration now, but first make a backup of the UMAP to be able to compare to later."
   ]
  },
  {
   "cell_type": "code",
   "execution_count": null,
   "id": "73b8fb05-8930-45a8-8254-97518c8c5579",
   "metadata": {},
   "outputs": [],
   "source": [
    "if 'X_umap' in adata_combined.obsm:\n",
    "    adata_combined.obsm['X_umap_pre'] = adata_combined.obsm['X_umap'].copy()\n",
    "if 'leiden' in adata_combined.obs:\n",
    "    adata_combined.obs['leiden_pre'] = adata_combined.obs['leiden'].copy()\n",
    "    if 'leiden_colors' in adata_combined.uns:\n",
    "        adata_combined.uns['leiden_pre_colors'] = list(adata_combined.uns['leiden_colors'])"
   ]
  },
  {
   "cell_type": "code",
   "execution_count": null,
   "id": "4c5540ea-1149-4710-a0ea-502980584314",
   "metadata": {},
   "outputs": [],
   "source": [
    "sce.pp.harmony_integrate(adata_combined, \"batch\")"
   ]
  },
  {
   "cell_type": "code",
   "execution_count": null,
   "id": "eba77138-3ca2-4a21-a87f-4e3b412ebee4",
   "metadata": {},
   "outputs": [],
   "source": [
    "sc.pp.neighbors(adata_combined, use_rep=\"X_pca_harmony\")"
   ]
  },
  {
   "cell_type": "code",
   "execution_count": null,
   "id": "3eca4b4d-e35a-475c-86cc-bd2d482873d2",
   "metadata": {},
   "outputs": [],
   "source": [
    "sc.tl.umap(adata_combined)"
   ]
  },
  {
   "cell_type": "code",
   "execution_count": null,
   "id": "7e4572af-34e3-412c-9084-26efebe827c1",
   "metadata": {},
   "outputs": [],
   "source": [
    "adata_combined.obs['leiden'] = (\n",
    "    adata_combined.obs['leiden']\n",
    "      .cat.remove_unused_categories()\n",
    ")\n",
    "\n",
    "null = adata_combined.uns.pop('leiden_colors', None)"
   ]
  },
  {
   "cell_type": "code",
   "execution_count": null,
   "id": "52c33e03-78d3-4914-80c3-cc3d61183ee1",
   "metadata": {},
   "outputs": [],
   "source": [
    "sc.tl.leiden(adata_combined, flavor=\"igraph\", n_iterations=2)"
   ]
  },
  {
   "cell_type": "code",
   "execution_count": null,
   "id": "c14cd944-b96c-4cc1-acda-6cbe652bb642",
   "metadata": {},
   "outputs": [],
   "source": [
    "sc.pl.umap(adata_combined, color=[\"leiden\"])"
   ]
  },
  {
   "cell_type": "code",
   "execution_count": null,
   "id": "8ccf6515-6055-4999-a124-f60231cf5735",
   "metadata": {},
   "outputs": [],
   "source": [
    "sc.pl.umap(adata_combined, color=[\"batch\"])"
   ]
  },
  {
   "cell_type": "code",
   "execution_count": null,
   "id": "f79acd10-8b48-495b-85eb-8588b25d0af1",
   "metadata": {},
   "outputs": [],
   "source": [
    "# adding library labels\n",
    "adata_combined.obs[\"batch\"] = adata_combined.obs[\"batch\"].cat.rename_categories([\"10x 3'\", \"10x 5'\", \"PIPseq\"])"
   ]
  },
  {
   "cell_type": "code",
   "execution_count": null,
   "id": "3b683898-25e3-4833-8c7e-e28d66f4bfc9",
   "metadata": {},
   "outputs": [],
   "source": [
    "\n",
    "sc.pl.umap(adata_combined, color=[\"batch\"], show=False, legend_loc=\"right margin\")\n",
    "plt.savefig(figure_path / \"integrated_UMAP_colored_by_batch.svg\", bbox_inches=\"tight\")"
   ]
  },
  {
   "cell_type": "markdown",
   "id": "9d14fb39-0eba-4d91-b7c1-91f384a15a10",
   "metadata": {},
   "source": [
    "To have a better idea of what the Harmony integration did, we will load back the clustering results from earlier."
   ]
  },
  {
   "cell_type": "code",
   "execution_count": null,
   "id": "40d13f4c-33c4-4613-9aba-0ae20b8e2b0b",
   "metadata": {},
   "outputs": [],
   "source": [
    "sample_order = [MASSEQ_KEYS[i] for i in (1, 3, 4)]\n",
    "sample_order"
   ]
  },
  {
   "cell_type": "code",
   "execution_count": null,
   "id": "64bec78e-b480-4fcf-bb27-771ce1c6c934",
   "metadata": {},
   "outputs": [],
   "source": [
    "with open(data_path / \"shortread_clustering_100k.pickle\", \"rb\") as fh:\n",
    "    sr_clustering = pickle.load(fh)\n",
    "\n",
    "with open(data_path / \"shortread_stats_100k.pickle\", \"rb\") as fh:\n",
    "    ix_dict = pickle.load(fh)[\"ix_dict\"]\n",
    "\n",
    "with open(data_path / \"shortread_stats_100k.pickle\", \"rb\") as fh:\n",
    "    sr_numis = pickle.load(fh)[\"numis\"]"
   ]
  },
  {
   "cell_type": "code",
   "execution_count": null,
   "id": "ce47dd17-c62c-466d-84ea-36f4d605958a",
   "metadata": {},
   "outputs": [],
   "source": [
    "c_arrays = dict()\n",
    "for key in SHORTREAD_KEYS:\n",
    "    _leaf_nodes = cluster_leaf_nodes(sr_clustering[key][0])\n",
    "    _label_array = cluster_labels(sr_clustering[key][0], _leaf_nodes)\n",
    "    _k2i = {k: i for i, k in enumerate(sorted(_leaf_nodes))}    \n",
    "    c_arrays[key] = np.array([_k2i.get(k, -1) for k in _label_array])"
   ]
  },
  {
   "cell_type": "code",
   "execution_count": null,
   "id": "a5ee8d21-b3ea-4a42-9db9-b1d3fee5e754",
   "metadata": {},
   "outputs": [],
   "source": [
    "bc_dict = dict()\n",
    "\n",
    "for fp in data_path.glob(\"10x*/outs/raw_feature_bc_matrix/barcodes.tsv.gz\"):\n",
    "    fp = fp.parent\n",
    "    print(fp)\n",
    "    with gzip.open(fp / \"barcodes.tsv.gz\", \"rt\") as fh:\n",
    "        # strip off the -1 suffix from barcodes\n",
    "        bc_dict[fp.parent.parent.name] = [line.strip()[:-2] for line in fh]\n",
    "\n",
    "fp = data_path / \"pipseq_pbmc\"\n",
    "print(fp)\n",
    "with gzip.open(fp / \"raw_matrix\" / \"barcodes.tsv.gz\", \"rt\") as fh:\n",
    "    bc_dict[fp.name] = [line.strip() for line in fh]\n"
   ]
  },
  {
   "cell_type": "code",
   "execution_count": null,
   "id": "31ebd102-679d-4519-be86-8f8c383b1f55",
   "metadata": {},
   "outputs": [],
   "source": [
    "bc_to_cluster = {\n",
    "    k: dict(\n",
    "        zip(\n",
    "            (bc for bc,i in zip(bc_dict[k2], ix_dict[k2]) if i),\n",
    "            c_arrays[k2]\n",
    "        )\n",
    "    ) for k, k2 in zip(sample_order, [\"pipseq_pbmc\", \"10x_3p_pbmc\", \"10x_5p_pbmc\"])\n",
    "}"
   ]
  },
  {
   "cell_type": "code",
   "execution_count": null,
   "id": "13ed73e1-5f9b-4fd4-b129-3c3fc7929946",
   "metadata": {},
   "outputs": [],
   "source": [
    "# same as the labels from notebook 01\n",
    "cluster_names = {\n",
    "    (\"PIPseq\", \"0.8x\"): {\n",
    "        0: 'CD4 T cells 1',\n",
    "        1: 'CD4 T cells 2',\n",
    "        2: 'Naïve CD4',\n",
    "        3: 'Cytotoxic T cells',\n",
    "        4: 'Innate Lymphoid',\n",
    "        5: 'CD16 Monocytes',\n",
    "        6: 'CD14 Monocytes',\n",
    "        7: 'B cells',\n",
    "    },\n",
    "    (\"10x 3'\",): {\n",
    "        0: 'CD4 T cells 1',\n",
    "        1: 'CD4 T cells 2',\n",
    "        2: 'Naïve CD4',\n",
    "        3: 'Cytotoxic T cells',\n",
    "        4: 'B cells',\n",
    "        5: 'CD14 Monocytes',\n",
    "        6: 'CD16 Monocytes',\n",
    "        7: 'DC',\n",
    "    },\n",
    "    (\"10x 5'\",): {\n",
    "        0: 'CD4 T cells 1',\n",
    "        1: 'CD4 T cells 2',\n",
    "        2: 'Naïve CD4',\n",
    "        3: 'Cytotoxic T cells',\n",
    "        4: 'Innate Lymphoid',\n",
    "        5: 'B cells',\n",
    "        6: 'CD14 Monocytes',\n",
    "        7: 'CD16 Monocytes',\n",
    "    }\n",
    "}\n",
    "\n",
    "cluster_reverse_labels = {\n",
    "    k: {v: i for i,v in cluster_names[k].items()}\n",
    "    for k in cluster_names\n",
    "}\n"
   ]
  },
  {
   "cell_type": "markdown",
   "id": "7c39a702-6d0a-45e7-bc6c-4815f59a507f",
   "metadata": {},
   "source": [
    "Reorganize the data to add as a column to our scanpy object."
   ]
  },
  {
   "cell_type": "code",
   "execution_count": null,
   "id": "93b34488-1044-469f-bbbf-c79f4f827082",
   "metadata": {},
   "outputs": [],
   "source": [
    "batch_to_bccluster = {}\n",
    "for k, d in bc_to_cluster.items():\n",
    "    batch_name = k[0]\n",
    "    batch_to_bccluster[batch_name] = {str(bc): int(c) for bc, c in d.items()}\n",
    "\n",
    "batch_to_names = {k[0]: v for k, v in cluster_names.items()}"
   ]
  },
  {
   "cell_type": "code",
   "execution_count": null,
   "id": "c60bcb5c-7084-4093-ac33-4981a9022f61",
   "metadata": {},
   "outputs": [],
   "source": [
    "raw_bc = (\n",
    "    (adata_combined.obs['barcode'].astype(str)\n",
    "     if 'barcode' in adata_combined.obs.columns\n",
    "     else pd.Series(adata_combined.obs_names, index=adata_combined.obs_names).astype(str))\n",
    "    .str.replace(r'(?:-\\d+)+$', '', regex=True)\n",
    ")"
   ]
  },
  {
   "cell_type": "code",
   "execution_count": null,
   "id": "429d70ad-c707-49dc-af18-02a4157624f2",
   "metadata": {},
   "outputs": [],
   "source": [
    "pairs_to_label = {}\n",
    "for batch, bc2cid in batch_to_bccluster.items():\n",
    "    names = batch_to_names.get(batch, {})\n",
    "    for bc, cid in bc2cid.items():\n",
    "        pairs_to_label[(batch, bc)] = names.get(int(cid), 'Unassigned')\n",
    "\n",
    "lookup = pd.Series(pairs_to_label)\n"
   ]
  },
  {
   "cell_type": "code",
   "execution_count": null,
   "id": "f4bd99aa-fb4e-4131-b679-7f7d634e5a7b",
   "metadata": {},
   "outputs": [],
   "source": [
    "keys = pd.MultiIndex.from_arrays([\n",
    "    adata_combined.obs['batch'].astype(str).values,\n",
    "    raw_bc.astype(str).values\n",
    "])\n",
    "labels = lookup.reindex(keys).values"
   ]
  },
  {
   "cell_type": "code",
   "execution_count": null,
   "id": "ffcbda22-4100-40f4-b79c-681bab3f9715",
   "metadata": {},
   "outputs": [],
   "source": [
    "adata_combined.obs['celltype'] = pd.Categorical(labels)"
   ]
  },
  {
   "cell_type": "markdown",
   "id": "252849c6-7f72-4725-9930-4a58a0b4c8b4",
   "metadata": {},
   "source": [
    "We can now compare the library and cell type before and after Harmony integration."
   ]
  },
  {
   "cell_type": "code",
   "execution_count": null,
   "id": "7035daf8-9245-48ec-8e2d-bc93140cbfef",
   "metadata": {},
   "outputs": [],
   "source": [
    "\n",
    "fig, axes = plt.subplots(2, 2, figsize=(16, 10), constrained_layout=True)\n",
    "\n",
    "# A) pre-integration, colored by batch\n",
    "sc.pl.embedding(\n",
    "    adata_combined, basis='X_umap_pre', color='batch',\n",
    "    ax=axes[0, 0], show=False, title='Pre-Harmony: batch',\n",
    "    legend_loc='right margin'\n",
    ")\n",
    "\n",
    "# B) pre-integration, colored by external labels\n",
    "sc.pl.embedding(\n",
    "    adata_combined, basis='X_umap_pre', color='celltype',\n",
    "    ax=axes[0, 1], show=False, title='Pre-Harmony: cell type',\n",
    "    legend_loc='right margin', legend_fontsize=8\n",
    ")\n",
    "\n",
    "# C) post-integration, colored by batch\n",
    "sc.pl.umap(\n",
    "    adata_combined, color='batch',\n",
    "    ax=axes[1, 0], show=False, title='Post-Harmony: batch',\n",
    "    legend_loc='right margin', legend_fontsize=8\n",
    ")\n",
    "\n",
    "# D) post-integration, colored by external labels\n",
    "sc.pl.umap(\n",
    "    adata_combined, color='celltype',\n",
    "    ax=axes[1, 1], show=False, title='Post-Harmony: cell type',\n",
    "    legend_loc='right margin', legend_fontsize=8\n",
    ")\n",
    "\n",
    "plt.savefig(figure_path / \"umaps_combined.svg\", format=\"svg\")"
   ]
  },
  {
   "cell_type": "code",
   "execution_count": null,
   "id": "d8ff808e-1f76-4db0-8be5-64d56b4f4121",
   "metadata": {},
   "outputs": [],
   "source": []
  }
 ],
 "metadata": {
  "kernelspec": {
   "display_name": "mdl-sc-isoform-2025-ms",
   "language": "python",
   "name": "mdl-sc-isoform-2025-ms"
  },
  "language_info": {
   "codemirror_mode": {
    "name": "ipython",
    "version": 3
   },
   "file_extension": ".py",
   "mimetype": "text/x-python",
   "name": "python",
   "nbconvert_exporter": "python",
   "pygments_lexer": "ipython3",
   "version": "3.10.16"
  }
 },
 "nbformat": 4,
 "nbformat_minor": 5
}
